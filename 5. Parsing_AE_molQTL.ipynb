{
 "cells": [
  {
   "attachments": {},
   "cell_type": "markdown",
   "metadata": {},
   "source": [
    "# Getting results from molQTL analyses in the Athero-Express\n",
    "\n",
    "This notebook extracts per-variant and per-gene results from a _cis_-acting and _trans_-acting eQTL and mQTL analysis of expression and DNA methylation in carotid plaques from the Athero-Express Biobank Study.\n",
    "\n",
    "## PGC\n",
    "\n",
    "We will use the European (`EUR`) data from the Psychiatric Genomics Consortium (PGC) meta-analysis of GWAS on major depressive disorder (MDD). This GWAS discovered a list of 602 loci associated to MDD.\n",
    "\n",
    "## Million Hearts\n",
    "\n",
    "We will use the trans-ancestry data - there is no other - from the 'Million Hearts' project on a meta-analysis of GWAS for coronary artery disease (CAD).\n",
    "\n",
    "## GIGASTROKE\n",
    "\n",
    "We will use the European (`EUR`) data from [GIGASTROKE](https://www.nature.com/articles/s41586-022-05165-3), these include the following 5 phenotypes. \n",
    "\n",
    "Phenotypes:\n",
    "\n",
    "- `AS` c.q. `ALLSTROKE` = all stroke\n",
    "- `AIS` c.q. `IS` = all ischemic stroke\n",
    "- `CES` = cardio-embolic (ischemic) stroke\n",
    "- `LAS` = large artery (ischemic) stroke\n",
    "- `SVS` c.q. `SVD` = small vessel disease/stroke\n",
    "\n",
    "We looked up the gigastroke loci and from these data as follows:\n",
    "\n",
    "```\n",
    "python scripts/loci_lookup.py -A targets/gigastroke_las_loci.txt -cA Chr BP -B ~/PLINK/_GWAS_Datasets/_ISGC/gigastroke/LAS_EUR_GCST90104538_buildGRCh37.tsv.gz -cB chromosome base_pair_location -o OUTPUT/20231211_gigastroke_loci.LAS_EUR_GCST90104538_buildGRCh37.txt\n",
    "```\n",
    "\n",
    "We also looked up all the PGC hits in the European data from `GIGASTROKE` as follows:\n",
    "\n",
    "```\n",
    "python scripts/loci_lookup.py -A /[path_to_google_drive]/\\#Projects/TO_AITION/MR\\ CVD\\ MDD/GWAS/PGC/PGC3_cojo_622.txt -cA CHR BP -B /[path_to_plink_data]/_GWAS_Datasets/_ISGC/gigastroke/LAS_EUR_GCST90104538_buildGRCh37.tsv.gz -cB chromosome base_pair_location -o OUTPUT/20231211_LAS_EUR_GCST90104538_buildGRCh37.toPGC.txt\n",
    "```\n",
    "\n",
    "## CAC\n",
    "\n",
    "We will use the European (`EUR`) data from [coronary artery calcification (CAC) GWAS](https://www.nature.com/articles/s41588-023-01518-4). \n",
    "\n",
    "## CIMT\n",
    "\n",
    "We will use the European (`EUR`) data from [carotid intima-media thickness (cIMT) GWAS](https://www.nature.com/articles/s41467-018-07340-5). This includes two phenotypes:\n",
    "\n",
    "- `cIMT`, which is carotid IMT\n",
    "- `plaque`, which is the presence of plaque defined as >25% `cIMT`"
   ]
  },
  {
   "attachments": {},
   "cell_type": "markdown",
   "metadata": {},
   "source": [
    "## Import necessary libraries"
   ]
  },
  {
   "cell_type": "code",
   "execution_count": 1,
   "metadata": {},
   "outputs": [],
   "source": [
    "# Function to check for installation of required packages\n",
    "def check_install_package(package_name):\n",
    "    try:\n",
    "        importlib.import_module(package_name)\n",
    "    except ImportError:\n",
    "        print(f'{package_name} is not installed. Installing it now...')\n",
    "        subprocess.check_call(['pip', 'install', package_name])\n",
    "\n",
    "import os\n",
    "import glob\n",
    "import importlib\n",
    "import subprocess\n",
    "import sys\n",
    "\n",
    "# argument parsing\n",
    "import argparse\n",
    "\n",
    "# get date and time\n",
    "from datetime import datetime\n",
    "\n",
    "# Pandas is a fast, powerful, flexible and easy to use open source data analysis and manipulation tool\n",
    "check_install_package('pandas')\n",
    "import pandas as pd\n",
    "\n",
    "# pyarrow is supperior to loading parquet files\n",
    "check_install_package('pyarrow')\n",
    "import pyarrow as pa\n",
    "import pyarrow.parquet as pq\n",
    "\n",
    "# polars is a fast dataframe library\n",
    "check_install_package('polars')\n",
    "import polars as pl\n",
    "\n",
    "# for statistical analysis\n",
    "check_install_package('scipy')\n",
    "from scipy import stats\n",
    "import numpy as np\n",
    "\n",
    "# scientific colourmaps\n",
    "# https://www.fabiocrameri.ch/ws/media-library/8c4b111121ff448e843dfef9220bf613/readme_scientificcolourmaps.pdf\n",
    "check_install_package('cmcrameri')\n",
    "import cmcrameri as ccm\n",
    "from cmcrameri import cm\n",
    "\n",
    "# for plotting\n",
    "check_install_package('matplotlib')\n",
    "import matplotlib\n",
    "import matplotlib.pyplot as plt\n",
    "# if using a Jupyter notebook, include:\n",
    "%matplotlib inline\n",
    "\n",
    "# use Seaborn for visualisations\n",
    "check_install_package('seaborn')\n",
    "import seaborn as sns\n",
    "\n",
    "# for handling GWAS data\n",
    "import gwaslab as gl"
   ]
  },
  {
   "attachments": {},
   "cell_type": "markdown",
   "metadata": {},
   "source": [
    "Setting some functions and standard variables, as well creating some directories. "
   ]
  },
  {
   "cell_type": "code",
   "execution_count": 2,
   "metadata": {},
   "outputs": [
    {
     "name": "stdout",
     "output_type": "stream",
     "text": [
      "Checking contents of the reference directory:\n",
      "\u001b[34m1000G\u001b[m\u001b[m\n",
      "\u001b[34mHRC_r1_1_2016\u001b[m\u001b[m\n",
      "\u001b[34mHRCr11_1000Gp3v5\u001b[m\u001b[m\n",
      "\u001b[34mdbSNP\u001b[m\u001b[m\n",
      "\u001b[34mtcga\u001b[m\u001b[m\n",
      "\n",
      "Checking contents of the Google Drive directory:\n",
      "\u001b[34mCAC\u001b[m\u001b[m\n",
      "\u001b[34mCIMT\u001b[m\u001b[m\n",
      "\u001b[34mGIGASTROKE\u001b[m\u001b[m\n",
      "\u001b[34mMILLIONHEARTS\u001b[m\u001b[m\n",
      "\u001b[34mPGC\u001b[m\u001b[m\n",
      "\n",
      "Checking contents of the nominal cis-eQTL data directory:\n",
      "README.md\n",
      "tensorqtl_cis_nominal_chr01.cis_qtl_pairs.chr01.parquet\n",
      "tensorqtl_cis_nominal_chr02.cis_qtl_pairs.chr02.parquet\n",
      "tensorqtl_cis_nominal_chr03.cis_qtl_pairs.chr03.parquet\n",
      "tensorqtl_cis_nominal_chr04.cis_qtl_pairs.chr04.parquet\n",
      "tensorqtl_cis_nominal_chr05.cis_qtl_pairs.chr05.parquet\n",
      "tensorqtl_cis_nominal_chr06.cis_qtl_pairs.chr06.parquet\n",
      "tensorqtl_cis_nominal_chr07.cis_qtl_pairs.chr07.parquet\n",
      "tensorqtl_cis_nominal_chr08.cis_qtl_pairs.chr08.parquet\n",
      "tensorqtl_cis_nominal_chr09.cis_qtl_pairs.chr09.parquet\n",
      "tensorqtl_cis_nominal_chr10.cis_qtl_pairs.chr10.parquet\n",
      "tensorqtl_cis_nominal_chr11.cis_qtl_pairs.chr11.parquet\n",
      "tensorqtl_cis_nominal_chr12.cis_qtl_pairs.chr12.parquet\n",
      "tensorqtl_cis_nominal_chr13.cis_qtl_pairs.chr13.parquet\n",
      "tensorqtl_cis_nominal_chr14.cis_qtl_pairs.chr14.parquet\n",
      "tensorqtl_cis_nominal_chr15.cis_qtl_pairs.chr15.parquet\n",
      "tensorqtl_cis_nominal_chr16.cis_qtl_pairs.chr16.parquet\n",
      "tensorqtl_cis_nominal_chr17.cis_qtl_pairs.chr17.parquet\n",
      "tensorqtl_cis_nominal_chr18.cis_qtl_pairs.chr18.parquet\n",
      "tensorqtl_cis_nominal_chr19.cis_qtl_pairs.chr19.parquet\n",
      "tensorqtl_cis_nominal_chr20.cis_qtl_pairs.chr20.parquet\n",
      "tensorqtl_cis_nominal_chr21.cis_qtl_pairs.chr21.parquet\n",
      "tensorqtl_cis_nominal_chr22.cis_qtl_pairs.chr22.parquet\n",
      "tensorqtl_nominal_cis_qtl_pairs.annot.parquet\n",
      "tensorqtl_nominal_cis_qtl_pairs.sumstats.gwaslab\n",
      "tensorqtl_nominal_cis_qtl_pairs.sumstats.log\n",
      "tensorqtl_nominal_cis_qtl_pairs.sumstats.parquet\n",
      "tensorqtl_nominal_cis_qtl_pairs.sumstats.top.csv\n",
      "tensorqtl_nominal_cis_qtl_pairs.sumstats.top.xlsx\n",
      "\n",
      "Checking contents of the permuted cis-mQTL data directory:\n",
      "README.md\n",
      "tensormqtl.perm_cis_mqtl.txt\n",
      "tensormqtl_cis_chr1.cis_qtl.txt.gz\n",
      "tensormqtl_cis_chr10.cis_qtl.txt.gz\n",
      "tensormqtl_cis_chr11.cis_qtl.txt.gz\n",
      "tensormqtl_cis_chr12.cis_qtl.txt.gz\n",
      "tensormqtl_cis_chr13.cis_qtl.txt.gz\n",
      "tensormqtl_cis_chr14.cis_qtl.txt.gz\n",
      "tensormqtl_cis_chr15.cis_qtl.txt.gz\n",
      "tensormqtl_cis_chr16.cis_qtl.txt.gz\n",
      "tensormqtl_cis_chr17.cis_qtl.txt.gz\n",
      "tensormqtl_cis_chr18.cis_qtl.txt.gz\n",
      "tensormqtl_cis_chr19.cis_qtl.txt.gz\n",
      "tensormqtl_cis_chr2.cis_qtl.txt.gz\n",
      "tensormqtl_cis_chr20.cis_qtl.txt.gz\n",
      "tensormqtl_cis_chr21.cis_qtl.txt.gz\n",
      "tensormqtl_cis_chr22.cis_qtl.txt.gz\n",
      "tensormqtl_cis_chr3.cis_qtl.txt.gz\n",
      "tensormqtl_cis_chr4.cis_qtl.txt.gz\n",
      "tensormqtl_cis_chr5.cis_qtl.txt.gz\n",
      "tensormqtl_cis_chr6.cis_qtl.txt.gz\n",
      "tensormqtl_cis_chr7.cis_qtl.txt.gz\n",
      "tensormqtl_cis_chr8.cis_qtl.txt.gz\n",
      "tensormqtl_cis_chr9.cis_qtl.txt.gz\n",
      "\n",
      "Checking contents of the permuted trans-eQTL data directory:\n",
      "README.md\n",
      "tensorqtl_trans_full.trans_qtl_pairs.parquet\n",
      "\n",
      "Checking contents of the permuted trans-eQTL data directory:\n",
      "README.md\n",
      "tensormqtl_perm_trans_qtl_pairs.annot.parquet\n",
      "tensormqtl_trans_chr1.trans_qtl_pairs.parquet\n",
      "tensormqtl_trans_chr10.trans_qtl_pairs.parquet\n",
      "tensormqtl_trans_chr11.trans_qtl_pairs.parquet\n",
      "tensormqtl_trans_chr12.trans_qtl_pairs.parquet\n",
      "tensormqtl_trans_chr13.trans_qtl_pairs.parquet\n",
      "tensormqtl_trans_chr14.trans_qtl_pairs.parquet\n",
      "tensormqtl_trans_chr15.trans_qtl_pairs.parquet\n",
      "tensormqtl_trans_chr16.trans_qtl_pairs.parquet\n",
      "tensormqtl_trans_chr17.trans_qtl_pairs.parquet\n",
      "tensormqtl_trans_chr18.trans_qtl_pairs.parquet\n",
      "tensormqtl_trans_chr19.trans_qtl_pairs.parquet\n",
      "tensormqtl_trans_chr2.trans_qtl_pairs.parquet\n",
      "tensormqtl_trans_chr20.trans_qtl_pairs.parquet\n",
      "tensormqtl_trans_chr21.trans_qtl_pairs.parquet\n",
      "tensormqtl_trans_chr22.trans_qtl_pairs.parquet\n",
      "tensormqtl_trans_chr3.trans_qtl_pairs.parquet\n",
      "tensormqtl_trans_chr4.trans_qtl_pairs.parquet\n",
      "tensormqtl_trans_chr5.trans_qtl_pairs.parquet\n",
      "tensormqtl_trans_chr6.trans_qtl_pairs.parquet\n",
      "tensormqtl_trans_chr7.trans_qtl_pairs.parquet\n",
      "tensormqtl_trans_chr8.trans_qtl_pairs.parquet\n",
      "tensormqtl_trans_chr9.trans_qtl_pairs.parquet\n",
      "\n"
     ]
    }
   ],
   "source": [
    "# Create directories for the GWAS data and the reference data\n",
    "import os\n",
    "from subprocess import check_output\n",
    "\n",
    "# set some general defaults\n",
    "PGC_HITS = \"PGC\"\n",
    "\n",
    "POPULATION = \"EUR\"\n",
    "\n",
    "# general plotting directory\n",
    "PLOTS_loc = \"PLOTS\"\n",
    "\n",
    "# location to put molQTL results\n",
    "molQTL_loc = \"molQTL_results\"\n",
    "\n",
    "# Check if the directory exists\n",
    "if not os.path.exists(molQTL_loc):\n",
    "    # If it doesn't exist, create it\n",
    "    os.makedirs(molQTL_loc)\n",
    "\n",
    "# Check if the directory exists\n",
    "if not os.path.exists(PLOTS_loc):\n",
    "    # If it doesn't exist, create it\n",
    "    os.makedirs(PLOTS_loc)\n",
    "\n",
    "# # regional association plots directory\n",
    "# REG_PLOTS_loc = PLOTS_loc + \"/Regional_Association_Plots\"\n",
    "\n",
    "# # Check if the directory exists\n",
    "# if not os.path.exists(REG_PLOTS_loc):\n",
    "#     # If it doesn't exist, create it\n",
    "#     os.makedirs(REG_PLOTS_loc)\n",
    "\n",
    "# Reference data directory\n",
    "REF_loc = \"/Users/slaan3/PLINK/references\"\n",
    "print(\"Checking contents of the reference directory:\")\n",
    "print(check_output([\"ls\", os.path.join(REF_loc)]).decode(\"utf8\"))\n",
    "\n",
    "# GWAS data directory\n",
    "GD_loc = \"/Users/slaan3/Library/CloudStorage/GoogleDrive-s.w.vanderlaan@gmail.com/My Drive/Genomics/#Projects/TO_AITION/MR CVD MDD/GWAS\"\n",
    "print(\"Checking contents of the Google Drive directory:\")\n",
    "print(check_output([\"ls\", os.path.join(GD_loc)]).decode(\"utf8\"))\n",
    "\n",
    "# molQTL data directory\n",
    "NOM_CIS_EQTL_loc = \"/Users/slaan3/git/CirculatoryHealth/molqtl/results/version1_aernas1_firstrun/nom_cis_eqtl\"\n",
    "print(\"Checking contents of the nominal cis-eQTL data directory:\")\n",
    "print(check_output([\"ls\", os.path.join(NOM_CIS_EQTL_loc)]).decode(\"utf8\"))\n",
    "\n",
    "PERM_CIS_MQTL_loc = \"/Users/slaan3/git/CirculatoryHealth/molqtl/results/perm_cis_mqtl\"\n",
    "print(\"Checking contents of the permuted cis-mQTL data directory:\")\n",
    "print(check_output([\"ls\", os.path.join(PERM_CIS_MQTL_loc)]).decode(\"utf8\"))\n",
    "\n",
    "PERM_TRANS_EQTL_loc = \"/Users/slaan3/git/CirculatoryHealth/molqtl/results/version1_aernas1_firstrun/perm_trans_eqtl\"\n",
    "print(\"Checking contents of the permuted trans-eQTL data directory:\")\n",
    "print(check_output([\"ls\", os.path.join(PERM_TRANS_EQTL_loc)]).decode(\"utf8\"))\n",
    "\n",
    "PERM_TRANS_MQTL_loc = (\n",
    "    \"/Users/slaan3/git/CirculatoryHealth/molqtl/results/perm_trans_mqtl\"\n",
    ")\n",
    "print(\"Checking contents of the permuted trans-eQTL data directory:\")\n",
    "print(check_output([\"ls\", os.path.join(PERM_TRANS_MQTL_loc)]).decode(\"utf8\"))"
   ]
  },
  {
   "cell_type": "code",
   "execution_count": null,
   "metadata": {},
   "outputs": [],
   "source": [
    "# Example function to get data\n",
    "\n",
    "import os\n",
    "import polars as pl\n",
    "import pandas as pd\n",
    "\n",
    "\n",
    "def merge_and_export(target_variants, sumstats, left_col, right_col, sort_column, output_csv):\n",
    "    print(\"Merging target variants with nominal cis-eQTLs.\")\n",
    "\n",
    "    # Perform the join operation\n",
    "    temp = target_variants.join(\n",
    "        sumstats, left_on=left_col, right_on=right_col, how=\"inner\"\n",
    "    )\n",
    "\n",
    "    print(\n",
    "        f'Sorting the DataFrame by column \"{sort_column}\" in descending order.')\n",
    "    # Sort the DataFrame by specified column in descending order\n",
    "    result = temp.sort(sort_column)\n",
    "    del temp\n",
    "\n",
    "    print(\"Showing the first 5 rows of the DataFrame.\")\n",
    "    # Display the sorted DataFrame in descending order\n",
    "    print(result)\n",
    "\n",
    "    print(\"Exporting the Polars DataFrame to a CSV file.\")\n",
    "    # Export the Polars DataFrame to a CSV file\n",
    "    result.write_csv(output_csv)\n",
    "\n",
    "\n",
    "# En voor elke target_variant roep je het dan aan als:\n",
    "merge_and_export(target_variants_pgc, sumstats_nom_cis_eqtl, \"VariantID\", \"VariantID\",\n",
    "                 \"pval_nominal\", os.path.join(molQTL_loc, \"pgc_target_variants_nom_cis_eqtl.csv\"))"
   ]
  },
  {
   "cell_type": "markdown",
   "metadata": {},
   "source": [
    "## Loading data\n",
    "\n",
    "Loading the different datasets."
   ]
  },
  {
   "cell_type": "code",
   "execution_count": 3,
   "metadata": {},
   "outputs": [
    {
     "name": "stdout",
     "output_type": "stream",
     "text": [
      "PGC3_cojo_622.txt\n",
      "\n"
     ]
    }
   ],
   "source": [
    "# Input data files are available in the \"../input/\" directory.\n",
    "# For example, running this (by clicking run or pressing Shift+Enter) will list the files in the input directory\n",
    "\n",
    "from subprocess import check_output\n",
    "\n",
    "print(check_output([\"ls\", os.path.join(GD_loc, PGC_HITS)]).decode(\"utf8\"))"
   ]
  },
  {
   "cell_type": "markdown",
   "metadata": {},
   "source": [
    "# Targets\n",
    "\n",
    "Here we load the list of genes and variants from the GWAS."
   ]
  },
  {
   "cell_type": "code",
   "execution_count": 23,
   "metadata": {},
   "outputs": [],
   "source": [
    "import polars as pl\n",
    "\n",
    "# polars.read_excel(\n",
    "# source: str | BytesIO | Path | BinaryIO | bytes,\n",
    "# *,\n",
    "# sheet_id: None = None,\n",
    "# sheet_name: str,\n",
    "# engine: Literal['xlsx2csv', 'openpyxl', 'pyxlsb'] | None = None,\n",
    "# xlsx2csv_options: dict[str, Any] | None = None,\n",
    "# read_csv_options: dict[str, Any] | None = None,\n",
    "# schema_overrides: SchemaDict | None = None,\n",
    "# raise_if_empty: bool = True,\n",
    "# )\n",
    "\n",
    "target_variants_pgc = pl.read_excel(\n",
    "    source=os.path.join(\"targets/targets.xlsx\"), sheet_name=\"Variants\"\n",
    ")\n",
    "\n",
    "target_variants_millionhearts = pl.read_excel(\n",
    "    source=os.path.join(\"targets/targets.xlsx\"), sheet_name=\"CAD\"\n",
    ")\n",
    "\n",
    "target_variants_gigastroke = pl.read_excel(\n",
    "    source=os.path.join(\"targets/targets.xlsx\"), sheet_name=\"GIGASTROKE_IS\"\n",
    ")\n",
    "\n",
    "target_variants_cac = pl.read_excel(\n",
    "    source=os.path.join(\"targets/targets.xlsx\"), sheet_name=\"CAC\"\n",
    ")\n",
    "\n",
    "target_variants_cimt = pl.read_excel(\n",
    "    source=os.path.join(\"targets/targets.xlsx\"), sheet_name=\"CIMT\"\n",
    ")"
   ]
  },
  {
   "cell_type": "code",
   "execution_count": 5,
   "metadata": {},
   "outputs": [
    {
     "data": {
      "text/html": [
       "<div><style>\n",
       ".dataframe > thead > tr > th,\n",
       ".dataframe > tbody > tr > td {\n",
       "  text-align: right;\n",
       "  white-space: pre-wrap;\n",
       "}\n",
       "</style>\n",
       "<small>shape: (622, 13)</small><table border=\"1\" class=\"dataframe\"><thead><tr><th>RSID</th><th>ALTID</th><th>VariantID</th><th>Chr</th><th>BP</th><th>A1</th><th>A2</th><th>FRQ_A</th><th>FRQ_U</th><th>Locus.Index</th><th>SNP.Index</th><th>VariantType</th><th>Comments</th></tr><tr><td>str</td><td>str</td><td>str</td><td>i64</td><td>i64</td><td>str</td><td>str</td><td>f64</td><td>f64</td><td>i64</td><td>i64</td><td>str</td><td>str</td></tr></thead><tbody><tr><td>&quot;---&quot;</td><td>&quot;---&quot;</td><td>&quot;1:8482078&quot;</td><td>1</td><td>8482078</td><td>&quot;C&quot;</td><td>&quot;T&quot;</td><td>0.43</td><td>0.43</td><td>1</td><td>1</td><td>&quot;single nucleot…</td><td>&quot;PGC_MDD&quot;</td></tr><tr><td>&quot;---&quot;</td><td>&quot;---&quot;</td><td>&quot;1:16126676&quot;</td><td>1</td><td>16126676</td><td>&quot;A&quot;</td><td>&quot;G&quot;</td><td>0.335</td><td>0.334</td><td>2</td><td>1</td><td>&quot;single nucleot…</td><td>&quot;PGC_MDD&quot;</td></tr><tr><td>&quot;---&quot;</td><td>&quot;---&quot;</td><td>&quot;1:18123443&quot;</td><td>1</td><td>18123443</td><td>&quot;G&quot;</td><td>&quot;T&quot;</td><td>0.141</td><td>0.145</td><td>3</td><td>1</td><td>&quot;single nucleot…</td><td>&quot;PGC_MDD&quot;</td></tr><tr><td>&quot;---&quot;</td><td>&quot;---&quot;</td><td>&quot;1:32207581&quot;</td><td>1</td><td>32207581</td><td>&quot;G&quot;</td><td>&quot;T&quot;</td><td>0.182</td><td>0.176</td><td>4</td><td>1</td><td>&quot;single nucleot…</td><td>&quot;PGC_MDD&quot;</td></tr><tr><td>&quot;---&quot;</td><td>&quot;---&quot;</td><td>&quot;1:35765084&quot;</td><td>1</td><td>35765084</td><td>&quot;G&quot;</td><td>&quot;A&quot;</td><td>0.0354</td><td>0.0362</td><td>5</td><td>1</td><td>&quot;single nucleot…</td><td>&quot;PGC_MDD&quot;</td></tr><tr><td>&quot;---&quot;</td><td>&quot;---&quot;</td><td>&quot;1:37167333&quot;</td><td>1</td><td>37167333</td><td>&quot;T&quot;</td><td>&quot;G&quot;</td><td>0.31</td><td>0.306</td><td>6</td><td>1</td><td>&quot;single nucleot…</td><td>&quot;PGC_MDD&quot;</td></tr><tr><td>&quot;---&quot;</td><td>&quot;---&quot;</td><td>&quot;1:37672580&quot;</td><td>1</td><td>37672580</td><td>&quot;C&quot;</td><td>&quot;A&quot;</td><td>0.291</td><td>0.288</td><td>7</td><td>1</td><td>&quot;single nucleot…</td><td>&quot;PGC_MDD&quot;</td></tr><tr><td>&quot;---&quot;</td><td>&quot;---&quot;</td><td>&quot;1:38431554&quot;</td><td>1</td><td>38431554</td><td>&quot;C&quot;</td><td>&quot;T&quot;</td><td>0.274</td><td>0.275</td><td>8</td><td>1</td><td>&quot;single nucleot…</td><td>&quot;PGC_MDD&quot;</td></tr><tr><td>&quot;---&quot;</td><td>&quot;---&quot;</td><td>&quot;1:41104664&quot;</td><td>1</td><td>41104664</td><td>&quot;A&quot;</td><td>&quot;G&quot;</td><td>0.475</td><td>0.475</td><td>9</td><td>1</td><td>&quot;single nucleot…</td><td>&quot;PGC_MDD&quot;</td></tr><tr><td>&quot;---&quot;</td><td>&quot;---&quot;</td><td>&quot;1:50316592&quot;</td><td>1</td><td>50316592</td><td>&quot;T&quot;</td><td>&quot;C&quot;</td><td>0.222</td><td>0.219</td><td>10</td><td>1</td><td>&quot;single nucleot…</td><td>&quot;PGC_MDD&quot;</td></tr><tr><td>&quot;---&quot;</td><td>&quot;---&quot;</td><td>&quot;1:50456837&quot;</td><td>1</td><td>50456837</td><td>&quot;T&quot;</td><td>&quot;C&quot;</td><td>0.0996</td><td>0.102</td><td>10</td><td>2</td><td>&quot;single nucleot…</td><td>&quot;PGC_MDD&quot;</td></tr><tr><td>&quot;---&quot;</td><td>&quot;---&quot;</td><td>&quot;1:52339759&quot;</td><td>1</td><td>52339759</td><td>&quot;T&quot;</td><td>&quot;C&quot;</td><td>0.468</td><td>0.47</td><td>11</td><td>1</td><td>&quot;single nucleot…</td><td>&quot;PGC_MDD&quot;</td></tr><tr><td>&hellip;</td><td>&hellip;</td><td>&hellip;</td><td>&hellip;</td><td>&hellip;</td><td>&hellip;</td><td>&hellip;</td><td>&hellip;</td><td>&hellip;</td><td>&hellip;</td><td>&hellip;</td><td>&hellip;</td><td>&hellip;</td></tr><tr><td>&quot;---&quot;</td><td>&quot;---&quot;</td><td>&quot;22:37004171&quot;</td><td>22</td><td>37004171</td><td>&quot;C&quot;</td><td>&quot;T&quot;</td><td>0.266</td><td>0.271</td><td>559</td><td>1</td><td>&quot;single nucleot…</td><td>&quot;PGC_MDD&quot;</td></tr><tr><td>&quot;---&quot;</td><td>&quot;---&quot;</td><td>&quot;22:41408754&quot;</td><td>22</td><td>41408754</td><td>&quot;C&quot;</td><td>&quot;T&quot;</td><td>0.27</td><td>0.27</td><td>560</td><td>1</td><td>&quot;single nucleot…</td><td>&quot;PGC_MDD&quot;</td></tr><tr><td>&quot;---&quot;</td><td>&quot;---&quot;</td><td>&quot;22:46459132&quot;</td><td>22</td><td>46459132</td><td>&quot;T&quot;</td><td>&quot;G&quot;</td><td>0.345</td><td>0.345</td><td>561</td><td>1</td><td>&quot;single nucleot…</td><td>&quot;PGC_MDD&quot;</td></tr><tr><td>&quot;---&quot;</td><td>&quot;---&quot;</td><td>&quot;22:48873919&quot;</td><td>22</td><td>48873919</td><td>&quot;T&quot;</td><td>&quot;C&quot;</td><td>0.464</td><td>0.467</td><td>562</td><td>1</td><td>&quot;single nucleot…</td><td>&quot;PGC_MDD&quot;</td></tr><tr><td>&quot;---&quot;</td><td>&quot;---&quot;</td><td>&quot;22:49610444&quot;</td><td>22</td><td>49610444</td><td>&quot;A&quot;</td><td>&quot;G&quot;</td><td>0.431</td><td>0.429</td><td>563</td><td>1</td><td>&quot;single nucleot…</td><td>&quot;PGC_MDD&quot;</td></tr><tr><td>&quot;---&quot;</td><td>&quot;---&quot;</td><td>&quot;22:50180497&quot;</td><td>22</td><td>50180497</td><td>&quot;C&quot;</td><td>&quot;A&quot;</td><td>0.196</td><td>0.195</td><td>564</td><td>1</td><td>&quot;single nucleot…</td><td>&quot;PGC_MDD&quot;</td></tr><tr><td>&quot;---&quot;</td><td>&quot;---&quot;</td><td>&quot;22:50624909&quot;</td><td>22</td><td>50624909</td><td>&quot;C&quot;</td><td>&quot;G&quot;</td><td>0.378</td><td>0.377</td><td>565</td><td>1</td><td>&quot;single nucleot…</td><td>&quot;PGC_MDD&quot;</td></tr><tr><td>&quot;---&quot;</td><td>&quot;---&quot;</td><td>&quot;23:6021181&quot;</td><td>23</td><td>6021181</td><td>&quot;C&quot;</td><td>&quot;A&quot;</td><td>0.219</td><td>0.216</td><td>566</td><td>1</td><td>&quot;single nucleot…</td><td>&quot;PGC_MDD&quot;</td></tr><tr><td>&quot;---&quot;</td><td>&quot;---&quot;</td><td>&quot;23:21380266&quot;</td><td>23</td><td>21380266</td><td>&quot;C&quot;</td><td>&quot;T&quot;</td><td>0.152</td><td>0.154</td><td>567</td><td>1</td><td>&quot;single nucleot…</td><td>&quot;PGC_MDD&quot;</td></tr><tr><td>&quot;---&quot;</td><td>&quot;---&quot;</td><td>&quot;23:24873722&quot;</td><td>23</td><td>24873722</td><td>&quot;T&quot;</td><td>&quot;C&quot;</td><td>0.395</td><td>0.386</td><td>568</td><td>1</td><td>&quot;single nucleot…</td><td>&quot;PGC_MDD&quot;</td></tr><tr><td>&quot;---&quot;</td><td>&quot;---&quot;</td><td>&quot;23:29299301&quot;</td><td>23</td><td>29299301</td><td>&quot;C&quot;</td><td>&quot;G&quot;</td><td>0.357</td><td>0.354</td><td>569</td><td>1</td><td>&quot;single nucleot…</td><td>&quot;PGC_MDD&quot;</td></tr><tr><td>&quot;---&quot;</td><td>&quot;---&quot;</td><td>&quot;23:136113464&quot;</td><td>23</td><td>136113464</td><td>&quot;C&quot;</td><td>&quot;A&quot;</td><td>0.484</td><td>0.492</td><td>570</td><td>1</td><td>&quot;single nucleot…</td><td>&quot;PGC_MDD&quot;</td></tr></tbody></table></div>"
      ],
      "text/plain": [
       "shape: (622, 13)\n",
       "┌──────┬───────┬──────────────┬─────┬───┬─────────────┬───────────┬─────────────────────┬──────────┐\n",
       "│ RSID ┆ ALTID ┆ VariantID    ┆ Chr ┆ … ┆ Locus.Index ┆ SNP.Index ┆ VariantType         ┆ Comments │\n",
       "│ ---  ┆ ---   ┆ ---          ┆ --- ┆   ┆ ---         ┆ ---       ┆ ---                 ┆ ---      │\n",
       "│ str  ┆ str   ┆ str          ┆ i64 ┆   ┆ i64         ┆ i64       ┆ str                 ┆ str      │\n",
       "╞══════╪═══════╪══════════════╪═════╪═══╪═════════════╪═══════════╪═════════════════════╪══════════╡\n",
       "│ ---  ┆ ---   ┆ 1:8482078    ┆ 1   ┆ … ┆ 1           ┆ 1         ┆ single nucleotide   ┆ PGC_MDD  │\n",
       "│      ┆       ┆              ┆     ┆   ┆             ┆           ┆ variant             ┆          │\n",
       "│ ---  ┆ ---   ┆ 1:16126676   ┆ 1   ┆ … ┆ 2           ┆ 1         ┆ single nucleotide   ┆ PGC_MDD  │\n",
       "│      ┆       ┆              ┆     ┆   ┆             ┆           ┆ variant             ┆          │\n",
       "│ ---  ┆ ---   ┆ 1:18123443   ┆ 1   ┆ … ┆ 3           ┆ 1         ┆ single nucleotide   ┆ PGC_MDD  │\n",
       "│      ┆       ┆              ┆     ┆   ┆             ┆           ┆ variant             ┆          │\n",
       "│ ---  ┆ ---   ┆ 1:32207581   ┆ 1   ┆ … ┆ 4           ┆ 1         ┆ single nucleotide   ┆ PGC_MDD  │\n",
       "│      ┆       ┆              ┆     ┆   ┆             ┆           ┆ variant             ┆          │\n",
       "│ …    ┆ …     ┆ …            ┆ …   ┆ … ┆ …           ┆ …         ┆ …                   ┆ …        │\n",
       "│ ---  ┆ ---   ┆ 23:21380266  ┆ 23  ┆ … ┆ 567         ┆ 1         ┆ single nucleotide   ┆ PGC_MDD  │\n",
       "│      ┆       ┆              ┆     ┆   ┆             ┆           ┆ variant             ┆          │\n",
       "│ ---  ┆ ---   ┆ 23:24873722  ┆ 23  ┆ … ┆ 568         ┆ 1         ┆ single nucleotide   ┆ PGC_MDD  │\n",
       "│      ┆       ┆              ┆     ┆   ┆             ┆           ┆ variant             ┆          │\n",
       "│ ---  ┆ ---   ┆ 23:29299301  ┆ 23  ┆ … ┆ 569         ┆ 1         ┆ single nucleotide   ┆ PGC_MDD  │\n",
       "│      ┆       ┆              ┆     ┆   ┆             ┆           ┆ variant             ┆          │\n",
       "│ ---  ┆ ---   ┆ 23:136113464 ┆ 23  ┆ … ┆ 570         ┆ 1         ┆ single nucleotide   ┆ PGC_MDD  │\n",
       "│      ┆       ┆              ┆     ┆   ┆             ┆           ┆ variant             ┆          │\n",
       "└──────┴───────┴──────────────┴─────┴───┴─────────────┴───────────┴─────────────────────┴──────────┘"
      ]
     },
     "execution_count": 5,
     "metadata": {},
     "output_type": "execute_result"
    }
   ],
   "source": [
    "target_variants_pgc"
   ]
  },
  {
   "cell_type": "code",
   "execution_count": 6,
   "metadata": {},
   "outputs": [
    {
     "data": {
      "text/html": [
       "<div><style>\n",
       ".dataframe > thead > tr > th,\n",
       ".dataframe > tbody > tr > td {\n",
       "  text-align: right;\n",
       "  white-space: pre-wrap;\n",
       "}\n",
       "</style>\n",
       "<small>shape: (632, 24)</small><table border=\"1\" class=\"dataframe\"><thead><tr><th>VariantID</th><th>MarkerName</th><th>CHR</th><th>BP</th><th>Allele1</th><th>Allele2</th><th>Freq1</th><th>FreqSE</th><th>MinFreq</th><th>MaxFreq</th><th>Effect</th><th>StdErr</th><th>P-value</th><th>Direction</th><th>HetISq</th><th>HetChiSq</th><th>HetDf</th><th>HetPVal</th><th>Cases</th><th>Effective_Cases</th><th>N</th><th>Meta_analysis</th><th>SNPID</th><th>Index</th></tr><tr><td>str</td><td>str</td><td>i64</td><td>i64</td><td>str</td><td>str</td><td>f64</td><td>f64</td><td>f64</td><td>f64</td><td>f64</td><td>f64</td><td>f64</td><td>str</td><td>f64</td><td>f64</td><td>i64</td><td>f64</td><td>i64</td><td>i64</td><td>i64</td><td>str</td><td>str</td><td>i64</td></tr></thead><tbody><tr><td>&quot;1:2245570&quot;</td><td>&quot;1:2245570_C_G&quot;</td><td>1</td><td>2245570</td><td>&quot;C&quot;</td><td>&quot;G&quot;</td><td>0.28</td><td>0.0251</td><td>0.2305</td><td>0.3312</td><td>0.041638</td><td>0.005804</td><td>0.0</td><td>&quot;+++-+-+-+++&quot;</td><td>16.6</td><td>11.985</td><td>10</td><td>0.286</td><td>173909</td><td>162434</td><td>1138550</td><td>&quot;Cardiogram&quot;</td><td>&quot;1:2245570:C:G&quot;</td><td>1</td></tr><tr><td>&quot;1:2252205&quot;</td><td>&quot;1:2252205_C_T&quot;</td><td>1</td><td>2252205</td><td>&quot;T&quot;</td><td>&quot;C&quot;</td><td>0.1442</td><td>0.0169</td><td>0.1106</td><td>0.1746</td><td>0.046794</td><td>0.007375</td><td>0.0</td><td>&quot;+++++-+-+++&quot;</td><td>0.0</td><td>7.516</td><td>10</td><td>0.676</td><td>174440</td><td>160990</td><td>1143770</td><td>&quot;Cardiogram&quot;</td><td>&quot;1:2252205:T:C&quot;</td><td>2</td></tr><tr><td>&quot;1:2917460&quot;</td><td>&quot;1:2917460_C_G&quot;</td><td>1</td><td>2917460</td><td>&quot;C&quot;</td><td>&quot;G&quot;</td><td>0.8746</td><td>0.014</td><td>0.8548</td><td>0.9191</td><td>0.031473</td><td>0.007704</td><td>0.000044</td><td>&quot;++--+++-+-+&quot;</td><td>19.4</td><td>12.411</td><td>10</td><td>0.2585</td><td>181522</td><td>177219</td><td>1165680</td><td>&quot;Cardiogram&quot;</td><td>&quot;1:2917460:C:G&quot;</td><td>3</td></tr><tr><td>&quot;1:2985885&quot;</td><td>&quot;1:2985885_C_G&quot;</td><td>1</td><td>2985885</td><td>&quot;C&quot;</td><td>&quot;G&quot;</td><td>0.6118</td><td>0.0236</td><td>0.574</td><td>0.6404</td><td>-0.035136</td><td>0.005753</td><td>0.0</td><td>&quot;--????-?-?-&quot;</td><td>0.0</td><td>3.435</td><td>4</td><td>0.4878</td><td>154611</td><td>138116</td><td>1100510</td><td>&quot;Cardiogram&quot;</td><td>&quot;1:2985885:C:G&quot;</td><td>4</td></tr><tr><td>&quot;1:3325912&quot;</td><td>&quot;1:3325912_A_C&quot;</td><td>1</td><td>3325912</td><td>&quot;A&quot;</td><td>&quot;C&quot;</td><td>0.1404</td><td>0.0148</td><td>0.1207</td><td>0.207</td><td>0.04846</td><td>0.007234</td><td>0.0</td><td>&quot;+++++++-+++&quot;</td><td>36.6</td><td>15.772</td><td>10</td><td>0.1064</td><td>176686</td><td>173914</td><td>1150900</td><td>&quot;Cardiogram&quot;</td><td>&quot;1:3325912:A:C&quot;</td><td>5</td></tr><tr><td>&quot;1:26847640&quot;</td><td>&quot;1:26847640_C_T…</td><td>1</td><td>26847640</td><td>&quot;T&quot;</td><td>&quot;C&quot;</td><td>0.2329</td><td>0.021</td><td>0.2023</td><td>0.2627</td><td>-0.025522</td><td>0.005827</td><td>0.000012</td><td>&quot;----+--+---&quot;</td><td>0.0</td><td>8.778</td><td>10</td><td>0.5533</td><td>181522</td><td>180431</td><td>1165630</td><td>&quot;Cardiogram&quot;</td><td>&quot;1:26847640:T:C…</td><td>6</td></tr><tr><td>&quot;1:27284913&quot;</td><td>&quot;1:27284913_C_T…</td><td>1</td><td>27284913</td><td>&quot;T&quot;</td><td>&quot;C&quot;</td><td>0.0237</td><td>0.0056</td><td>0.0133</td><td>0.0364</td><td>0.095092</td><td>0.01726</td><td>0.0</td><td>&quot;+++??++?+++&quot;</td><td>20.5</td><td>8.806</td><td>7</td><td>0.2669</td><td>170977</td><td>166290</td><td>1138220</td><td>&quot;Cardiogram&quot;</td><td>&quot;1:27284913:T:C…</td><td>7</td></tr><tr><td>&quot;1:38461319&quot;</td><td>&quot;1:38461319_A_C…</td><td>1</td><td>38461319</td><td>&quot;A&quot;</td><td>&quot;C&quot;</td><td>0.5403</td><td>0.0166</td><td>0.5081</td><td>0.5604</td><td>0.035656</td><td>0.005178</td><td>0.0</td><td>&quot;+++++-+-+-+&quot;</td><td>16.0</td><td>11.903</td><td>10</td><td>0.2916</td><td>178954</td><td>159719</td><td>1157270</td><td>&quot;Cardiogram&quot;</td><td>&quot;1:38461319:A:C…</td><td>8</td></tr><tr><td>&quot;1:41809640&quot;</td><td>&quot;1:41809640_A_T…</td><td>1</td><td>41809640</td><td>&quot;A&quot;</td><td>&quot;T&quot;</td><td>0.221</td><td>0.0089</td><td>0.192</td><td>0.2334</td><td>0.0188665</td><td>0.00592</td><td>0.001439</td><td>&quot;++-+-++++++&quot;</td><td>0.0</td><td>7.665</td><td>10</td><td>0.6615</td><td>181522</td><td>180355</td><td>1165640</td><td>&quot;Cardiogram&quot;</td><td>&quot;1:41809640:A:T…</td><td>9</td></tr><tr><td>&quot;1:42946462&quot;</td><td>&quot;1:42946462_C_T…</td><td>1</td><td>42946462</td><td>&quot;T&quot;</td><td>&quot;C&quot;</td><td>0.3721</td><td>0.015</td><td>0.3347</td><td>0.3901</td><td>-0.024887</td><td>0.00506</td><td>0.000001</td><td>&quot;----++-----&quot;</td><td>0.0</td><td>9.064</td><td>10</td><td>0.5261</td><td>181522</td><td>181178</td><td>1165620</td><td>&quot;Cardiogram&quot;</td><td>&quot;1:42946462:T:C…</td><td>10</td></tr><tr><td>&quot;1:55489542&quot;</td><td>&quot;1:55489542_C_T…</td><td>1</td><td>55489542</td><td>&quot;T&quot;</td><td>&quot;C&quot;</td><td>0.24</td><td>0.008</td><td>0.225</td><td>0.2512</td><td>-0.053319</td><td>0.005837</td><td>0.0</td><td>&quot;-------+---&quot;</td><td>8.3</td><td>10.9</td><td>10</td><td>0.3653</td><td>181521</td><td>174619</td><td>1165620</td><td>&quot;Cardiogram&quot;</td><td>&quot;1:55489542:T:C…</td><td>11</td></tr><tr><td>&quot;1:55496039&quot;</td><td>&quot;1:55496039_C_T…</td><td>1</td><td>55496039</td><td>&quot;T&quot;</td><td>&quot;C&quot;</td><td>0.8277</td><td>0.0143</td><td>0.8028</td><td>0.8534</td><td>0.050067</td><td>0.006567</td><td>0.0</td><td>&quot;+++-+++-+++&quot;</td><td>5.5</td><td>10.587</td><td>10</td><td>0.3906</td><td>181522</td><td>181285</td><td>1165660</td><td>&quot;Cardiogram&quot;</td><td>&quot;1:55496039:T:C…</td><td>12</td></tr><tr><td>&hellip;</td><td>&hellip;</td><td>&hellip;</td><td>&hellip;</td><td>&hellip;</td><td>&hellip;</td><td>&hellip;</td><td>&hellip;</td><td>&hellip;</td><td>&hellip;</td><td>&hellip;</td><td>&hellip;</td><td>&hellip;</td><td>&hellip;</td><td>&hellip;</td><td>&hellip;</td><td>&hellip;</td><td>&hellip;</td><td>&hellip;</td><td>&hellip;</td><td>&hellip;</td><td>&hellip;</td><td>&hellip;</td><td>&hellip;</td></tr><tr><td>&quot;21:35655734&quot;</td><td>&quot;21:35655734_A_…</td><td>21</td><td>35655734</td><td>&quot;A&quot;</td><td>&quot;G&quot;</td><td>0.2547</td><td>0.0137</td><td>0.2322</td><td>0.2681</td><td>0.052101</td><td>0.005667</td><td>0.0</td><td>&quot;+++++++++-+&quot;</td><td>41.4</td><td>17.061</td><td>10</td><td>0.07303</td><td>179906</td><td>178251</td><td>1163650</td><td>&quot;Cardiogram&quot;</td><td>&quot;21:35655734:A:…</td><td>621</td></tr><tr><td>&quot;22:19609256&quot;</td><td>&quot;22:19609256_A_…</td><td>22</td><td>19609256</td><td>&quot;A&quot;</td><td>&quot;G&quot;</td><td>0.381</td><td>0.02</td><td>0.3409</td><td>0.419</td><td>0.027118</td><td>0.005359</td><td>0.0</td><td>&quot;++?++++-+++&quot;</td><td>0.0</td><td>1.802</td><td>9</td><td>0.9942</td><td>170388</td><td>161729</td><td>1137100</td><td>&quot;Cardiogram&quot;</td><td>&quot;22:19609256:A:…</td><td>622</td></tr><tr><td>&quot;22:19960184&quot;</td><td>&quot;22:19960184_C_…</td><td>22</td><td>19960184</td><td>&quot;C&quot;</td><td>&quot;G&quot;</td><td>0.7052</td><td>0.0176</td><td>0.6741</td><td>0.7538</td><td>-0.032428</td><td>0.005427</td><td>0.0</td><td>&quot;-----+-+---&quot;</td><td>0.0</td><td>9.269</td><td>10</td><td>0.5068</td><td>181415</td><td>177845</td><td>1165300</td><td>&quot;Cardiogram&quot;</td><td>&quot;22:19960184:C:…</td><td>623</td></tr><tr><td>&quot;22:24555861&quot;</td><td>&quot;22:24555861_A_…</td><td>22</td><td>24555861</td><td>&quot;A&quot;</td><td>&quot;G&quot;</td><td>0.9382</td><td>0.0057</td><td>0.9266</td><td>0.9453</td><td>0.059635</td><td>0.010136</td><td>0.0</td><td>&quot;+++++++++-+&quot;</td><td>0.0</td><td>4.973</td><td>10</td><td>0.893</td><td>181285</td><td>180068</td><td>1164740</td><td>&quot;Cardiogram&quot;</td><td>&quot;22:24555861:A:…</td><td>624</td></tr><tr><td>&quot;22:24658858&quot;</td><td>&quot;22:24658858_G_…</td><td>22</td><td>24658858</td><td>&quot;T&quot;</td><td>&quot;G&quot;</td><td>0.0228</td><td>0.0065</td><td>0.016</td><td>0.0293</td><td>-0.11673</td><td>0.020021</td><td>0.0</td><td>&quot;--????-????&quot;</td><td>81.6</td><td>10.854</td><td>2</td><td>0.004397</td><td>127412</td><td>119138</td><td>1003280</td><td>&quot;Cardiogram&quot;</td><td>&quot;22:24658858:T:…</td><td>625</td></tr><tr><td>&quot;22:24677831&quot;</td><td>&quot;22:24677831_G_…</td><td>22</td><td>24677831</td><td>&quot;T&quot;</td><td>&quot;G&quot;</td><td>0.0262</td><td>0.0094</td><td>0.0123</td><td>0.0347</td><td>-0.103223</td><td>0.017475</td><td>0.0</td><td>&quot;--????-?-?+&quot;</td><td>59.3</td><td>9.817</td><td>4</td><td>0.04362</td><td>157384</td><td>153701</td><td>1108690</td><td>&quot;Cardiogram&quot;</td><td>&quot;22:24677831:T:…</td><td>626</td></tr><tr><td>&quot;22:24716720&quot;</td><td>&quot;22:24716720_A_…</td><td>22</td><td>24716720</td><td>&quot;A&quot;</td><td>&quot;T&quot;</td><td>0.9733</td><td>0.0097</td><td>0.9646</td><td>0.9881</td><td>0.095577</td><td>0.017028</td><td>0.0</td><td>&quot;++???++?+--&quot;</td><td>44.0</td><td>10.714</td><td>6</td><td>0.09764</td><td>165817</td><td>164504</td><td>1130600</td><td>&quot;Cardiogram&quot;</td><td>&quot;22:24716720:A:…</td><td>627</td></tr><tr><td>&quot;22:30669883&quot;</td><td>&quot;22:30669883_A_…</td><td>22</td><td>30669883</td><td>&quot;A&quot;</td><td>&quot;G&quot;</td><td>0.5557</td><td>0.0132</td><td>0.538</td><td>0.6095</td><td>0.033829</td><td>0.004969</td><td>0.0</td><td>&quot;+++++++++++&quot;</td><td>0.0</td><td>7.623</td><td>10</td><td>0.6656</td><td>181518</td><td>178070</td><td>1165540</td><td>&quot;Cardiogram&quot;</td><td>&quot;22:30669883:A:…</td><td>628</td></tr><tr><td>&quot;22:33296139&quot;</td><td>&quot;22:33296139_C_…</td><td>22</td><td>33296139</td><td>&quot;T&quot;</td><td>&quot;C&quot;</td><td>0.8877</td><td>0.0166</td><td>0.8213</td><td>0.9233</td><td>0.042298</td><td>0.008066</td><td>0.0</td><td>&quot;+++++++++-+&quot;</td><td>0.0</td><td>9.323</td><td>10</td><td>0.5018</td><td>181285</td><td>180681</td><td>1164570</td><td>&quot;Cardiogram&quot;</td><td>&quot;22:33296139:T:…</td><td>629</td></tr><tr><td>&quot;22:40943032&quot;</td><td>&quot;22:40943032_A_…</td><td>22</td><td>40943032</td><td>&quot;A&quot;</td><td>&quot;G&quot;</td><td>0.2795</td><td>0.0231</td><td>0.2509</td><td>0.3105</td><td>0.025919</td><td>0.005558</td><td>0.000003</td><td>&quot;++++++++-++&quot;</td><td>19.0</td><td>12.344</td><td>10</td><td>0.2627</td><td>181517</td><td>178815</td><td>1165520</td><td>&quot;Cardiogram&quot;</td><td>&quot;22:40943032:A:…</td><td>630</td></tr><tr><td>&quot;22:43623972&quot;</td><td>&quot;22:43623972_A_…</td><td>22</td><td>43623972</td><td>&quot;A&quot;</td><td>&quot;G&quot;</td><td>0.2711</td><td>0.0284</td><td>0.2061</td><td>0.3102</td><td>-0.032362</td><td>0.005777</td><td>0.0</td><td>&quot;--?------+-&quot;</td><td>0.0</td><td>5.918</td><td>9</td><td>0.7481</td><td>168010</td><td>167212</td><td>1134800</td><td>&quot;Cardiogram&quot;</td><td>&quot;22:43623972:A:…</td><td>631</td></tr><tr><td>&quot;22:44324730&quot;</td><td>&quot;22:44324730_C_…</td><td>22</td><td>44324730</td><td>&quot;T&quot;</td><td>&quot;C&quot;</td><td>0.2276</td><td>0.0086</td><td>0.2163</td><td>0.2577</td><td>-0.025797</td><td>0.005852</td><td>0.00001</td><td>&quot;-----+-+---&quot;</td><td>17.0</td><td>12.049</td><td>10</td><td>0.2818</td><td>181518</td><td>179137</td><td>1165630</td><td>&quot;Cardiogram&quot;</td><td>&quot;22:44324730:T:…</td><td>632</td></tr></tbody></table></div>"
      ],
      "text/plain": [
       "shape: (632, 24)\n",
       "┌─────────────┬───────────────┬─────┬──────────┬───┬─────────┬──────────────┬──────────────┬───────┐\n",
       "│ VariantID   ┆ MarkerName    ┆ CHR ┆ BP       ┆ … ┆ N       ┆ Meta_analysi ┆ SNPID        ┆ Index │\n",
       "│ ---         ┆ ---           ┆ --- ┆ ---      ┆   ┆ ---     ┆ s            ┆ ---          ┆ ---   │\n",
       "│ str         ┆ str           ┆ i64 ┆ i64      ┆   ┆ i64     ┆ ---          ┆ str          ┆ i64   │\n",
       "│             ┆               ┆     ┆          ┆   ┆         ┆ str          ┆              ┆       │\n",
       "╞═════════════╪═══════════════╪═════╪══════════╪═══╪═════════╪══════════════╪══════════════╪═══════╡\n",
       "│ 1:2245570   ┆ 1:2245570_C_G ┆ 1   ┆ 2245570  ┆ … ┆ 1138550 ┆ Cardiogram   ┆ 1:2245570:C: ┆ 1     │\n",
       "│             ┆               ┆     ┆          ┆   ┆         ┆              ┆ G            ┆       │\n",
       "│ 1:2252205   ┆ 1:2252205_C_T ┆ 1   ┆ 2252205  ┆ … ┆ 1143770 ┆ Cardiogram   ┆ 1:2252205:T: ┆ 2     │\n",
       "│             ┆               ┆     ┆          ┆   ┆         ┆              ┆ C            ┆       │\n",
       "│ 1:2917460   ┆ 1:2917460_C_G ┆ 1   ┆ 2917460  ┆ … ┆ 1165680 ┆ Cardiogram   ┆ 1:2917460:C: ┆ 3     │\n",
       "│             ┆               ┆     ┆          ┆   ┆         ┆              ┆ G            ┆       │\n",
       "│ 1:2985885   ┆ 1:2985885_C_G ┆ 1   ┆ 2985885  ┆ … ┆ 1100510 ┆ Cardiogram   ┆ 1:2985885:C: ┆ 4     │\n",
       "│             ┆               ┆     ┆          ┆   ┆         ┆              ┆ G            ┆       │\n",
       "│ …           ┆ …             ┆ …   ┆ …        ┆ … ┆ …       ┆ …            ┆ …            ┆ …     │\n",
       "│ 22:33296139 ┆ 22:33296139_C ┆ 22  ┆ 33296139 ┆ … ┆ 1164570 ┆ Cardiogram   ┆ 22:33296139: ┆ 629   │\n",
       "│             ┆ _T            ┆     ┆          ┆   ┆         ┆              ┆ T:C          ┆       │\n",
       "│ 22:40943032 ┆ 22:40943032_A ┆ 22  ┆ 40943032 ┆ … ┆ 1165520 ┆ Cardiogram   ┆ 22:40943032: ┆ 630   │\n",
       "│             ┆ _G            ┆     ┆          ┆   ┆         ┆              ┆ A:G          ┆       │\n",
       "│ 22:43623972 ┆ 22:43623972_A ┆ 22  ┆ 43623972 ┆ … ┆ 1134800 ┆ Cardiogram   ┆ 22:43623972: ┆ 631   │\n",
       "│             ┆ _G            ┆     ┆          ┆   ┆         ┆              ┆ A:G          ┆       │\n",
       "│ 22:44324730 ┆ 22:44324730_C ┆ 22  ┆ 44324730 ┆ … ┆ 1165630 ┆ Cardiogram   ┆ 22:44324730: ┆ 632   │\n",
       "│             ┆ _T            ┆     ┆          ┆   ┆         ┆              ┆ T:C          ┆       │\n",
       "└─────────────┴───────────────┴─────┴──────────┴───┴─────────┴──────────────┴──────────────┴───────┘"
      ]
     },
     "execution_count": 6,
     "metadata": {},
     "output_type": "execute_result"
    }
   ],
   "source": [
    "target_variants_millionhearts"
   ]
  },
  {
   "cell_type": "code",
   "execution_count": 7,
   "metadata": {},
   "outputs": [
    {
     "data": {
      "text/html": [
       "<div><style>\n",
       ".dataframe > thead > tr > th,\n",
       ".dataframe > tbody > tr > td {\n",
       "  text-align: right;\n",
       "  white-space: pre-wrap;\n",
       "}\n",
       "</style>\n",
       "<small>shape: (89, 29)</small><table border=\"1\" class=\"dataframe\"><thead><tr><th>Index</th><th>rsID</th><th>VariantID</th><th>Chr</th><th>BP</th><th>Minor_allele_1kG</th><th>Major_allele_1kG</th><th>MAF_AFR_1kG</th><th>MAF_EAS_1kG</th><th>MAF_EUR_1kG</th><th>MAF_SAS_1kG</th><th>MAF_HIS_1kG</th><th>Locus</th><th>Analysis</th><th>Phenotype</th><th>Ancestry</th><th>SNP_Type</th><th>GIGASTROKE_Confidence_level</th><th>chromosome</th><th>base_pair_location</th><th>effect_allele_frequency</th><th>beta</th><th>standard_error</th><th>p_value</th><th>odds_ratio</th><th>ci_lower</th><th>ci_upper</th><th>effect_allele</th><th>other_allele</th></tr><tr><td>i64</td><td>str</td><td>str</td><td>i64</td><td>i64</td><td>str</td><td>str</td><td>f64</td><td>f64</td><td>f64</td><td>str</td><td>f64</td><td>str</td><td>str</td><td>str</td><td>str</td><td>str</td><td>str</td><td>i64</td><td>i64</td><td>f64</td><td>f64</td><td>f64</td><td>f64</td><td>f64</td><td>f64</td><td>f64</td><td>str</td><td>str</td></tr></thead><tbody><tr><td>1</td><td>&quot;rs2455132&quot;</td><td>&quot;1:3221083&quot;</td><td>1</td><td>3221083</td><td>&quot;T&quot;</td><td>&quot;C&quot;</td><td>0.09</td><td>0.27</td><td>0.25</td><td>&quot;0.380&quot;</td><td>0.29</td><td>&quot;PRDM16&quot;</td><td>&quot;IVW (METAL)&quot;</td><td>&quot;SVS&quot;</td><td>&quot;CROSS-ANC&quot;</td><td>&quot;NOVEL&quot;</td><td>&quot;INTERMEDIATE&quot;</td><td>1</td><td>3221083</td><td>0.2497</td><td>-0.1201</td><td>0.0249</td><td>0.0000014</td><td>0.886832</td><td>0.84459</td><td>0.931186</td><td>&quot;T&quot;</td><td>&quot;C&quot;</td></tr><tr><td>2</td><td>&quot;rs880315&quot;</td><td>&quot;1:10796866&quot;</td><td>1</td><td>10796866</td><td>&quot;C&quot;</td><td>&quot;T&quot;</td><td>0.16</td><td>0.64</td><td>0.36</td><td>&quot;0.400&quot;</td><td>0.51</td><td>&quot;CASZ1&quot;</td><td>&quot;IVW (METAL)&quot;</td><td>&quot;AIS&quot;</td><td>&quot;CROSS-ANC&quot;</td><td>&quot;OLD_MEGASTROKE…</td><td>&quot;HIGH &quot;</td><td>1</td><td>10796866</td><td>0.6315</td><td>-0.0454</td><td>0.0076</td><td>1.9990e-9</td><td>0.955615</td><td>0.941486</td><td>0.969957</td><td>&quot;T&quot;</td><td>&quot;C&quot;</td></tr><tr><td>3</td><td>&quot;rs3790607&quot;</td><td>&quot;1:113053023&quot;</td><td>1</td><td>113053023</td><td>&quot;C&quot;</td><td>&quot;A&quot;</td><td>0.0068</td><td>0.34</td><td>0.08</td><td>&quot;0.090&quot;</td><td>0.21</td><td>&quot;WNT2B&quot;</td><td>&quot;IVW (METAL)&quot;</td><td>&quot;AIS&quot;</td><td>&quot;CROSS-ANC&quot;</td><td>&quot;OLD_MEGASTROKE…</td><td>&quot;HIGH &quot;</td><td>1</td><td>113053023</td><td>0.8812</td><td>-0.0486</td><td>0.0117</td><td>0.000032</td><td>0.952562</td><td>0.930966</td><td>0.974659</td><td>&quot;A&quot;</td><td>&quot;C&quot;</td></tr><tr><td>4</td><td>&quot;rs2251636&quot;</td><td>&quot;1:156202809&quot;</td><td>1</td><td>156202809</td><td>&quot;C&quot;</td><td>&quot;G&quot;</td><td>0.5</td><td>0.33</td><td>0.36</td><td>&quot;0.350&quot;</td><td>0.35</td><td>&quot;PMF1&quot;</td><td>&quot;IVW (METAL)&quot;</td><td>&quot;SVS&quot;</td><td>&quot;CROSS-ANC&quot;</td><td>&quot;OLD_MEGASTROKE…</td><td>&quot;HIGH &quot;</td><td>1</td><td>156202809</td><td>0.381</td><td>-0.0841</td><td>0.0203</td><td>0.000036</td><td>0.919339</td><td>0.883479</td><td>0.956655</td><td>&quot;C&quot;</td><td>&quot;G&quot;</td></tr><tr><td>5</td><td>&quot;rs680084&quot;</td><td>&quot;1:170628255&quot;</td><td>1</td><td>170628255</td><td>&quot;G&quot;</td><td>&quot;A&quot;</td><td>0.49</td><td>0.62</td><td>0.44</td><td>&quot;0.260&quot;</td><td>0.37</td><td>&quot;PRRX1&quot;</td><td>&quot;IVW (METAL)&quot;</td><td>&quot;CES&quot;</td><td>&quot;CROSS-ANC&quot;</td><td>&quot;NOVEL&quot;</td><td>&quot;INTERMEDIATE&quot;</td><td>1</td><td>170628255</td><td>0.5427</td><td>-0.0846</td><td>0.0161</td><td>1.4640e-7</td><td>0.91888</td><td>0.890336</td><td>0.948338</td><td>&quot;A&quot;</td><td>&quot;G&quot;</td></tr><tr><td>6</td><td>&quot;rs2877984&quot;</td><td>&quot;1:183090497&quot;</td><td>1</td><td>183090497</td><td>&quot;A&quot;</td><td>&quot;G&quot;</td><td>0.56</td><td>0.37</td><td>0.44</td><td>&quot;0.400&quot;</td><td>0.37</td><td>&quot;LAMC1&quot;</td><td>&quot;IVW (METAL)&quot;</td><td>&quot;AS&quot;</td><td>&quot;CROSS-ANC&quot;</td><td>&quot;NOVEL&quot;</td><td>&quot;HIGH &quot;</td><td>1</td><td>183090497</td><td>0.4502</td><td>-0.0262</td><td>0.0065</td><td>0.000052</td><td>0.97414</td><td>0.961808</td><td>0.98663</td><td>&quot;A&quot;</td><td>&quot;G&quot;</td></tr><tr><td>7</td><td>&quot;rs11694327&quot;</td><td>&quot;2:26919429&quot;</td><td>2</td><td>26919429</td><td>&quot;C&quot;</td><td>&quot;T&quot;</td><td>0.03</td><td>0.7</td><td>0.22</td><td>&quot;0.290&quot;</td><td>0.14</td><td>&quot;KCNK3&quot;</td><td>&quot;IVW (METAL)&quot;</td><td>&quot;AIS&quot;</td><td>&quot;CROSS-ANC&quot;</td><td>&quot;OLD_MEGASTROKE…</td><td>&quot;HIGH &quot;</td><td>2</td><td>26919429</td><td>0.758</td><td>-0.0331</td><td>0.0088</td><td>0.0001723</td><td>0.967442</td><td>0.950898</td><td>0.984273</td><td>&quot;T&quot;</td><td>&quot;C&quot;</td></tr><tr><td>8</td><td>&quot;rs6722806&quot;</td><td>&quot;2:43627715&quot;</td><td>2</td><td>43627715</td><td>&quot;T&quot;</td><td>&quot;A&quot;</td><td>0.49</td><td>0.03</td><td>0.36</td><td>&quot;0.330&quot;</td><td>0.24</td><td>&quot;THADA&quot;</td><td>&quot;IVW (METAL)&quot;</td><td>&quot;AS&quot;</td><td>&quot;CROSS-ANC&quot;</td><td>&quot;NOVEL&quot;</td><td>&quot;INTERMEDIATE&quot;</td><td>2</td><td>43627715</td><td>0.6481</td><td>0.0357</td><td>0.0068</td><td>1.7450e-7</td><td>1.036345</td><td>1.022624</td><td>1.05025</td><td>&quot;A&quot;</td><td>&quot;T&quot;</td></tr><tr><td>9</td><td>&quot;rs11691032&quot;</td><td>&quot;2:164788513&quot;</td><td>2</td><td>164788513</td><td>&quot;C&quot;</td><td>&quot;G&quot;</td><td>0.19</td><td>0.19</td><td>0.33</td><td>&quot;0.260&quot;</td><td>0.21</td><td>&quot;FIGN&quot;</td><td>&quot;IVW (METAL)&quot;</td><td>&quot;AS&quot;</td><td>&quot;CROSS-ANC&quot;</td><td>&quot;NOVEL&quot;</td><td>&quot;INTERMEDIATE&quot;</td><td>2</td><td>164788513</td><td>0.339</td><td>0.0283</td><td>0.0068</td><td>0.000032</td><td>1.028704</td><td>1.015085</td><td>1.042507</td><td>&quot;C&quot;</td><td>&quot;G&quot;</td></tr><tr><td>10</td><td>&quot;rs2351524&quot;</td><td>&quot;2:203880992&quot;</td><td>2</td><td>203880992</td><td>&quot;T&quot;</td><td>&quot;C&quot;</td><td>0.05</td><td>0.02</td><td>0.13</td><td>&quot;0.010&quot;</td><td>0.08</td><td>&quot;NBEAL1&quot;</td><td>&quot;IVW (METAL)&quot;</td><td>&quot;AIS&quot;</td><td>&quot;CROSS-ANC&quot;</td><td>&quot;OLD_LAC_STROKE…</td><td>&quot;HIGH &quot;</td><td>2</td><td>203880992</td><td>0.1244</td><td>-0.0685</td><td>0.0109</td><td>3.3740e-10</td><td>0.933793</td><td>0.914055</td><td>0.953958</td><td>&quot;T&quot;</td><td>&quot;C&quot;</td></tr><tr><td>11</td><td>&quot;rs73852583&quot;</td><td>&quot;3:81070417&quot;</td><td>3</td><td>81070417</td><td>&quot;A&quot;</td><td>&quot;G&quot;</td><td>0.14</td><td>0.0</td><td>0.001</td><td>&quot;0.000&quot;</td><td>0.02</td><td>&quot;3p12&quot;</td><td>&quot;IVW (METAL)&quot;</td><td>&quot;AIS&quot;</td><td>&quot;AFR&quot;</td><td>&quot;NOVEL&quot;</td><td>&quot;LOW&quot;</td><td>null</td><td>null</td><td>null</td><td>null</td><td>null</td><td>null</td><td>null</td><td>null</td><td>null</td><td>null</td><td>null</td></tr><tr><td>12</td><td>&quot;rs4681330&quot;</td><td>&quot;3:146378341&quot;</td><td>3</td><td>146378341</td><td>&quot;C&quot;</td><td>&quot;T&quot;</td><td>0.3</td><td>0.33</td><td>0.38</td><td>&quot;0.410&quot;</td><td>0.5</td><td>&quot;PLSCR5&quot;</td><td>&quot;IVW (METAL)&quot;</td><td>&quot;AS&quot;</td><td>&quot;CROSS-ANC&quot;</td><td>&quot;NOVEL&quot;</td><td>&quot;INTERMEDIATE&quot;</td><td>3</td><td>146378341</td><td>0.6203</td><td>-0.0306</td><td>0.0066</td><td>0.000004</td><td>0.969863</td><td>0.957398</td><td>0.982491</td><td>&quot;T&quot;</td><td>&quot;C&quot;</td></tr><tr><td>&hellip;</td><td>&hellip;</td><td>&hellip;</td><td>&hellip;</td><td>&hellip;</td><td>&hellip;</td><td>&hellip;</td><td>&hellip;</td><td>&hellip;</td><td>&hellip;</td><td>&hellip;</td><td>&hellip;</td><td>&hellip;</td><td>&hellip;</td><td>&hellip;</td><td>&hellip;</td><td>&hellip;</td><td>&hellip;</td><td>&hellip;</td><td>&hellip;</td><td>&hellip;</td><td>&hellip;</td><td>&hellip;</td><td>&hellip;</td><td>&hellip;</td><td>&hellip;</td><td>&hellip;</td><td>&hellip;</td><td>&hellip;</td></tr><tr><td>78</td><td>&quot;rs1412444&quot;</td><td>&quot;10:91002927&quot;</td><td>10</td><td>91002927</td><td>&quot;T&quot;</td><td>&quot;C&quot;</td><td>0.42</td><td>0.32</td><td>0.36</td><td>&quot;0.550&quot;</td><td>0.46</td><td>&quot;LIPA&quot;</td><td>&quot;MTAG&quot;</td><td>&quot;LAS&quot;</td><td>&quot;EUR&quot;</td><td>&quot;NOVEL&quot;</td><td>&quot;HIGH &quot;</td><td>10</td><td>91002927</td><td>0.3316</td><td>0.092</td><td>0.0218</td><td>0.000024</td><td>1.096365</td><td>1.050506</td><td>1.144226</td><td>&quot;T&quot;</td><td>&quot;C&quot;</td></tr><tr><td>79</td><td>&quot;rs10749053&quot;</td><td>&quot;10:112576695&quot;</td><td>10</td><td>112576695</td><td>&quot;T&quot;</td><td>&quot;C&quot;</td><td>0.32</td><td>0.04</td><td>0.14</td><td>&quot;0.190&quot;</td><td>0.14</td><td>&quot;RBM20&quot;</td><td>&quot;MTAG&quot;</td><td>&quot;CES&quot;</td><td>&quot;EUR&quot;</td><td>&quot;NOVEL&quot;</td><td>&quot;LOW&quot;</td><td>10</td><td>112576695</td><td>0.1435</td><td>0.0897</td><td>0.025</td><td>0.0003278</td><td>1.093846</td><td>1.04154</td><td>1.148779</td><td>&quot;T&quot;</td><td>&quot;C&quot;</td></tr><tr><td>80</td><td>&quot;rs11042273&quot;</td><td>&quot;11:9322132&quot;</td><td>11</td><td>9322132</td><td>&quot;G&quot;</td><td>&quot;T&quot;</td><td>0.33</td><td>0.1</td><td>0.1</td><td>&quot;0.190&quot;</td><td>0.17</td><td>&quot;TMEM41B&quot;</td><td>&quot;MTAG&quot;</td><td>&quot;AIS&quot;</td><td>&quot;EUR&quot;</td><td>&quot;NOVEL&quot;</td><td>&quot;HIGH &quot;</td><td>11</td><td>9322132</td><td>0.9257</td><td>-0.0531</td><td>0.0136</td><td>0.000092</td><td>0.948285</td><td>0.923342</td><td>0.973903</td><td>&quot;T&quot;</td><td>&quot;G&quot;</td></tr><tr><td>81</td><td>&quot;rs557675&quot;</td><td>&quot;11:65566719&quot;</td><td>11</td><td>65566719</td><td>&quot;G&quot;</td><td>&quot;T&quot;</td><td>0.25</td><td>0.42</td><td>0.46</td><td>&quot;0.630&quot;</td><td>0.58</td><td>&quot;OVOL1&quot;</td><td>&quot;MTAG&quot;</td><td>&quot;AIS&quot;</td><td>&quot;EUR&quot;</td><td>&quot;NOVEL&quot;</td><td>&quot;HIGH &quot;</td><td>11</td><td>65566719</td><td>0.5539</td><td>0.0251</td><td>0.0073</td><td>0.0005898</td><td>1.025418</td><td>1.01085</td><td>1.040195</td><td>&quot;T&quot;</td><td>&quot;G&quot;</td></tr><tr><td>82</td><td>&quot;rs11057583&quot;</td><td>&quot;12:124810329&quot;</td><td>12</td><td>124810329</td><td>&quot;A&quot;</td><td>&quot;G&quot;</td><td>0.14</td><td>0.41</td><td>0.1</td><td>&quot;0.120&quot;</td><td>0.2</td><td>&quot;NCOR2&quot;</td><td>&quot;MTAG&quot;</td><td>&quot;CES&quot;</td><td>&quot;EUR&quot;</td><td>&quot;NOVEL&quot;</td><td>&quot;INTERMEDIATE&quot;</td><td>12</td><td>124810329</td><td>0.1149</td><td>0.0988</td><td>0.0247</td><td>0.000063</td><td>1.103846</td><td>1.051679</td><td>1.1586</td><td>&quot;A&quot;</td><td>&quot;G&quot;</td></tr><tr><td>83</td><td>&quot;rs1924981&quot;</td><td>&quot;13:29022645&quot;</td><td>13</td><td>29022645</td><td>&quot;T&quot;</td><td>&quot;C&quot;</td><td>0.24</td><td>0.4</td><td>0.35</td><td>&quot;0.320&quot;</td><td>0.2</td><td>&quot;FLT1&quot;</td><td>&quot;MTAG&quot;</td><td>&quot;LAS&quot;</td><td>&quot;EUR&quot;</td><td>&quot;NOVEL&quot;</td><td>&quot;LOW&quot;</td><td>13</td><td>29022645</td><td>0.3279</td><td>0.0645</td><td>0.0225</td><td>0.004162</td><td>1.066626</td><td>1.02061</td><td>1.114716</td><td>&quot;T&quot;</td><td>&quot;C&quot;</td></tr><tr><td>84</td><td>&quot;rs8014986&quot;</td><td>&quot;14:100135718&quot;</td><td>14</td><td>100135718</td><td>&quot;A&quot;</td><td>&quot;G&quot;</td><td>0.29</td><td>0.28</td><td>0.16</td><td>&quot;0.100&quot;</td><td>0.35</td><td>&quot;HHIPL1&quot;</td><td>&quot;MTAG&quot;</td><td>&quot;AIS&quot;</td><td>&quot;EUR&quot;</td><td>&quot;NOVEL&quot;</td><td>&quot;LOW&quot;</td><td>14</td><td>100135718</td><td>0.1723</td><td>-0.0242</td><td>0.0093</td><td>0.009133</td><td>0.97609</td><td>0.958459</td><td>0.994046</td><td>&quot;A&quot;</td><td>&quot;G&quot;</td></tr><tr><td>85</td><td>&quot;rs7500448&quot;</td><td>&quot;16:83045790&quot;</td><td>16</td><td>83045790</td><td>&quot;G&quot;</td><td>&quot;A&quot;</td><td>0.06</td><td>0.27</td><td>0.24</td><td>&quot;0.120&quot;</td><td>0.2</td><td>&quot;CDH13&quot;</td><td>&quot;MTAG&quot;</td><td>&quot;AIS&quot;</td><td>&quot;EUR&quot;</td><td>&quot;NOVEL&quot;</td><td>&quot;INTERMEDIATE&quot;</td><td>16</td><td>83045790</td><td>0.7566</td><td>0.0368</td><td>0.0086</td><td>0.000017</td><td>1.037486</td><td>1.020144</td><td>1.055122</td><td>&quot;A&quot;</td><td>&quot;G&quot;</td></tr><tr><td>86</td><td>&quot;rs11078685&quot;</td><td>&quot;17:7411447&quot;</td><td>17</td><td>7411447</td><td>&quot;C&quot;</td><td>&quot;T&quot;</td><td>0.72</td><td>0.27</td><td>0.39</td><td>&quot;0.600&quot;</td><td>0.38</td><td>&quot;POLR2A&quot;</td><td>&quot;MTAG&quot;</td><td>&quot;CES&quot;</td><td>&quot;EUR&quot;</td><td>&quot;NOVEL&quot;</td><td>&quot;INTERMEDIATE&quot;</td><td>17</td><td>7411447</td><td>0.5987</td><td>-0.0577</td><td>0.016</td><td>0.0003219</td><td>0.943933</td><td>0.914791</td><td>0.974004</td><td>&quot;T&quot;</td><td>&quot;C&quot;</td></tr><tr><td>87</td><td>&quot;rs4471742&quot;</td><td>&quot;17:17877771&quot;</td><td>17</td><td>17877771</td><td>&quot;T&quot;</td><td>&quot;C&quot;</td><td>0.41</td><td>0.86</td><td>0.39</td><td>&quot;0.770&quot;</td><td>0.53</td><td>&quot;DRC3&quot;</td><td>&quot;MTAG&quot;</td><td>&quot;AIS&quot;</td><td>&quot;EUR&quot;</td><td>&quot;NOVEL&quot;</td><td>&quot;HIGH &quot;</td><td>17</td><td>17877771</td><td>0.3478</td><td>0.0328</td><td>0.0073</td><td>0.000007</td><td>1.033344</td><td>1.018664</td><td>1.048235</td><td>&quot;T&quot;</td><td>&quot;C&quot;</td></tr><tr><td>88</td><td>&quot;rs1788820&quot;</td><td>&quot;18:21101944&quot;</td><td>18</td><td>21101944</td><td>&quot;A&quot;</td><td>&quot;G&quot;</td><td>0.27</td><td>0.09</td><td>0.35</td><td>&quot;0.210&quot;</td><td>0.24</td><td>&quot;RMC1&quot;</td><td>&quot;MTAG&quot;</td><td>&quot;AS&quot;</td><td>&quot;EUR&quot;</td><td>&quot;NOVEL&quot;</td><td>&quot;INTERMEDIATE&quot;</td><td>18</td><td>21101944</td><td>0.3532</td><td>0.0254</td><td>0.0069</td><td>0.0002251</td><td>1.025725</td><td>1.011947</td><td>1.039691</td><td>&quot;A&quot;</td><td>&quot;G&quot;</td></tr><tr><td>89</td><td>&quot;rs833509&quot;</td><td>&quot;18:46528787&quot;</td><td>18</td><td>46528787</td><td>&quot;T&quot;</td><td>&quot;C&quot;</td><td>0.16</td><td>0.54</td><td>0.26</td><td>&quot;0.330&quot;</td><td>0.34</td><td>&quot;DYM&quot;</td><td>&quot;MTAG&quot;</td><td>&quot;AIS&quot;</td><td>&quot;EUR&quot;</td><td>&quot;NOVEL&quot;</td><td>&quot;LOW&quot;</td><td>18</td><td>46528787</td><td>0.2779</td><td>-0.027</td><td>0.0083</td><td>0.001198</td><td>0.973361</td><td>0.957655</td><td>0.989325</td><td>&quot;T&quot;</td><td>&quot;C&quot;</td></tr></tbody></table></div>"
      ],
      "text/plain": [
       "shape: (89, 29)\n",
       "┌───────┬────────────┬─────────────┬─────┬───┬──────────┬──────────┬───────────────┬──────────────┐\n",
       "│ Index ┆ rsID       ┆ VariantID   ┆ Chr ┆ … ┆ ci_lower ┆ ci_upper ┆ effect_allele ┆ other_allele │\n",
       "│ ---   ┆ ---        ┆ ---         ┆ --- ┆   ┆ ---      ┆ ---      ┆ ---           ┆ ---          │\n",
       "│ i64   ┆ str        ┆ str         ┆ i64 ┆   ┆ f64      ┆ f64      ┆ str           ┆ str          │\n",
       "╞═══════╪════════════╪═════════════╪═════╪═══╪══════════╪══════════╪═══════════════╪══════════════╡\n",
       "│ 1     ┆ rs2455132  ┆ 1:3221083   ┆ 1   ┆ … ┆ 0.84459  ┆ 0.931186 ┆ T             ┆ C            │\n",
       "│ 2     ┆ rs880315   ┆ 1:10796866  ┆ 1   ┆ … ┆ 0.941486 ┆ 0.969957 ┆ T             ┆ C            │\n",
       "│ 3     ┆ rs3790607  ┆ 1:113053023 ┆ 1   ┆ … ┆ 0.930966 ┆ 0.974659 ┆ A             ┆ C            │\n",
       "│ 4     ┆ rs2251636  ┆ 1:156202809 ┆ 1   ┆ … ┆ 0.883479 ┆ 0.956655 ┆ C             ┆ G            │\n",
       "│ …     ┆ …          ┆ …           ┆ …   ┆ … ┆ …        ┆ …        ┆ …             ┆ …            │\n",
       "│ 86    ┆ rs11078685 ┆ 17:7411447  ┆ 17  ┆ … ┆ 0.914791 ┆ 0.974004 ┆ T             ┆ C            │\n",
       "│ 87    ┆ rs4471742  ┆ 17:17877771 ┆ 17  ┆ … ┆ 1.018664 ┆ 1.048235 ┆ T             ┆ C            │\n",
       "│ 88    ┆ rs1788820  ┆ 18:21101944 ┆ 18  ┆ … ┆ 1.011947 ┆ 1.039691 ┆ A             ┆ G            │\n",
       "│ 89    ┆ rs833509   ┆ 18:46528787 ┆ 18  ┆ … ┆ 0.957655 ┆ 0.989325 ┆ T             ┆ C            │\n",
       "└───────┴────────────┴─────────────┴─────┴───┴──────────┴──────────┴───────────────┴──────────────┘"
      ]
     },
     "execution_count": 7,
     "metadata": {},
     "output_type": "execute_result"
    }
   ],
   "source": [
    "target_variants_gigastroke"
   ]
  },
  {
   "cell_type": "code",
   "execution_count": 8,
   "metadata": {},
   "outputs": [
    {
     "data": {
      "text/html": [
       "<div><style>\n",
       ".dataframe > thead > tr > th,\n",
       ".dataframe > tbody > tr > td {\n",
       "  text-align: right;\n",
       "  white-space: pre-wrap;\n",
       "}\n",
       "</style>\n",
       "<small>shape: (16, 14)</small><table border=\"1\" class=\"dataframe\"><thead><tr><th>rsID</th><th>Chr</th><th>Pos_hg19</th><th>Effect_Allele</th><th>Other_Allele</th><th>EAF</th><th>Effect</th><th>SE</th><th>P_meta</th><th>I2</th><th>P_het</th><th>Nearest_gene</th><th>Annotation</th><th>SNP_type</th></tr><tr><td>str</td><td>i64</td><td>i64</td><td>str</td><td>str</td><td>f64</td><td>str</td><td>f64</td><td>f64</td><td>f64</td><td>f64</td><td>str</td><td>str</td><td>str</td></tr></thead><tbody><tr><td>&quot;rs3844006&quot;</td><td>6</td><td>132095002</td><td>&quot;T&quot;</td><td>&quot;C&quot;</td><td>0.221</td><td>&quot;−0.114&quot;</td><td>0.02</td><td>0.0</td><td>0.5</td><td>0.453</td><td>&quot;miR-548h-5(dis…</td><td>&quot;intergenic&quot;</td><td>&quot;NOVEL&quot;</td></tr><tr><td>&quot;rs2854746&quot;</td><td>7</td><td>45960645</td><td>&quot;C&quot;</td><td>&quot;G&quot;</td><td>0.414</td><td>&quot;0.11&quot;</td><td>0.018</td><td>0.0</td><td>0.0</td><td>0.76</td><td>&quot;IGFBP3&quot;</td><td>&quot;missense&quot;</td><td>&quot;NOVEL&quot;</td></tr><tr><td>&quot;rs10899970&quot;</td><td>10</td><td>44515716</td><td>&quot;A&quot;</td><td>&quot;G&quot;</td><td>0.474</td><td>&quot;0.095000&quot;</td><td>0.017</td><td>0.0</td><td>0.0</td><td>0.94</td><td>&quot;AL512640.1(dis…</td><td>&quot;intergenic&quot;</td><td>&quot;NOVEL&quot;</td></tr><tr><td>&quot;rs9633535&quot;</td><td>10</td><td>63836088</td><td>&quot;T&quot;</td><td>&quot;C&quot;</td><td>0.371</td><td>&quot;0.098000&quot;</td><td>0.018</td><td>0.0</td><td>4.0</td><td>0.407</td><td>&quot;ARID5B&quot;</td><td>&quot;intronic&quot;</td><td>&quot;NOVEL&quot;</td></tr><tr><td>&quot;rs10762577&quot;</td><td>10</td><td>75917431</td><td>&quot;A&quot;</td><td>&quot;G&quot;</td><td>0.258</td><td>&quot;−0.107&quot;</td><td>0.019</td><td>0.0</td><td>0.0</td><td>0.683</td><td>&quot;ADK&quot;</td><td>&quot;intronic&quot;</td><td>&quot;NOVEL&quot;</td></tr><tr><td>&quot;rs11063120&quot;</td><td>12</td><td>4486618</td><td>&quot;A&quot;</td><td>&quot;G&quot;</td><td>0.303</td><td>&quot;−0.133&quot;</td><td>0.022</td><td>0.0</td><td>56.0</td><td>0.001</td><td>&quot;FGF23&quot;</td><td>&quot;intronic&quot;</td><td>&quot;NOVEL&quot;</td></tr><tr><td>&quot;rs9515203&quot;</td><td>13</td><td>111049623</td><td>&quot;T&quot;</td><td>&quot;C&quot;</td><td>0.732</td><td>&quot;0.123&quot;</td><td>0.022</td><td>0.0</td><td>0.0</td><td>0.744</td><td>&quot;COL4A1(dist: 9…</td><td>&quot;intronic&quot;</td><td>&quot;NOVEL&quot;</td></tr><tr><td>&quot;rs7182103&quot;</td><td>15</td><td>79123946</td><td>&quot;T&quot;</td><td>&quot;G&quot;</td><td>0.575</td><td>&quot;0.112&quot;</td><td>0.017</td><td>0.0</td><td>4.1</td><td>0.405</td><td>&quot;ADAMTS7(dist.:…</td><td>&quot;intronic&quot;</td><td>&quot;NOVEL&quot;</td></tr><tr><td>&quot;rs10456561&quot;</td><td>6</td><td>12887465</td><td>&quot;A&quot;</td><td>&quot;G&quot;</td><td>0.036</td><td>&quot;0.375&quot;</td><td>0.069</td><td>0.0</td><td>14.7</td><td>0.292</td><td>&quot;PHACTR1&quot;</td><td>&quot;intronic&quot;</td><td>&quot;KNOWN&quot;</td></tr><tr><td>&quot;rs35355695&quot;</td><td>6</td><td>12891103</td><td>&quot;T&quot;</td><td>&quot;G&quot;</td><td>0.256</td><td>&quot;−0.115&quot;</td><td>0.02</td><td>0.0</td><td>5.2</td><td>0.39</td><td>&quot;PHACTR1&quot;</td><td>&quot;intronic&quot;</td><td>&quot;KNOWN&quot;</td></tr><tr><td>&quot;rs9349379&quot;</td><td>6</td><td>12903957</td><td>&quot;A&quot;</td><td>&quot;G&quot;</td><td>0.623</td><td>&quot;−0.218&quot;</td><td>0.02</td><td>0.0</td><td>18.0</td><td>0.234</td><td>&quot;PHACTR1&quot;</td><td>&quot;intronic&quot;</td><td>&quot;KNOWN&quot;</td></tr><tr><td>&quot;rs10811650&quot;</td><td>9</td><td>22067593</td><td>&quot;A&quot;</td><td>&quot;G&quot;</td><td>0.619</td><td>&quot;−0.195&quot;</td><td>0.018</td><td>0.0</td><td>53.2</td><td>0.003</td><td>&quot;CDKN2B-AS1&quot;</td><td>&quot;ncRNA intronic…</td><td>&quot;KNOWN&quot;</td></tr><tr><td>&quot;rs72652478&quot;</td><td>9</td><td>22102043</td><td>&quot;C&quot;</td><td>&quot;G&quot;</td><td>0.957</td><td>&quot;−0.479&quot;</td><td>0.081</td><td>0.0</td><td>0.0</td><td>0.983</td><td>&quot;CDKN2B-AS1&quot;</td><td>&quot;ncRNA intronic…</td><td>&quot;KNOWN&quot;</td></tr><tr><td>&quot;rs62555371&quot;</td><td>9</td><td>22107238</td><td>&quot;A&quot;</td><td>&quot;T&quot;</td><td>0.866</td><td>&quot;0.27&quot;</td><td>0.032</td><td>0.0</td><td>20.9</td><td>0.19</td><td>&quot;CDKN2B-AS1&quot;</td><td>&quot;ncRNA intronic…</td><td>&quot;KNOWN&quot;</td></tr><tr><td>&quot;rs4977575&quot;</td><td>9</td><td>22124744</td><td>&quot;C&quot;</td><td>&quot;G&quot;</td><td>0.455</td><td>&quot;−0.264&quot;</td><td>0.018</td><td>0.0</td><td>45.0</td><td>0.012</td><td>&quot;CDKN2B-AS1 (di…</td><td>&quot;intergenic&quot;</td><td>&quot;KNOWN&quot;</td></tr><tr><td>&quot;rs7412&quot;</td><td>19</td><td>45412079</td><td>&quot;T&quot;</td><td>&quot;C&quot;</td><td>0.09</td><td>&quot;−0.313&quot;</td><td>0.039</td><td>0.0</td><td>0.0</td><td>0.657</td><td>&quot;APOE&quot;</td><td>null</td><td>&quot;KNOWN&quot;</td></tr></tbody></table></div>"
      ],
      "text/plain": [
       "shape: (16, 14)\n",
       "┌────────────┬─────┬───────────┬──────────────┬───┬───────┬──────────────┬──────────────┬──────────┐\n",
       "│ rsID       ┆ Chr ┆ Pos_hg19  ┆ Effect_Allel ┆ … ┆ P_het ┆ Nearest_gene ┆ Annotation   ┆ SNP_type │\n",
       "│ ---        ┆ --- ┆ ---       ┆ e            ┆   ┆ ---   ┆ ---          ┆ ---          ┆ ---      │\n",
       "│ str        ┆ i64 ┆ i64       ┆ ---          ┆   ┆ f64   ┆ str          ┆ str          ┆ str      │\n",
       "│            ┆     ┆           ┆ str          ┆   ┆       ┆              ┆              ┆          │\n",
       "╞════════════╪═════╪═══════════╪══════════════╪═══╪═══════╪══════════════╪══════════════╪══════════╡\n",
       "│ rs3844006  ┆ 6   ┆ 132095002 ┆ T            ┆ … ┆ 0.453 ┆ miR-548h-5(d ┆ intergenic   ┆ NOVEL    │\n",
       "│            ┆     ┆           ┆              ┆   ┆       ┆ ist: 18,309  ┆              ┆          │\n",
       "│            ┆     ┆           ┆              ┆   ┆       ┆ bp), ENP…    ┆              ┆          │\n",
       "│ rs2854746  ┆ 7   ┆ 45960645  ┆ C            ┆ … ┆ 0.76  ┆ IGFBP3       ┆ missense     ┆ NOVEL    │\n",
       "│ rs10899970 ┆ 10  ┆ 44515716  ┆ A            ┆ … ┆ 0.94  ┆ AL512640.1(d ┆ intergenic   ┆ NOVEL    │\n",
       "│            ┆     ┆           ┆              ┆   ┆       ┆ ist.:14,271  ┆              ┆          │\n",
       "│            ┆     ┆           ┆              ┆   ┆       ┆ bp), CXC…    ┆              ┆          │\n",
       "│ rs9633535  ┆ 10  ┆ 63836088  ┆ T            ┆ … ┆ 0.407 ┆ ARID5B       ┆ intronic     ┆ NOVEL    │\n",
       "│ …          ┆ …   ┆ …         ┆ …            ┆ … ┆ …     ┆ …            ┆ …            ┆ …        │\n",
       "│ rs72652478 ┆ 9   ┆ 22102043  ┆ C            ┆ … ┆ 0.983 ┆ CDKN2B-AS1   ┆ ncRNA        ┆ KNOWN    │\n",
       "│            ┆     ┆           ┆              ┆   ┆       ┆              ┆ intronic     ┆          │\n",
       "│ rs62555371 ┆ 9   ┆ 22107238  ┆ A            ┆ … ┆ 0.19  ┆ CDKN2B-AS1   ┆ ncRNA        ┆ KNOWN    │\n",
       "│            ┆     ┆           ┆              ┆   ┆       ┆              ┆ intronic     ┆          │\n",
       "│ rs4977575  ┆ 9   ┆ 22124744  ┆ C            ┆ … ┆ 0.012 ┆ CDKN2B-AS1 ( ┆ intergenic   ┆ KNOWN    │\n",
       "│            ┆     ┆           ┆              ┆   ┆       ┆ dist.:       ┆              ┆          │\n",
       "│            ┆     ┆           ┆              ┆   ┆       ┆ -3,651 bp),  ┆              ┆          │\n",
       "│            ┆     ┆           ┆              ┆   ┆       ┆ C…           ┆              ┆          │\n",
       "│ rs7412     ┆ 19  ┆ 45412079  ┆ T            ┆ … ┆ 0.657 ┆ APOE         ┆ null         ┆ KNOWN    │\n",
       "└────────────┴─────┴───────────┴──────────────┴───┴───────┴──────────────┴──────────────┴──────────┘"
      ]
     },
     "execution_count": 8,
     "metadata": {},
     "output_type": "execute_result"
    }
   ],
   "source": [
    "target_variants_cac"
   ]
  },
  {
   "cell_type": "code",
   "execution_count": 9,
   "metadata": {},
   "outputs": [
    {
     "data": {
      "text/html": [
       "<div><style>\n",
       ".dataframe > thead > tr > th,\n",
       ".dataframe > tbody > tr > td {\n",
       "  text-align: right;\n",
       "  white-space: pre-wrap;\n",
       "}\n",
       "</style>\n",
       "<small>shape: (16, 15)</small><table border=\"1\" class=\"dataframe\"><thead><tr><th>RSID</th><th>CHR</th><th>BP</th><th>Effect_Allele</th><th>Other_Allele</th><th>EAF</th><th>BETA</th><th>SE</th><th>p</th><th>N</th><th>Nearest coding gene</th><th>SNP_type</th><th>PHENOTYPE</th><th>dbSNP</th><th>Note</th></tr><tr><td>str</td><td>i64</td><td>i64</td><td>str</td><td>str</td><td>f64</td><td>str</td><td>f64</td><td>str</td><td>i64</td><td>str</td><td>str</td><td>str</td><td>str</td><td>str</td></tr></thead><tbody><tr><td>&quot;rs201648240&quot;</td><td>1</td><td>208953176</td><td>&quot;A&quot;</td><td>&quot;AA&quot;</td><td>0.83</td><td>&quot;−0.0062&quot;</td><td>0.0011</td><td>&quot;4e10-9&quot;</td><td>54752</td><td>&quot;LINC01717&quot;</td><td>&quot;NOVEL&quot;</td><td>&quot;CIMT&quot;</td><td>&quot;https://www.nc…</td><td>&quot;INDEL; alleles…</td></tr><tr><td>&quot;rs224904&quot;</td><td>5</td><td>81637916</td><td>&quot;C&quot;</td><td>&quot;G&quot;</td><td>0.95</td><td>&quot;−0.0088&quot;</td><td>0.0016</td><td>&quot;5e10-8&quot;</td><td>68962</td><td>&quot;ATP6AP1L&quot;</td><td>&quot;NOVEL&quot;</td><td>&quot;CIMT&quot;</td><td>null</td><td>null</td></tr><tr><td>&quot;rs6907215&quot;</td><td>6</td><td>143608968</td><td>&quot;T&quot;</td><td>&quot;C&quot;</td><td>0.6</td><td>&quot;−0.0040&quot;</td><td>0.0007</td><td>&quot;5e10-8&quot;</td><td>64586</td><td>&quot;AIG1&quot;</td><td>&quot;NOVEL&quot;</td><td>&quot;CIMT&quot;</td><td>null</td><td>null</td></tr><tr><td>&quot;rs13225723&quot;</td><td>7</td><td>106416467</td><td>&quot;A&quot;</td><td>&quot;G&quot;</td><td>0.22</td><td>&quot;0.005200&quot;</td><td>0.0009</td><td>&quot;3e10-9&quot;</td><td>68070</td><td>&quot;PIK3CG&quot;</td><td>&quot;NOVEL&quot;</td><td>&quot;CIMT&quot;</td><td>null</td><td>null</td></tr><tr><td>&quot;rs2912063&quot;</td><td>8</td><td>6486033</td><td>&quot;A&quot;</td><td>&quot;G&quot;</td><td>0.71</td><td>&quot;0.004500&quot;</td><td>0.0008</td><td>&quot;9e10-9&quot;</td><td>67401</td><td>&quot;MCPH1&quot;</td><td>&quot;NOVEL&quot;</td><td>&quot;CIMT&quot;</td><td>null</td><td>null</td></tr><tr><td>&quot;rs11785239&quot;</td><td>8</td><td>8205010</td><td>&quot;T&quot;</td><td>&quot;C&quot;</td><td>0.65</td><td>&quot;−0.0043&quot;</td><td>0.0008</td><td>&quot;9e10-9&quot;</td><td>67107</td><td>&quot;SGK223&quot;</td><td>&quot;NOVEL&quot;</td><td>&quot;CIMT&quot;</td><td>null</td><td>null</td></tr><tr><td>&quot;rs11196033&quot;</td><td>10</td><td>114410998</td><td>&quot;A&quot;</td><td>&quot;C&quot;</td><td>0.48</td><td>&quot;0.004200&quot;</td><td>0.0008</td><td>&quot;4e10-8&quot;</td><td>57995</td><td>&quot;VTI1A&quot;</td><td>&quot;NOVEL&quot;</td><td>&quot;CIMT&quot;</td><td>null</td><td>null</td></tr><tr><td>&quot;rs844396&quot;</td><td>16</td><td>88966667</td><td>&quot;T&quot;</td><td>&quot;C&quot;</td><td>0.3</td><td>&quot;−0.0051&quot;</td><td>0.0009</td><td>&quot;6e10-9&quot;</td><td>50377</td><td>&quot;CBFA2T3&quot;</td><td>&quot;NOVEL&quot;</td><td>&quot;CIMT&quot;</td><td>null</td><td>null</td></tr><tr><td>&quot;rs200495339&quot;</td><td>19</td><td>11189298</td><td>&quot;GG&quot;</td><td>&quot;GGG&quot;</td><td>0.11</td><td>&quot;−0.1023&quot;</td><td>0.0179</td><td>&quot;1e10-8&quot;</td><td>36569</td><td>&quot;LDLR&quot;</td><td>&quot;NOVEL&quot;</td><td>&quot;PLAQUE&quot;</td><td>&quot;https://www.nc…</td><td>&quot;INDEL; alleles…</td></tr><tr><td>&quot;rs148147734&quot;</td><td>8</td><td>123401537</td><td>&quot;GGGG&quot;</td><td>&quot;GGGGG&quot;</td><td>0.54</td><td>&quot;0.005000&quot;</td><td>0.0007</td><td>&quot;3e10-11&quot;</td><td>58141</td><td>&quot;ZHX2&quot;</td><td>&quot;KNOWN&quot;</td><td>&quot;CIMT&quot;</td><td>&quot;https://www.nc…</td><td>&quot;INDEL; alleles…</td></tr><tr><td>&quot;rs200482500&quot;</td><td>8</td><td>10606223</td><td>&quot;G&quot;</td><td>&quot;GTACCG&quot;</td><td>0.52</td><td>&quot;0.005600&quot;</td><td>0.0008</td><td>&quot;7e10-12&quot;</td><td>58141</td><td>&quot;PINX1&quot;</td><td>&quot;KNOWN&quot;</td><td>&quot;CIMT&quot;</td><td>&quot;https://www.nc…</td><td>&quot;INDEL; alleles…</td></tr><tr><td>&quot;rs7412&quot;</td><td>19</td><td>45412079</td><td>&quot;T&quot;</td><td>&quot;C&quot;</td><td>0.08</td><td>&quot;−0.0119&quot;</td><td>0.0015</td><td>&quot;1e10-14&quot;</td><td>44607</td><td>&quot;APOE&quot;</td><td>&quot;KNOWN&quot;</td><td>&quot;CIMT&quot;</td><td>null</td><td>null</td></tr><tr><td>&quot;rs11413744&quot;</td><td>4</td><td>148395284</td><td>&quot;T&quot;</td><td>&quot;TT&quot;</td><td>0.86</td><td>&quot;−0.1586&quot;</td><td>0.0253</td><td>&quot;4e10-10&quot;</td><td>39577</td><td>&quot;EDNRA&quot;</td><td>&quot;KNOWN&quot;</td><td>&quot;PLAQUE&quot;</td><td>&quot;https://www.nc…</td><td>&quot;INDEL; alleles…</td></tr><tr><td>&quot;rs17477177&quot;</td><td>7</td><td>106411858</td><td>&quot;T&quot;</td><td>&quot;C&quot;</td><td>0.79</td><td>&quot;−0.1305&quot;</td><td>0.0197</td><td>&quot;4e10-11&quot;</td><td>47863</td><td>&quot;PIK3CG&quot;</td><td>&quot;KNOWN&quot;</td><td>&quot;PLAQUE&quot;</td><td>null</td><td>null</td></tr><tr><td>&quot;rs9632884&quot;</td><td>9</td><td>22072301</td><td>&quot;C&quot;</td><td>&quot;G&quot;</td><td>0.48</td><td>&quot;0.1127&quot;</td><td>0.0163</td><td>&quot;5e10-12&quot;</td><td>45943</td><td>&quot;9p21&quot;</td><td>&quot;KNOWN&quot;</td><td>&quot;PLAQUE&quot;</td><td>null</td><td>null</td></tr><tr><td>&quot;rs113309773&quot;</td><td>16</td><td>75432686</td><td>&quot;A&quot;</td><td>&quot;C&quot;</td><td>0.46</td><td>&quot;−0.1259&quot;</td><td>0.0194</td><td>&quot;9e10-11&quot;</td><td>37104</td><td>&quot;CFDP1- TMEM170…</td><td>&quot;KNOWN&quot;</td><td>&quot;PLAQUE&quot;</td><td>&quot;https://www.nc…</td><td>&quot;INDEL; alleles…</td></tr></tbody></table></div>"
      ],
      "text/plain": [
       "shape: (16, 15)\n",
       "┌─────────────┬─────┬───────────┬─────────────┬───┬──────────┬───────────┬────────────┬────────────┐\n",
       "│ RSID        ┆ CHR ┆ BP        ┆ Effect_Alle ┆ … ┆ SNP_type ┆ PHENOTYPE ┆ dbSNP      ┆ Note       │\n",
       "│ ---         ┆ --- ┆ ---       ┆ le          ┆   ┆ ---      ┆ ---       ┆ ---        ┆ ---        │\n",
       "│ str         ┆ i64 ┆ i64       ┆ ---         ┆   ┆ str      ┆ str       ┆ str        ┆ str        │\n",
       "│             ┆     ┆           ┆ str         ┆   ┆          ┆           ┆            ┆            │\n",
       "╞═════════════╪═════╪═══════════╪═════════════╪═══╪══════════╪═══════════╪════════════╪════════════╡\n",
       "│ rs201648240 ┆ 1   ┆ 208953176 ┆ A           ┆ … ┆ NOVEL    ┆ CIMT      ┆ https://ww ┆ INDEL;     │\n",
       "│             ┆     ┆           ┆             ┆   ┆          ┆           ┆ w.ncbi.nlm ┆ alleles    │\n",
       "│             ┆     ┆           ┆             ┆   ┆          ┆           ┆ .nih.gov/s ┆ may be inc │\n",
       "│             ┆     ┆           ┆             ┆   ┆          ┆           ┆ np…        ┆ omplete…   │\n",
       "│ rs224904    ┆ 5   ┆ 81637916  ┆ C           ┆ … ┆ NOVEL    ┆ CIMT      ┆ null       ┆ null       │\n",
       "│ rs6907215   ┆ 6   ┆ 143608968 ┆ T           ┆ … ┆ NOVEL    ┆ CIMT      ┆ null       ┆ null       │\n",
       "│ rs13225723  ┆ 7   ┆ 106416467 ┆ A           ┆ … ┆ NOVEL    ┆ CIMT      ┆ null       ┆ null       │\n",
       "│ …           ┆ …   ┆ …         ┆ …           ┆ … ┆ …        ┆ …         ┆ …          ┆ …          │\n",
       "│ rs11413744  ┆ 4   ┆ 148395284 ┆ T           ┆ … ┆ KNOWN    ┆ PLAQUE    ┆ https://ww ┆ INDEL;     │\n",
       "│             ┆     ┆           ┆             ┆   ┆          ┆           ┆ w.ncbi.nlm ┆ alleles    │\n",
       "│             ┆     ┆           ┆             ┆   ┆          ┆           ┆ .nih.gov/s ┆ may be inc │\n",
       "│             ┆     ┆           ┆             ┆   ┆          ┆           ┆ np…        ┆ omplete…   │\n",
       "│ rs17477177  ┆ 7   ┆ 106411858 ┆ T           ┆ … ┆ KNOWN    ┆ PLAQUE    ┆ null       ┆ null       │\n",
       "│ rs9632884   ┆ 9   ┆ 22072301  ┆ C           ┆ … ┆ KNOWN    ┆ PLAQUE    ┆ null       ┆ null       │\n",
       "│ rs113309773 ┆ 16  ┆ 75432686  ┆ A           ┆ … ┆ KNOWN    ┆ PLAQUE    ┆ https://ww ┆ INDEL;     │\n",
       "│             ┆     ┆           ┆             ┆   ┆          ┆           ┆ w.ncbi.nlm ┆ alleles    │\n",
       "│             ┆     ┆           ┆             ┆   ┆          ┆           ┆ .nih.gov/s ┆ may be inc │\n",
       "│             ┆     ┆           ┆             ┆   ┆          ┆           ┆ np…        ┆ omplete…   │\n",
       "└─────────────┴─────┴───────────┴─────────────┴───┴──────────┴───────────┴────────────┴────────────┘"
      ]
     },
     "execution_count": 9,
     "metadata": {},
     "output_type": "execute_result"
    }
   ],
   "source": [
    "target_variants_cimt"
   ]
  },
  {
   "cell_type": "markdown",
   "metadata": {},
   "source": [
    "# cis-eQTL (nominal)\n",
    "\n",
    "Here we load the nominal _cis_-acting eQTL data."
   ]
  },
  {
   "cell_type": "code",
   "execution_count": 10,
   "metadata": {},
   "outputs": [],
   "source": [
    "# read in data\n",
    "# https://stackoverflow.com/questions/33813815/how-to-read-a-parquet-file-into-pandas-dataframe\n",
    "\n",
    "import polars as pl\n",
    "\n",
    "# annotated cis-eQTLs\n",
    "sumstats_nom_cis_eqtl = pl.read_parquet(\n",
    "    source=os.path.join(\n",
    "        NOM_CIS_EQTL_loc, \"tensorqtl_nominal_cis_qtl_pairs.annot.parquet\"\n",
    "    )\n",
    ")"
   ]
  },
  {
   "cell_type": "code",
   "execution_count": 11,
   "metadata": {},
   "outputs": [
    {
     "data": {
      "text/html": [
       "<div><style>\n",
       ".dataframe > thead > tr > th,\n",
       ".dataframe > tbody > tr > td {\n",
       "  text-align: right;\n",
       "  white-space: pre-wrap;\n",
       "}\n",
       "</style>\n",
       "<small>shape: (77_285_276, 25)</small><table border=\"1\" class=\"dataframe\"><thead><tr><th>EnsemblID</th><th>VariantID</th><th>tss_distance</th><th>CAF_eQTL</th><th>ma_samples</th><th>ma_count</th><th>pval_nominal</th><th>Beta</th><th>SE</th><th>chromosome</th><th>position</th><th>OtherAlleleA</th><th>CodedAlleleB</th><th>CAF</th><th>AltID</th><th>Source</th><th>AverageMaximumPosteriorCall</th><th>Info</th><th>AA_N</th><th>AB_N</th><th>BB_N</th><th>TotalN</th><th>MAF</th><th>MissingDataProportion</th><th>HWE_P</th></tr><tr><td>str</td><td>str</td><td>i32</td><td>f32</td><td>i32</td><td>i32</td><td>f64</td><td>f32</td><td>f32</td><td>i64</td><td>i64</td><td>str</td><td>str</td><td>f64</td><td>str</td><td>str</td><td>f64</td><td>f64</td><td>f64</td><td>f64</td><td>f64</td><td>i64</td><td>f64</td><td>f64</td><td>f64</td></tr></thead><tbody><tr><td>&quot;ENSG0000018763…</td><td>&quot;1:693731&quot;</td><td>-240519</td><td>0.134185</td><td>153</td><td>168</td><td>0.881492</td><td>0.005953</td><td>0.039917</td><td>1</td><td>693731</td><td>&quot;A&quot;</td><td>&quot;G&quot;</td><td>0.137241</td><td>&quot;rs12238997&quot;</td><td>&quot;HRCr11&quot;</td><td>0.902046</td><td>0.624501</td><td>1637.01</td><td>451.103</td><td>35.569</td><td>2124</td><td>0.122957</td><td>0.000075</td><td>0.544841</td></tr><tr><td>&quot;ENSG0000018763…</td><td>&quot;1:714596&quot;</td><td>-219654</td><td>0.038339</td><td>48</td><td>48</td><td>0.834746</td><td>-0.015369</td><td>0.073635</td><td>1</td><td>714596</td><td>&quot;T&quot;</td><td>&quot;C&quot;</td><td>0.0327213</td><td>&quot;rs149887893&quot;</td><td>&quot;HRCr11&quot;</td><td>0.968278</td><td>0.577564</td><td>1987.73</td><td>135.495</td><td>0.677</td><td>2124</td><td>0.0322165</td><td>0.000024</td><td>0.272504</td></tr><tr><td>&quot;ENSG0000018763…</td><td>&quot;1:715367&quot;</td><td>-218883</td><td>0.038339</td><td>48</td><td>48</td><td>0.834746</td><td>-0.015369</td><td>0.073635</td><td>1</td><td>715367</td><td>&quot;A&quot;</td><td>&quot;G&quot;</td><td>0.0324859</td><td>&quot;rs12184277&quot;</td><td>&quot;HRCr11&quot;</td><td>0.975207</td><td>0.67196</td><td>1976.85</td><td>146.512</td><td>0.556</td><td>2124</td><td>0.0347528</td><td>0.000019</td><td>0.176551</td></tr><tr><td>&quot;ENSG0000018763…</td><td>&quot;1:717485&quot;</td><td>-216765</td><td>0.038339</td><td>48</td><td>48</td><td>0.834746</td><td>-0.015369</td><td>0.073635</td><td>1</td><td>717485</td><td>&quot;C&quot;</td><td>&quot;A&quot;</td><td>0.0324859</td><td>&quot;rs12184279&quot;</td><td>&quot;HRCr11&quot;</td><td>0.975183</td><td>0.670147</td><td>1978.35</td><td>145.041</td><td>0.517</td><td>2124</td><td>0.0343883</td><td>0.000022</td><td>0.174817</td></tr><tr><td>&quot;ENSG0000018763…</td><td>&quot;1:720381&quot;</td><td>-213869</td><td>0.038339</td><td>48</td><td>48</td><td>0.834746</td><td>-0.015369</td><td>0.073635</td><td>1</td><td>720381</td><td>&quot;G&quot;</td><td>&quot;T&quot;</td><td>0.0327213</td><td>&quot;rs116801199&quot;</td><td>&quot;HRCr11&quot;</td><td>0.974476</td><td>0.667536</td><td>1973.72</td><td>149.503</td><td>0.691</td><td>2124</td><td>0.0355205</td><td>0.00002</td><td>0.110452</td></tr><tr><td>&quot;ENSG0000018763…</td><td>&quot;1:721290&quot;</td><td>-212960</td><td>0.038339</td><td>48</td><td>48</td><td>0.834746</td><td>-0.015369</td><td>0.073635</td><td>1</td><td>721290</td><td>&quot;G&quot;</td><td>&quot;C&quot;</td><td>0.0327213</td><td>&quot;rs12565286&quot;</td><td>&quot;HRCr11&quot;</td><td>0.975168</td><td>0.677386</td><td>1972.67</td><td>150.564</td><td>0.687</td><td>2124</td><td>0.0357682</td><td>0.000017</td><td>0.110447</td></tr><tr><td>&quot;ENSG0000018763…</td><td>&quot;1:726794&quot;</td><td>-207456</td><td>0.038339</td><td>48</td><td>48</td><td>0.834746</td><td>-0.015369</td><td>0.073635</td><td>1</td><td>726794</td><td>&quot;C&quot;</td><td>&quot;G&quot;</td><td>0.0324859</td><td>&quot;rs28454925&quot;</td><td>&quot;HRCr11&quot;</td><td>0.977817</td><td>0.70519</td><td>1977.3</td><td>146.099</td><td>0.547</td><td>2124</td><td>0.0346509</td><td>0.000013</td><td>0.176493</td></tr><tr><td>&quot;ENSG0000018763…</td><td>&quot;1:729632&quot;</td><td>-204618</td><td>0.038339</td><td>48</td><td>48</td><td>0.834746</td><td>-0.015369</td><td>0.073635</td><td>1</td><td>729632</td><td>&quot;C&quot;</td><td>&quot;T&quot;</td><td>0.0324859</td><td>&quot;rs116720794&quot;</td><td>&quot;HRCr11&quot;</td><td>0.978581</td><td>0.715529</td><td>1976.76</td><td>146.752</td><td>0.454</td><td>2124</td><td>0.0347604</td><td>0.000008</td><td>0.176551</td></tr><tr><td>&quot;ENSG0000018763…</td><td>&quot;1:729679&quot;</td><td>-204571</td><td>0.829073</td><td>195</td><td>214</td><td>0.678049</td><td>0.015322</td><td>0.03689</td><td>1</td><td>729679</td><td>&quot;C&quot;</td><td>&quot;G&quot;</td><td>0.829331</td><td>&quot;rs4951859&quot;</td><td>&quot;HRCr11&quot;</td><td>0.936062</td><td>0.78861</td><td>58.204</td><td>600.893</td><td>1464.61</td><td>2124</td><td>0.16888</td><td>0.00007</td><td>0.757157</td></tr><tr><td>&quot;ENSG0000018763…</td><td>&quot;1:730087&quot;</td><td>-204163</td><td>0.010383</td><td>13</td><td>13</td><td>0.068513</td><td>-0.24805</td><td>0.135916</td><td>1</td><td>730087</td><td>&quot;T&quot;</td><td>&quot;C&quot;</td><td>0.0216573</td><td>&quot;rs148120343&quot;</td><td>&quot;HRCr11&quot;</td><td>0.919602</td><td>0.439455</td><td>1902.75</td><td>213.581</td><td>7.655</td><td>2124</td><td>0.0538824</td><td>0.000003</td><td>0.665385</td></tr><tr><td>&quot;ENSG0000018763…</td><td>&quot;1:734349&quot;</td><td>-199901</td><td>0.142173</td><td>160</td><td>178</td><td>0.847613</td><td>-0.007442</td><td>0.03871</td><td>1</td><td>734349</td><td>&quot;T&quot;</td><td>&quot;C&quot;</td><td>0.141243</td><td>&quot;rs141242758&quot;</td><td>&quot;HRCr11&quot;</td><td>0.937888</td><td>0.763468</td><td>1613.05</td><td>470.328</td><td>40.551</td><td>2124</td><td>0.129814</td><td>0.000016</td><td>0.386753</td></tr><tr><td>&quot;ENSG0000018763…</td><td>&quot;1:749963&quot;</td><td>-184287</td><td>0.849042</td><td>173</td><td>189</td><td>0.541253</td><td>0.023601</td><td>0.038609</td><td>1</td><td>749963</td><td>&quot;T&quot;</td><td>&quot;TAA&quot;</td><td>0.852401</td><td>&quot;rs529266287&quot;</td><td>&quot;1000Gp3v5&quot;</td><td>0.827744</td><td>0.414116</td><td>50.784</td><td>535.798</td><td>1537.19</td><td>2124</td><td>0.150055</td><td>0.000054</td><td>0.669638</td></tr><tr><td>&hellip;</td><td>&hellip;</td><td>&hellip;</td><td>&hellip;</td><td>&hellip;</td><td>&hellip;</td><td>&hellip;</td><td>&hellip;</td><td>&hellip;</td><td>&hellip;</td><td>&hellip;</td><td>&hellip;</td><td>&hellip;</td><td>&hellip;</td><td>&hellip;</td><td>&hellip;</td><td>&hellip;</td><td>&hellip;</td><td>&hellip;</td><td>&hellip;</td><td>&hellip;</td><td>&hellip;</td><td>&hellip;</td><td>&hellip;</td><td>&hellip;</td></tr><tr><td>&quot;ENSG0000007997…</td><td>&quot;22:51211392&quot;</td><td>435807</td><td>0.110224</td><td>129</td><td>138</td><td>0.674672</td><td>-0.006576</td><td>0.015659</td><td>22</td><td>51211392</td><td>&quot;T&quot;</td><td>&quot;C&quot;</td><td>0.115819</td><td>&quot;rs3888396&quot;</td><td>&quot;HRCr11&quot;</td><td>0.907153</td><td>0.67269</td><td>1567.31</td><td>514.451</td><td>42.166</td><td>2124</td><td>0.140961</td><td>0.000017</td><td>1.0</td></tr><tr><td>&quot;ENSG0000007997…</td><td>&quot;22:51212875&quot;</td><td>437290</td><td>0.284345</td><td>306</td><td>356</td><td>0.837243</td><td>-0.002278</td><td>0.011084</td><td>22</td><td>51212875</td><td>&quot;A&quot;</td><td>&quot;C&quot;</td><td>0.294021</td><td>&quot;rs2238837&quot;</td><td>&quot;HRCr11&quot;</td><td>0.697709</td><td>0.417753</td><td>977.671</td><td>930.827</td><td>215.539</td><td>2124</td><td>0.320594</td><td>-0.000009</td><td>0.803234</td></tr><tr><td>&quot;ENSG0000007997…</td><td>&quot;22:51213613&quot;</td><td>438028</td><td>0.091054</td><td>109</td><td>114</td><td>0.617366</td><td>0.008647</td><td>0.017299</td><td>22</td><td>51213613</td><td>&quot;C&quot;</td><td>&quot;T&quot;</td><td>0.0983992</td><td>&quot;rs34726907&quot;</td><td>&quot;HRCr11&quot;</td><td>0.911371</td><td>0.641652</td><td>1626.52</td><td>457.317</td><td>40.076</td><td>2124</td><td>0.126528</td><td>0.000021</td><td>0.238094</td></tr><tr><td>&quot;ENSG0000007997…</td><td>&quot;22:51216564&quot;</td><td>440979</td><td>0.094249</td><td>113</td><td>118</td><td>0.514632</td><td>0.011129</td><td>0.017068</td><td>22</td><td>51216564</td><td>&quot;T&quot;</td><td>&quot;C&quot;</td><td>0.0993409</td><td>&quot;rs9616970&quot;</td><td>&quot;HRCr11&quot;</td><td>0.910966</td><td>0.641416</td><td>1625.01</td><td>457.918</td><td>40.952</td><td>2124</td><td>0.127084</td><td>0.000028</td><td>0.238248</td></tr><tr><td>&quot;ENSG0000007997…</td><td>&quot;22:51217954&quot;</td><td>442369</td><td>0.039137</td><td>47</td><td>49</td><td>0.941986</td><td>-0.001824</td><td>0.025058</td><td>22</td><td>51217954</td><td>&quot;G&quot;</td><td>&quot;A&quot;</td><td>0.048258</td><td>&quot;rs9616974&quot;</td><td>&quot;HRCr11&quot;</td><td>0.935934</td><td>0.589496</td><td>1820.62</td><td>288.326</td><td>14.958</td><td>2124</td><td>0.0749191</td><td>0.000023</td><td>0.432722</td></tr><tr><td>&quot;ENSG0000007997…</td><td>&quot;22:51218224&quot;</td><td>442639</td><td>0.039137</td><td>47</td><td>49</td><td>0.941986</td><td>-0.001824</td><td>0.025058</td><td>22</td><td>51218224</td><td>&quot;C&quot;</td><td>&quot;A&quot;</td><td>0.048258</td><td>&quot;rs9616975&quot;</td><td>&quot;HRCr11&quot;</td><td>0.935875</td><td>0.589149</td><td>1820.57</td><td>288.351</td><td>14.964</td><td>2124</td><td>0.0749286</td><td>0.000028</td><td>0.432722</td></tr><tr><td>&quot;ENSG0000007997…</td><td>&quot;22:51219006&quot;</td><td>443421</td><td>0.098243</td><td>118</td><td>123</td><td>0.444242</td><td>0.012895</td><td>0.016843</td><td>22</td><td>51219006</td><td>&quot;G&quot;</td><td>&quot;A&quot;</td><td>0.102872</td><td>&quot;rs28729663&quot;</td><td>&quot;HRCr11&quot;</td><td>0.892158</td><td>0.597195</td><td>1583.78</td><td>493.515</td><td>46.538</td><td>2124</td><td>0.138097</td><td>0.000038</td><td>0.31437</td></tr><tr><td>&quot;ENSG0000007997…</td><td>&quot;22:51220249&quot;</td><td>444664</td><td>0.035942</td><td>43</td><td>45</td><td>0.863512</td><td>-0.004492</td><td>0.026119</td><td>22</td><td>51220249</td><td>&quot;A&quot;</td><td>&quot;T&quot;</td><td>0.0442561</td><td>&quot;rs9616977&quot;</td><td>&quot;1000Gp3v5&quot;</td><td>0.913151</td><td>0.403798</td><td>1832.6</td><td>278.562</td><td>12.692</td><td>2124</td><td>0.0715553</td><td>0.000034</td><td>0.622809</td></tr><tr><td>&quot;ENSG0000007997…</td><td>&quot;22:51221190&quot;</td><td>445605</td><td>0.035144</td><td>42</td><td>44</td><td>0.671267</td><td>0.011112</td><td>0.026169</td><td>22</td><td>51221190</td><td>&quot;G&quot;</td><td>&quot;A&quot;</td><td>0.0400188</td><td>&quot;rs369304721&quot;</td><td>&quot;HRCr11&quot;</td><td>0.933398</td><td>0.443438</td><td>1911.83</td><td>204.73</td><td>7.373</td><td>2124</td><td>0.0516673</td><td>0.000015</td><td>0.500544</td></tr><tr><td>&quot;ENSG0000007997…</td><td>&quot;22:51221731&quot;</td><td>446146</td><td>0.035942</td><td>43</td><td>45</td><td>0.863512</td><td>-0.004492</td><td>0.026119</td><td>22</td><td>51221731</td><td>&quot;T&quot;</td><td>&quot;C&quot;</td><td>0.0442561</td><td>&quot;rs115055839&quot;</td><td>&quot;HRCr11&quot;</td><td>0.911894</td><td>0.405944</td><td>1826.36</td><td>284.126</td><td>13.448</td><td>2124</td><td>0.0732185</td><td>0.000016</td><td>0.523538</td></tr><tr><td>&quot;ENSG0000007997…</td><td>&quot;22:51222100&quot;</td><td>446515</td><td>0.054313</td><td>67</td><td>68</td><td>0.408353</td><td>0.018264</td><td>0.022074</td><td>22</td><td>51222100</td><td>&quot;G&quot;</td><td>&quot;T&quot;</td><td>0.0503766</td><td>&quot;rs114553188&quot;</td><td>&quot;HRCr11&quot;</td><td>0.969267</td><td>0.716716</td><td>1911.95</td><td>205.392</td><td>6.52</td><td>2124</td><td>0.0514234</td><td>0.000033</td><td>0.821168</td></tr><tr><td>&quot;ENSG0000007997…</td><td>&quot;22:51229805&quot;</td><td>454220</td><td>0.038339</td><td>46</td><td>48</td><td>0.973919</td><td>-0.000827</td><td>0.025284</td><td>22</td><td>51229805</td><td>&quot;T&quot;</td><td>&quot;C&quot;</td><td>0.0477872</td><td>&quot;rs9616985&quot;</td><td>&quot;HRCr11&quot;</td><td>0.935419</td><td>0.585</td><td>1821.25</td><td>287.583</td><td>15.116</td><td>2124</td><td>0.0748171</td><td>0.000012</td><td>0.342973</td></tr></tbody></table></div>"
      ],
      "text/plain": [
       "shape: (77_285_276, 25)\n",
       "┌────────────┬────────────┬────────────┬──────────┬───┬────────┬───────────┬────────────┬──────────┐\n",
       "│ EnsemblID  ┆ VariantID  ┆ tss_distan ┆ CAF_eQTL ┆ … ┆ TotalN ┆ MAF       ┆ MissingDat ┆ HWE_P    │\n",
       "│ ---        ┆ ---        ┆ ce         ┆ ---      ┆   ┆ ---    ┆ ---       ┆ aProportio ┆ ---      │\n",
       "│ str        ┆ str        ┆ ---        ┆ f32      ┆   ┆ i64    ┆ f64       ┆ n          ┆ f64      │\n",
       "│            ┆            ┆ i32        ┆          ┆   ┆        ┆           ┆ ---        ┆          │\n",
       "│            ┆            ┆            ┆          ┆   ┆        ┆           ┆ f64        ┆          │\n",
       "╞════════════╪════════════╪════════════╪══════════╪═══╪════════╪═══════════╪════════════╪══════════╡\n",
       "│ ENSG000001 ┆ 1:693731   ┆ -240519    ┆ 0.134185 ┆ … ┆ 2124   ┆ 0.122957  ┆ 0.000075   ┆ 0.544841 │\n",
       "│ 87634      ┆            ┆            ┆          ┆   ┆        ┆           ┆            ┆          │\n",
       "│ ENSG000001 ┆ 1:714596   ┆ -219654    ┆ 0.038339 ┆ … ┆ 2124   ┆ 0.0322165 ┆ 0.000024   ┆ 0.272504 │\n",
       "│ 87634      ┆            ┆            ┆          ┆   ┆        ┆           ┆            ┆          │\n",
       "│ ENSG000001 ┆ 1:715367   ┆ -218883    ┆ 0.038339 ┆ … ┆ 2124   ┆ 0.0347528 ┆ 0.000019   ┆ 0.176551 │\n",
       "│ 87634      ┆            ┆            ┆          ┆   ┆        ┆           ┆            ┆          │\n",
       "│ ENSG000001 ┆ 1:717485   ┆ -216765    ┆ 0.038339 ┆ … ┆ 2124   ┆ 0.0343883 ┆ 0.000022   ┆ 0.174817 │\n",
       "│ 87634      ┆            ┆            ┆          ┆   ┆        ┆           ┆            ┆          │\n",
       "│ …          ┆ …          ┆ …          ┆ …        ┆ … ┆ …      ┆ …         ┆ …          ┆ …        │\n",
       "│ ENSG000000 ┆ 22:5122119 ┆ 445605     ┆ 0.035144 ┆ … ┆ 2124   ┆ 0.0516673 ┆ 0.000015   ┆ 0.500544 │\n",
       "│ 79974      ┆ 0          ┆            ┆          ┆   ┆        ┆           ┆            ┆          │\n",
       "│ ENSG000000 ┆ 22:5122173 ┆ 446146     ┆ 0.035942 ┆ … ┆ 2124   ┆ 0.0732185 ┆ 0.000016   ┆ 0.523538 │\n",
       "│ 79974      ┆ 1          ┆            ┆          ┆   ┆        ┆           ┆            ┆          │\n",
       "│ ENSG000000 ┆ 22:5122210 ┆ 446515     ┆ 0.054313 ┆ … ┆ 2124   ┆ 0.0514234 ┆ 0.000033   ┆ 0.821168 │\n",
       "│ 79974      ┆ 0          ┆            ┆          ┆   ┆        ┆           ┆            ┆          │\n",
       "│ ENSG000000 ┆ 22:5122980 ┆ 454220     ┆ 0.038339 ┆ … ┆ 2124   ┆ 0.0748171 ┆ 0.000012   ┆ 0.342973 │\n",
       "│ 79974      ┆ 5          ┆            ┆          ┆   ┆        ┆           ┆            ┆          │\n",
       "└────────────┴────────────┴────────────┴──────────┴───┴────────┴───────────┴────────────┴──────────┘"
      ]
     },
     "execution_count": 11,
     "metadata": {},
     "output_type": "execute_result"
    }
   ],
   "source": [
    "sumstats_nom_cis_eqtl"
   ]
  },
  {
   "cell_type": "markdown",
   "metadata": {},
   "source": [
    "## PGC\n",
    "\n",
    "GWAS on MDD: major depressive disorder."
   ]
  },
  {
   "cell_type": "code",
   "execution_count": 12,
   "metadata": {},
   "outputs": [
    {
     "name": "stdout",
     "output_type": "stream",
     "text": [
      "Merging target variants with nominal cis-eQTLs.\n",
      "Sorting the DataFrame by column \"pval_nominal\" in descending order.\n",
      "Showing the first 5 rows of the DataFrame.\n",
      "shape: (5_822, 37)\n",
      "┌──────┬───────┬─────────────┬─────┬───┬────────┬───────────┬───────────────────────┬───────────┐\n",
      "│ RSID ┆ ALTID ┆ VariantID   ┆ Chr ┆ … ┆ TotalN ┆ MAF       ┆ MissingDataProportion ┆ HWE_P     │\n",
      "│ ---  ┆ ---   ┆ ---         ┆ --- ┆   ┆ ---    ┆ ---       ┆ ---                   ┆ ---       │\n",
      "│ str  ┆ str   ┆ str         ┆ i64 ┆   ┆ i64    ┆ f64       ┆ f64                   ┆ f64       │\n",
      "╞══════╪═══════╪═════════════╪═════╪═══╪════════╪═══════════╪═══════════════════════╪═══════════╡\n",
      "│ ---  ┆ ---   ┆ 11:73525881 ┆ 11  ┆ … ┆ 2124   ┆ 0.445842  ┆ 0.000016              ┆ 0.272289  │\n",
      "│ ---  ┆ ---   ┆ 6:29659124  ┆ 6   ┆ … ┆ 2124   ┆ 0.345331  ┆ 0.000009              ┆ 0.564475  │\n",
      "│ ---  ┆ ---   ┆ 11:61571348 ┆ 11  ┆ … ┆ 2124   ┆ 0.296173  ┆ 7.0622e-7             ┆ 0.131178  │\n",
      "│ ---  ┆ ---   ┆ 1:67500894  ┆ 1   ┆ … ┆ 2124   ┆ 0.228034  ┆ 0.000004              ┆ 0.0841735 │\n",
      "│ …    ┆ …     ┆ …           ┆ …   ┆ … ┆ …      ┆ …         ┆ …                     ┆ …         │\n",
      "│ ---  ┆ ---   ┆ 16:51212775 ┆ 16  ┆ … ┆ 2124   ┆ 0.207721  ┆ 0.000011              ┆ 0.355866  │\n",
      "│ ---  ┆ ---   ┆ 9:125647367 ┆ 9   ┆ … ┆ 2124   ┆ 0.118529  ┆ 0.000005              ┆ 0.0595787 │\n",
      "│ ---  ┆ ---   ┆ 14:64743301 ┆ 14  ┆ … ┆ 2124   ┆ 0.446193  ┆ 9.4162e-7             ┆ 0.598349  │\n",
      "│ ---  ┆ ---   ┆ 1:35765084  ┆ 1   ┆ … ┆ 2124   ┆ 0.0403899 ┆ 0.00001               ┆ 1.0       │\n",
      "└──────┴───────┴─────────────┴─────┴───┴────────┴───────────┴───────────────────────┴───────────┘\n",
      "Exporting the Polars DataFrame to a CSV file.\n"
     ]
    }
   ],
   "source": [
    "import os\n",
    "import polars as pl\n",
    "import pandas as pd\n",
    "\n",
    "print(\"Merging target variants with nominal cis-eQTLs.\")\n",
    "# Perform the join operation\n",
    "temp = target_variants_pgc.join(\n",
    "    sumstats_nom_cis_eqtl, left_on=\"VariantID\", right_on=\"VariantID\", how=\"inner\"\n",
    ")\n",
    "print('Sorting the DataFrame by column \"pval_nominal\" in descending order.')\n",
    "# Sort the DataFrame by column 'A' in descending order\n",
    "target_variants_pgc_nom_cis_eqtl = temp.sort(\"pval_nominal\")\n",
    "del temp\n",
    "\n",
    "print(\"Showing the first 5 rows of the DataFrame.\")\n",
    "# Display the sorted DataFrame in descending order\n",
    "print(target_variants_pgc_nom_cis_eqtl)\n",
    "\n",
    "print(\"Exporting the Polars DataFrame to a CSV file.\")\n",
    "# Export the Polars DataFrame to a CSV file\n",
    "target_variants_pgc_nom_cis_eqtl.write_csv(\n",
    "    os.path.join(molQTL_loc, \"pgc_target_variants_nom_cis_eqtl.csv\")\n",
    ")"
   ]
  },
  {
   "cell_type": "markdown",
   "metadata": {},
   "source": [
    "## Million Hearts\n",
    "\n",
    "GWAS on CAD: coronary artery disease."
   ]
  },
  {
   "cell_type": "code",
   "execution_count": 13,
   "metadata": {},
   "outputs": [
    {
     "name": "stdout",
     "output_type": "stream",
     "text": [
      "Merging target variants with nominal cis-eQTLs.\n",
      "Sorting the DataFrame by column \"pval_nominal\" in descending order.\n",
      "Showing the first 5 rows of the DataFrame.\n",
      "shape: (9_523, 48)\n",
      "┌─────────────┬────────────────┬─────┬──────────┬───┬────────┬──────────┬───────────────┬──────────┐\n",
      "│ VariantID   ┆ MarkerName     ┆ CHR ┆ BP       ┆ … ┆ TotalN ┆ MAF      ┆ MissingDataPr ┆ HWE_P    │\n",
      "│ ---         ┆ ---            ┆ --- ┆ ---      ┆   ┆ ---    ┆ ---      ┆ oportion      ┆ ---      │\n",
      "│ str         ┆ str            ┆ i64 ┆ i64      ┆   ┆ i64    ┆ f64      ┆ ---           ┆ f64      │\n",
      "│             ┆                ┆     ┆          ┆   ┆        ┆          ┆ f64           ┆          │\n",
      "╞═════════════╪════════════════╪═════╪══════════╪═══╪════════╪══════════╪═══════════════╪══════════╡\n",
      "│ 6:31888367  ┆ 6:31888367_C_T ┆ 6   ┆ 31888367 ┆ … ┆ 2124   ┆ 0.134741 ┆ 0.000002      ┆ 0.512893 │\n",
      "│ 7:6486067   ┆ 7:6486067_C_T  ┆ 7   ┆ 6486067  ┆ … ┆ 2124   ┆ 0.210286 ┆ 0.000004      ┆ 0.556702 │\n",
      "│ 7:6446027   ┆ 7:6446027_A_G  ┆ 7   ┆ 6446027  ┆ … ┆ 2124   ┆ 0.204409 ┆ 0.000005      ┆ 0.593186 │\n",
      "│ 6:31888367  ┆ 6:31888367_C_T ┆ 6   ┆ 31888367 ┆ … ┆ 2124   ┆ 0.134741 ┆ 0.000002      ┆ 0.512893 │\n",
      "│ …           ┆ …              ┆ …   ┆ …        ┆ … ┆ …      ┆ …        ┆ …             ┆ …        │\n",
      "│ 4:82587050  ┆ 4:82587050_A_G ┆ 4   ┆ 82587050 ┆ … ┆ 2124   ┆ 0.308428 ┆ 0.000005      ┆ 0.169559 │\n",
      "│ 21:35655734 ┆ 21:35655734_A_ ┆ 21  ┆ 35655734 ┆ … ┆ 2124   ┆ 0.259979 ┆ 0.000013      ┆ 0.309955 │\n",
      "│             ┆ G              ┆     ┆          ┆   ┆        ┆          ┆               ┆          │\n",
      "│ 16:15909513 ┆ 16:15909513_A_ ┆ 16  ┆ 15909513 ┆ … ┆ 2124   ┆ 0.452185 ┆ 0.000014      ┆ 0.483293 │\n",
      "│             ┆ C              ┆     ┆          ┆   ┆        ┆          ┆               ┆          │\n",
      "│ 17:73841285 ┆ 17:73841285_C_ ┆ 17  ┆ 73841285 ┆ … ┆ 2124   ┆ 0.35936  ┆ 0.000009      ┆ 0.887587 │\n",
      "│             ┆ T              ┆     ┆          ┆   ┆        ┆          ┆               ┆          │\n",
      "└─────────────┴────────────────┴─────┴──────────┴───┴────────┴──────────┴───────────────┴──────────┘\n",
      "Exporting the Polars DataFrame to a CSV file.\n"
     ]
    }
   ],
   "source": [
    "import os\n",
    "import polars as pl\n",
    "import pandas as pd\n",
    "\n",
    "print(\"Merging target variants with nominal cis-eQTLs.\")\n",
    "# Perform the join operation\n",
    "temp = target_variants_millionhearts.join(\n",
    "    sumstats_nom_cis_eqtl, left_on=\"VariantID\", right_on=\"VariantID\", how=\"inner\"\n",
    ")\n",
    "print('Sorting the DataFrame by column \"pval_nominal\" in descending order.')\n",
    "# Sort the DataFrame by column 'A' in descending order\n",
    "target_variants_millionhearts_nom_cis_eqtl = temp.sort(\"pval_nominal\")\n",
    "del temp\n",
    "\n",
    "print(\"Showing the first 5 rows of the DataFrame.\")\n",
    "# Display the sorted DataFrame in descending order\n",
    "print(target_variants_millionhearts_nom_cis_eqtl)\n",
    "\n",
    "print(\"Exporting the Polars DataFrame to a CSV file.\")\n",
    "# Export the Polars DataFrame to a CSV file\n",
    "target_variants_millionhearts_nom_cis_eqtl.write_csv(\n",
    "    os.path.join(molQTL_loc, \"millionhearts_target_variants_nom_cis_eqtl.csv\")\n",
    ")"
   ]
  },
  {
   "cell_type": "markdown",
   "metadata": {},
   "source": [
    "## GIGASTROKE\n",
    "\n",
    "All loci together."
   ]
  },
  {
   "cell_type": "code",
   "execution_count": 14,
   "metadata": {},
   "outputs": [
    {
     "name": "stdout",
     "output_type": "stream",
     "text": [
      "Merging target variants with nominal cis-eQTLs.\n",
      "Sorting the DataFrame by column \"pval_nominal\" in descending order.\n",
      "Showing the first 5 rows of the DataFrame.\n",
      "shape: (1_323, 53)\n",
      "┌───────┬────────────┬─────────────┬─────┬───┬────────┬───────────┬─────────────────────┬──────────┐\n",
      "│ Index ┆ rsID       ┆ VariantID   ┆ Chr ┆ … ┆ TotalN ┆ MAF       ┆ MissingDataProporti ┆ HWE_P    │\n",
      "│ ---   ┆ ---        ┆ ---         ┆ --- ┆   ┆ ---    ┆ ---       ┆ on                  ┆ ---      │\n",
      "│ i64   ┆ str        ┆ str         ┆ i64 ┆   ┆ i64    ┆ f64       ┆ ---                 ┆ f64      │\n",
      "│       ┆            ┆             ┆     ┆   ┆        ┆           ┆ f64                 ┆          │\n",
      "╞═══════╪════════════╪═════════════╪═════╪═══╪════════╪═══════════╪═════════════════════╪══════════╡\n",
      "│ 58    ┆ rs28860769 ┆ 19:10737581 ┆ 19  ┆ … ┆ 2124   ┆ 0.189858  ┆ 0.000011            ┆ 0.943753 │\n",
      "│ 19    ┆ rs36229526 ┆ 6:32820656  ┆ 6   ┆ … ┆ 2124   ┆ 0.0777784 ┆ 7.0622e-7           ┆ 0.87893  │\n",
      "│ 29    ┆ rs1549758  ┆ 7:150695726 ┆ 7   ┆ … ┆ 2124   ┆ 0.275061  ┆ 0.000003            ┆ 0.91332  │\n",
      "│ 87    ┆ rs4471742  ┆ 17:17877771 ┆ 17  ┆ … ┆ 2124   ┆ 0.341493  ┆ 0.000011            ┆ 0.469488 │\n",
      "│ …     ┆ …          ┆ …           ┆ …   ┆ … ┆ …      ┆ …         ┆ …                   ┆ …        │\n",
      "│ 64    ┆ rs28673728 ┆ 1:38409073  ┆ 1   ┆ … ┆ 2124   ┆ 0.47174   ┆ 0.00001             ┆ 0.896094 │\n",
      "│ 22    ┆ rs56393506 ┆ 6:161089307 ┆ 6   ┆ … ┆ 2124   ┆ 0.190236  ┆ 0.00001             ┆ 0.572645 │\n",
      "│ 81    ┆ rs557675   ┆ 11:65566719 ┆ 11  ┆ … ┆ 2124   ┆ 0.43739   ┆ 0.00002             ┆ 0.929708 │\n",
      "│ 31    ┆ rs4298492  ┆ 8:26024889  ┆ 8   ┆ … ┆ 2124   ┆ 0.259122  ┆ 0.000004            ┆ 1.0      │\n",
      "└───────┴────────────┴─────────────┴─────┴───┴────────┴───────────┴─────────────────────┴──────────┘\n",
      "Exporting the Polars DataFrame to a CSV file.\n"
     ]
    }
   ],
   "source": [
    "import os\n",
    "import polars as pl\n",
    "import pandas as pd\n",
    "\n",
    "print(\"Merging target variants with nominal cis-eQTLs.\")\n",
    "# Perform the join operation\n",
    "temp = target_variants_gigastroke.join(\n",
    "    sumstats_nom_cis_eqtl, left_on=\"VariantID\", right_on=\"VariantID\", how=\"inner\"\n",
    ")\n",
    "print('Sorting the DataFrame by column \"pval_nominal\" in descending order.')\n",
    "# Sort the DataFrame by column 'A' in descending order\n",
    "target_variants_gigastroke_nom_cis_eqtl = temp.sort(\"pval_nominal\")\n",
    "del temp\n",
    "\n",
    "print(\"Showing the first 5 rows of the DataFrame.\")\n",
    "# Display the sorted DataFrame in descending order\n",
    "print(target_variants_gigastroke_nom_cis_eqtl)\n",
    "\n",
    "print(\"Exporting the Polars DataFrame to a CSV file.\")\n",
    "# Export the Polars DataFrame to a CSV file\n",
    "target_variants_gigastroke_nom_cis_eqtl.write_csv(\n",
    "    os.path.join(molQTL_loc, \"gigastroke_target_variants_nom_cis_eqtl.csv\")\n",
    ")"
   ]
  },
  {
   "cell_type": "markdown",
   "metadata": {},
   "source": [
    "## CAC"
   ]
  },
  {
   "cell_type": "code",
   "execution_count": 15,
   "metadata": {},
   "outputs": [
    {
     "name": "stdout",
     "output_type": "stream",
     "text": [
      "Merging target variants with nominal cis-eQTLs.\n",
      "Sorting the DataFrame by column \"pval_nominal\" in descending order.\n",
      "Showing the first 5 rows of the DataFrame.\n",
      "shape: (176, 38)\n",
      "┌────────────┬─────┬───────────┬───────────────┬───┬────────┬───────────┬───────────────┬──────────┐\n",
      "│ rsID       ┆ Chr ┆ Pos_hg19  ┆ Effect_Allele ┆ … ┆ TotalN ┆ MAF       ┆ MissingDataPr ┆ HWE_P    │\n",
      "│ ---        ┆ --- ┆ ---       ┆ ---           ┆   ┆ ---    ┆ ---       ┆ oportion      ┆ ---      │\n",
      "│ str        ┆ i64 ┆ i64       ┆ str           ┆   ┆ i64    ┆ f64       ┆ ---           ┆ f64      │\n",
      "│            ┆     ┆           ┆               ┆   ┆        ┆           ┆ f64           ┆          │\n",
      "╞════════════╪═════╪═══════════╪═══════════════╪═══╪════════╪═══════════╪═══════════════╪══════════╡\n",
      "│ rs9349379  ┆ 6   ┆ 12903957  ┆ A             ┆ … ┆ 2124   ┆ 0.365801  ┆ 0.000003      ┆ 0.708139 │\n",
      "│ rs7412     ┆ 19  ┆ 45412079  ┆ T             ┆ … ┆ 2124   ┆ 0.0738128 ┆ 0.000008      ┆ 0.42312  │\n",
      "│ rs7412     ┆ 19  ┆ 45412079  ┆ T             ┆ … ┆ 2124   ┆ 0.0738128 ┆ 0.000008      ┆ 0.42312  │\n",
      "│ rs62555371 ┆ 9   ┆ 22107238  ┆ A             ┆ … ┆ 2124   ┆ 0.134471  ┆ 0.000005      ┆ 0.351723 │\n",
      "│ …          ┆ …   ┆ …         ┆ …             ┆ … ┆ …      ┆ …         ┆ …             ┆ …        │\n",
      "│ rs2854746  ┆ 7   ┆ 45960645  ┆ C             ┆ … ┆ 2124   ┆ 0.39495   ┆ 0.000009      ┆ 0.413688 │\n",
      "│ rs9515203  ┆ 13  ┆ 111049623 ┆ T             ┆ … ┆ 2124   ┆ 0.285667  ┆ 0.000003      ┆ 0.558527 │\n",
      "│ rs10762577 ┆ 10  ┆ 75917431  ┆ A             ┆ … ┆ 2124   ┆ 0.28111   ┆ 0.000003      ┆ 0.216472 │\n",
      "│ rs7412     ┆ 19  ┆ 45412079  ┆ T             ┆ … ┆ 2124   ┆ 0.0738128 ┆ 0.000008      ┆ 0.42312  │\n",
      "└────────────┴─────┴───────────┴───────────────┴───┴────────┴───────────┴───────────────┴──────────┘\n",
      "Exporting the Polars DataFrame to a CSV file.\n"
     ]
    }
   ],
   "source": [
    "import os\n",
    "import polars as pl\n",
    "import pandas as pd\n",
    "\n",
    "print(\"Merging target variants with nominal cis-eQTLs.\")\n",
    "# Perform the join operation\n",
    "temp = target_variants_cac.join(\n",
    "    sumstats_nom_cis_eqtl, left_on=\"rsID\", right_on=\"AltID\", how=\"inner\"\n",
    ")\n",
    "print('Sorting the DataFrame by column \"pval_nominal\" in descending order.')\n",
    "# Sort the DataFrame by column 'A' in descending order\n",
    "target_variants_cac_nom_cis_eqtl = temp.sort(\"pval_nominal\")\n",
    "del temp\n",
    "\n",
    "print(\"Showing the first 5 rows of the DataFrame.\")\n",
    "# Display the sorted DataFrame in descending order\n",
    "print(target_variants_cac_nom_cis_eqtl)\n",
    "\n",
    "print(\"Exporting the Polars DataFrame to a CSV file.\")\n",
    "# Export the Polars DataFrame to a CSV file\n",
    "target_variants_cac_nom_cis_eqtl.write_csv(\n",
    "    os.path.join(molQTL_loc, \"cac_target_variants_nom_cis_eqtl.csv\")\n",
    ")"
   ]
  },
  {
   "cell_type": "markdown",
   "metadata": {},
   "source": [
    "## CIMT\n",
    "\n",
    "All cIMT and Plaque loci together."
   ]
  },
  {
   "cell_type": "code",
   "execution_count": 16,
   "metadata": {},
   "outputs": [
    {
     "name": "stdout",
     "output_type": "stream",
     "text": [
      "Merging target variants with nominal cis-eQTLs.\n",
      "Sorting the DataFrame by column \"pval_nominal\" in descending order.\n",
      "Showing the first 5 rows of the DataFrame.\n",
      "shape: (232, 39)\n",
      "┌─────────────┬─────┬───────────┬───────────────┬───┬────────┬───────────┬──────────────┬──────────┐\n",
      "│ RSID        ┆ CHR ┆ BP        ┆ Effect_Allele ┆ … ┆ TotalN ┆ MAF       ┆ MissingDataP ┆ HWE_P    │\n",
      "│ ---         ┆ --- ┆ ---       ┆ ---           ┆   ┆ ---    ┆ ---       ┆ roportion    ┆ ---      │\n",
      "│ str         ┆ i64 ┆ i64       ┆ str           ┆   ┆ i64    ┆ f64       ┆ ---          ┆ f64      │\n",
      "│             ┆     ┆           ┆               ┆   ┆        ┆           ┆ f64          ┆          │\n",
      "╞═════════════╪═════╪═══════════╪═══════════════╪═══╪════════╪═══════════╪══════════════╪══════════╡\n",
      "│ rs17477177  ┆ 7   ┆ 106411858 ┆ T             ┆ … ┆ 2124   ┆ 0.221096  ┆ 0.000004     ┆ 0.528212 │\n",
      "│ rs13225723  ┆ 7   ┆ 106416467 ┆ A             ┆ … ┆ 2124   ┆ 0.223969  ┆ 0.000008     ┆ 0.573563 │\n",
      "│ rs7412      ┆ 19  ┆ 45412079  ┆ T             ┆ … ┆ 2124   ┆ 0.0738128 ┆ 0.000008     ┆ 0.42312  │\n",
      "│ rs7412      ┆ 19  ┆ 45412079  ┆ T             ┆ … ┆ 2124   ┆ 0.0738128 ┆ 0.000008     ┆ 0.42312  │\n",
      "│ …           ┆ …   ┆ …         ┆ …             ┆ … ┆ …      ┆ …         ┆ …            ┆ …        │\n",
      "│ rs6907215   ┆ 6   ┆ 143608968 ┆ T             ┆ … ┆ 2124   ┆ 0.392641  ┆ 0.000011     ┆ 0.585071 │\n",
      "│ rs113309773 ┆ 16  ┆ 75432686  ┆ A             ┆ … ┆ 2124   ┆ 0.371528  ┆ 0.000016     ┆ 0.74495  │\n",
      "│ rs200495339 ┆ 19  ┆ 11189298  ┆ GG            ┆ … ┆ 2124   ┆ 0.111038  ┆ -0.000002    ┆ 0.912339 │\n",
      "│ rs7412      ┆ 19  ┆ 45412079  ┆ T             ┆ … ┆ 2124   ┆ 0.0738128 ┆ 0.000008     ┆ 0.42312  │\n",
      "└─────────────┴─────┴───────────┴───────────────┴───┴────────┴───────────┴──────────────┴──────────┘\n",
      "Exporting the Polars DataFrame to a CSV file.\n"
     ]
    }
   ],
   "source": [
    "import os\n",
    "import polars as pl\n",
    "import pandas as pd\n",
    "\n",
    "print(\"Merging target variants with nominal cis-eQTLs.\")\n",
    "# Perform the join operation\n",
    "temp = target_variants_cimt.join(\n",
    "    sumstats_nom_cis_eqtl, left_on=\"RSID\", right_on=\"AltID\", how=\"inner\"\n",
    ")\n",
    "print('Sorting the DataFrame by column \"pval_nominal\" in descending order.')\n",
    "# Sort the DataFrame by column 'A' in descending order\n",
    "target_variants_cimt_nom_cis_eqtl = temp.sort(\"pval_nominal\")\n",
    "del temp\n",
    "\n",
    "print(\"Showing the first 5 rows of the DataFrame.\")\n",
    "# Display the sorted DataFrame in descending order\n",
    "print(target_variants_cimt_nom_cis_eqtl)\n",
    "\n",
    "print(\"Exporting the Polars DataFrame to a CSV file.\")\n",
    "# Export the Polars DataFrame to a CSV file\n",
    "target_variants_cimt_nom_cis_eqtl.write_csv(\n",
    "    os.path.join(molQTL_loc, \"cimt_target_variants_nom_cis_eqtl.csv\")\n",
    ")"
   ]
  },
  {
   "cell_type": "code",
   "execution_count": 17,
   "metadata": {},
   "outputs": [],
   "source": [
    "del sumstats_nom_cis_eqtl"
   ]
  },
  {
   "cell_type": "markdown",
   "metadata": {},
   "source": [
    "# cis-mQTL (permuted)\n",
    "\n",
    "Here we load the nominal _cis_-acting mQTL data."
   ]
  },
  {
   "cell_type": "code",
   "execution_count": 18,
   "metadata": {},
   "outputs": [],
   "source": [
    "# read in data\n",
    "import polars as pl\n",
    "\n",
    "# Specify the file path to your data\n",
    "file_path = os.path.join(PERM_CIS_MQTL_loc, \"tensormqtl.perm_cis_mqtl.txt\")\n",
    "\n",
    "# Read the data into a Polars DataFrame\n",
    "sumstats_perm_cis_mqtl = pl.read_csv(\n",
    "    file_path, has_header=True, separator=\"\\t\", ignore_errors=True\n",
    ")"
   ]
  },
  {
   "cell_type": "code",
   "execution_count": 19,
   "metadata": {},
   "outputs": [
    {
     "data": {
      "text/html": [
       "<div><style>\n",
       ".dataframe > thead > tr > th,\n",
       ".dataframe > tbody > tr > td {\n",
       "  text-align: right;\n",
       "  white-space: pre-wrap;\n",
       "}\n",
       "</style>\n",
       "<small>shape: (268_375, 18)</small><table border=\"1\" class=\"dataframe\"><thead><tr><th>phenotype_id</th><th>num_var</th><th>beta_shape1</th><th>beta_shape2</th><th>true_df</th><th>pval_true_df</th><th>variant_id</th><th>tss_distance</th><th>ma_samples</th><th>ma_count</th><th>af</th><th>pval_nominal</th><th>slope</th><th>slope_se</th><th>pval_perm</th><th>pval_beta</th><th>qval</th><th>pval_nominal_threshold</th></tr><tr><td>str</td><td>i64</td><td>f64</td><td>f64</td><td>f64</td><td>f64</td><td>str</td><td>i64</td><td>i64</td><td>i64</td><td>f64</td><td>f64</td><td>f64</td><td>f64</td><td>f64</td><td>f64</td><td>f64</td><td>f64</td></tr></thead><tbody><tr><td>&quot;cg21870274&quot;</td><td>309</td><td>1.01037</td><td>15.0882</td><td>351.533</td><td>0.0495503</td><td>&quot;1:752307&quot;</td><td>682715</td><td>15</td><td>15</td><td>0.0170068</td><td>0.036876</td><td>-0.406806</td><td>0.194254</td><td>0.531247</td><td>0.530703</td><td>0.468602</td><td>0.001232</td></tr><tr><td>&quot;cg08258224&quot;</td><td>731</td><td>1.03658</td><td>40.9219</td><td>342.718</td><td>0.101636</td><td>&quot;1:1636400&quot;</td><td>836316</td><td>37</td><td>38</td><td>0.0430839</td><td>0.0780652</td><td>-0.160865</td><td>0.0910595</td><td>0.984102</td><td>0.986523</td><td>0.605861</td><td>0.000509</td></tr><tr><td>&quot;cg18147296&quot;</td><td>750</td><td>1.02594</td><td>43.8044</td><td>350.307</td><td>0.000046</td><td>&quot;1:771410&quot;</td><td>-41130</td><td>130</td><td>141</td><td>0.840136</td><td>0.000014</td><td>-0.195278</td><td>0.0444456</td><td>0.0017</td><td>0.001693</td><td>0.006203</td><td>0.000454</td></tr><tr><td>&quot;cg13938959&quot;</td><td>787</td><td>1.00503</td><td>41.991</td><td>346.635</td><td>0.0160055</td><td>&quot;1:800193&quot;</td><td>-33991</td><td>7</td><td>7</td><td>0.007937</td><td>0.009935</td><td>0.568674</td><td>0.219518</td><td>0.49525</td><td>0.48971</td><td>0.45302</td><td>0.000433</td></tr><tr><td>&quot;cg12445832&quot;</td><td>787</td><td>1.01013</td><td>42.2714</td><td>344.888</td><td>0.003059</td><td>&quot;1:1706886&quot;</td><td>872590</td><td>44</td><td>46</td><td>0.0521542</td><td>0.001483</td><td>-0.25942</td><td>0.08106</td><td>0.118388</td><td>0.118428</td><td>0.211842</td><td>0.000439</td></tr><tr><td>&quot;cg23999112&quot;</td><td>787</td><td>1.03227</td><td>42.5622</td><td>342.63</td><td>0.0111282</td><td>&quot;1:810286&quot;</td><td>-24071</td><td>114</td><td>124</td><td>0.14059</td><td>0.006277</td><td>0.168039</td><td>0.0611592</td><td>0.364464</td><td>0.363523</td><td>0.395055</td><td>0.00048</td></tr><tr><td>&quot;cg08128007&quot;</td><td>799</td><td>1.01323</td><td>45.7034</td><td>353.328</td><td>0.025363</td><td>&quot;1:1037047&quot;</td><td>197611</td><td>177</td><td>207</td><td>0.234694</td><td>0.0177802</td><td>0.174208</td><td>0.0731943</td><td>0.686431</td><td>0.685759</td><td>0.522438</td><td>0.000412</td></tr><tr><td>&quot;cg23733394&quot;</td><td>799</td><td>1.02275</td><td>42.9169</td><td>345.861</td><td>0.000206</td><td>&quot;1:753405&quot;</td><td>-86348</td><td>108</td><td>118</td><td>0.866213</td><td>0.00007</td><td>-0.393622</td><td>0.0979262</td><td>0.006899</td><td>0.007824</td><td>0.0248428</td><td>0.000457</td></tr><tr><td>&quot;cg13371836&quot;</td><td>800</td><td>0.994356</td><td>47.1897</td><td>362.606</td><td>0.0186669</td><td>&quot;1:1830151&quot;</td><td>989876</td><td>125</td><td>141</td><td>0.159864</td><td>0.0138438</td><td>-0.193078</td><td>0.0780974</td><td>0.588241</td><td>0.591562</td><td>0.491116</td><td>0.000367</td></tr><tr><td>&quot;cg04407431&quot;</td><td>801</td><td>1.01772</td><td>44.621</td><td>351.137</td><td>0.023597</td><td>&quot;1:768448&quot;</td><td>-72171</td><td>34</td><td>37</td><td>0.0419501</td><td>0.0160789</td><td>-0.358302</td><td>0.148214</td><td>0.650535</td><td>0.648136</td><td>0.51084</td><td>0.00043</td></tr><tr><td>&quot;cg13565718&quot;</td><td>803</td><td>1.02451</td><td>43.7372</td><td>349.23</td><td>0.004561</td><td>&quot;1:1280014&quot;</td><td>438724</td><td>20</td><td>20</td><td>0.977324</td><td>0.00249</td><td>0.513216</td><td>0.1686</td><td>0.173883</td><td>0.172217</td><td>0.265846</td><td>0.000452</td></tr><tr><td>&quot;cg08900511&quot;</td><td>806</td><td>1.01875</td><td>45.4917</td><td>353.304</td><td>0.000764</td><td>&quot;1:1069653&quot;</td><td>226071</td><td>118</td><td>133</td><td>0.150794</td><td>0.00036</td><td>0.217663</td><td>0.0604773</td><td>0.029797</td><td>0.0318135</td><td>0.0819445</td><td>0.000424</td></tr><tr><td>&hellip;</td><td>&hellip;</td><td>&hellip;</td><td>&hellip;</td><td>&hellip;</td><td>&hellip;</td><td>&hellip;</td><td>&hellip;</td><td>&hellip;</td><td>&hellip;</td><td>&hellip;</td><td>&hellip;</td><td>&hellip;</td><td>&hellip;</td><td>&hellip;</td><td>&hellip;</td><td>&hellip;</td><td>&hellip;</td></tr><tr><td>&quot;cg09828012&quot;</td><td>3000</td><td>1.07325</td><td>199.61</td><td>319.981</td><td>1.9089e-9</td><td>&quot;22:51155151&quot;</td><td>-8874</td><td>307</td><td>401</td><td>0.545351</td><td>2.2288e-11</td><td>0.368998</td><td>0.0535727</td><td>0.0001</td><td>1.2492e-7</td><td>6.4574e-7</td><td>0.000151</td></tr><tr><td>&quot;cg17074573&quot;</td><td>2995</td><td>1.05257</td><td>221.548</td><td>329.132</td><td>0.00484</td><td>&quot;22:50614941&quot;</td><td>-550597</td><td>165</td><td>180</td><td>0.204082</td><td>0.00197</td><td>-0.21948</td><td>0.0704473</td><td>0.643836</td><td>0.636885</td><td>0.454227</td><td>0.000125</td></tr><tr><td>&quot;cg03403991&quot;</td><td>2993</td><td>1.07267</td><td>200.999</td><td>319.97</td><td>0.0111796</td><td>&quot;22:50623352&quot;</td><td>-543836</td><td>284</td><td>362</td><td>0.410431</td><td>0.004708</td><td>0.104384</td><td>0.036723</td><td>0.884912</td><td>0.882237</td><td>0.525003</td><td>0.000149</td></tr><tr><td>&quot;cg12502079&quot;</td><td>2991</td><td>1.03706</td><td>212.372</td><td>327.668</td><td>0.0144307</td><td>&quot;22:50345178&quot;</td><td>-823851</td><td>15</td><td>15</td><td>0.0170068</td><td>0.0070786</td><td>-0.214849</td><td>0.0793624</td><td>0.949705</td><td>0.950988</td><td>0.542381</td><td>0.000123</td></tr><tr><td>&quot;cg06422471&quot;</td><td>2989</td><td>1.04333</td><td>225.437</td><td>330.999</td><td>0.006996</td><td>&quot;22:50695270&quot;</td><td>-474231</td><td>229</td><td>277</td><td>0.685941</td><td>0.003136</td><td>0.0601275</td><td>0.0202292</td><td>0.782922</td><td>0.781414</td><td>0.499354</td><td>0.000119</td></tr><tr><td>&quot;cg19324023&quot;</td><td>2988</td><td>1.04238</td><td>218.6</td><td>328.976</td><td>0.004456</td><td>&quot;22:51197266&quot;</td><td>27262</td><td>259</td><td>321</td><td>0.363946</td><td>0.001781</td><td>-0.082634</td><td>0.0262677</td><td>0.612639</td><td>0.604886</td><td>0.4448</td><td>0.000122</td></tr><tr><td>&quot;cg09635994&quot;</td><td>2986</td><td>1.05935</td><td>199.946</td><td>322.294</td><td>0.000518</td><td>&quot;22:50341707&quot;</td><td>-829557</td><td>58</td><td>59</td><td>0.0668934</td><td>0.000117</td><td>-0.275115</td><td>0.0706858</td><td>0.0828917</td><td>0.0836606</td><td>0.140175</td><td>0.000143</td></tr><tr><td>&quot;cg19004771&quot;</td><td>2979</td><td>1.04971</td><td>202.825</td><td>323.792</td><td>0.000565</td><td>&quot;22:51181759&quot;</td><td>8693</td><td>100</td><td>108</td><td>0.877551</td><td>0.000134</td><td>-0.238654</td><td>0.0618922</td><td>0.0933907</td><td>0.0950843</td><td>0.152963</td><td>0.000135</td></tr><tr><td>&quot;cg20569369&quot;</td><td>2979</td><td>1.04484</td><td>216.682</td><td>329.092</td><td>0.00114</td><td>&quot;22:50519640&quot;</td><td>-654007</td><td>25</td><td>25</td><td>0.0283447</td><td>0.000352</td><td>-0.456097</td><td>0.126513</td><td>0.20348</td><td>0.201155</td><td>0.249547</td><td>0.000124</td></tr><tr><td>&quot;cg26034629&quot;</td><td>2975</td><td>1.03817</td><td>214.838</td><td>329.486</td><td>0.003815</td><td>&quot;22:50913182&quot;</td><td>-262183</td><td>75</td><td>79</td><td>0.0895692</td><td>0.001493</td><td>0.316939</td><td>0.0990935</td><td>0.549345</td><td>0.542439</td><td>0.423997</td><td>0.000122</td></tr><tr><td>&quot;cg25232725&quot;</td><td>2975</td><td>1.04781</td><td>217.38</td><td>327.78</td><td>0.001621</td><td>&quot;22:50642777&quot;</td><td>-532739</td><td>302</td><td>394</td><td>0.553288</td><td>0.000522</td><td>-0.164639</td><td>0.0470652</td><td>0.278472</td><td>0.275782</td><td>0.300416</td><td>0.000125</td></tr><tr><td>&quot;cg05615487&quot;</td><td>2973</td><td>1.05074</td><td>219.59</td><td>329.205</td><td>0.004493</td><td>&quot;22:51151350&quot;</td><td>-25058</td><td>270</td><td>335</td><td>0.379819</td><td>0.001805</td><td>0.161365</td><td>0.0513606</td><td>0.610839</td><td>0.60608</td><td>0.445053</td><td>0.000126</td></tr></tbody></table></div>"
      ],
      "text/plain": [
       "shape: (268_375, 18)\n",
       "┌────────────┬─────────┬────────────┬───────────┬───┬───────────┬───────────┬──────────┬───────────┐\n",
       "│ phenotype_ ┆ num_var ┆ beta_shape ┆ beta_shap ┆ … ┆ pval_perm ┆ pval_beta ┆ qval     ┆ pval_nomi │\n",
       "│ id         ┆ ---     ┆ 1          ┆ e2        ┆   ┆ ---       ┆ ---       ┆ ---      ┆ nal_thres │\n",
       "│ ---        ┆ i64     ┆ ---        ┆ ---       ┆   ┆ f64       ┆ f64       ┆ f64      ┆ hold      │\n",
       "│ str        ┆         ┆ f64        ┆ f64       ┆   ┆           ┆           ┆          ┆ ---       │\n",
       "│            ┆         ┆            ┆           ┆   ┆           ┆           ┆          ┆ f64       │\n",
       "╞════════════╪═════════╪════════════╪═══════════╪═══╪═══════════╪═══════════╪══════════╪═══════════╡\n",
       "│ cg21870274 ┆ 309     ┆ 1.01037    ┆ 15.0882   ┆ … ┆ 0.531247  ┆ 0.530703  ┆ 0.468602 ┆ 0.001232  │\n",
       "│ cg08258224 ┆ 731     ┆ 1.03658    ┆ 40.9219   ┆ … ┆ 0.984102  ┆ 0.986523  ┆ 0.605861 ┆ 0.000509  │\n",
       "│ cg18147296 ┆ 750     ┆ 1.02594    ┆ 43.8044   ┆ … ┆ 0.0017    ┆ 0.001693  ┆ 0.006203 ┆ 0.000454  │\n",
       "│ cg13938959 ┆ 787     ┆ 1.00503    ┆ 41.991    ┆ … ┆ 0.49525   ┆ 0.48971   ┆ 0.45302  ┆ 0.000433  │\n",
       "│ …          ┆ …       ┆ …          ┆ …         ┆ … ┆ …         ┆ …         ┆ …        ┆ …         │\n",
       "│ cg20569369 ┆ 2979    ┆ 1.04484    ┆ 216.682   ┆ … ┆ 0.20348   ┆ 0.201155  ┆ 0.249547 ┆ 0.000124  │\n",
       "│ cg26034629 ┆ 2975    ┆ 1.03817    ┆ 214.838   ┆ … ┆ 0.549345  ┆ 0.542439  ┆ 0.423997 ┆ 0.000122  │\n",
       "│ cg25232725 ┆ 2975    ┆ 1.04781    ┆ 217.38    ┆ … ┆ 0.278472  ┆ 0.275782  ┆ 0.300416 ┆ 0.000125  │\n",
       "│ cg05615487 ┆ 2973    ┆ 1.05074    ┆ 219.59    ┆ … ┆ 0.610839  ┆ 0.60608   ┆ 0.445053 ┆ 0.000126  │\n",
       "└────────────┴─────────┴────────────┴───────────┴───┴───────────┴───────────┴──────────┴───────────┘"
      ]
     },
     "execution_count": 19,
     "metadata": {},
     "output_type": "execute_result"
    }
   ],
   "source": [
    "# Display the first few rows of the DataFrame to verify the data loading\n",
    "sumstats_perm_cis_mqtl"
   ]
  },
  {
   "cell_type": "markdown",
   "metadata": {},
   "source": [
    "## PGC"
   ]
  },
  {
   "cell_type": "code",
   "execution_count": 20,
   "metadata": {},
   "outputs": [
    {
     "name": "stdout",
     "output_type": "stream",
     "text": [
      "Merging target variants with nominal cis-eQTLs.\n",
      "Sorting the DataFrame by column \"pval_nominal\" in descending order.\n",
      "Showing the first 5 rows of the DataFrame.\n",
      "shape: (28, 30)\n",
      "┌──────┬───────┬──────────────┬─────┬───┬───────────┬────────────┬────────────┬────────────────────┐\n",
      "│ RSID ┆ ALTID ┆ VariantID    ┆ Chr ┆ … ┆ pval_perm ┆ pval_beta  ┆ qval       ┆ pval_nominal_thres │\n",
      "│ ---  ┆ ---   ┆ ---          ┆ --- ┆   ┆ ---       ┆ ---        ┆ ---        ┆ hold               │\n",
      "│ str  ┆ str   ┆ str          ┆ i64 ┆   ┆ f64       ┆ f64        ┆ f64        ┆ ---                │\n",
      "│      ┆       ┆              ┆     ┆   ┆           ┆            ┆            ┆ f64                │\n",
      "╞══════╪═══════╪══════════════╪═════╪═══╪═══════════╪════════════╪════════════╪════════════════════╡\n",
      "│ ---  ┆ ---   ┆ 12:121207147 ┆ 12  ┆ … ┆ 0.0001    ┆ 3.7327e-26 ┆ 9.3753e-25 ┆ 0.000077           │\n",
      "│ ---  ┆ ---   ┆ 7:2760750    ┆ 7   ┆ … ┆ 0.0001    ┆ 9.0450e-13 ┆ 7.9183e-12 ┆ 0.000039           │\n",
      "│ ---  ┆ ---   ┆ 3:71814431   ┆ 3   ┆ … ┆ 0.0001    ┆ 5.5327e-11 ┆ 4.9151e-10 ┆ 0.000028           │\n",
      "│ ---  ┆ ---   ┆ 10:125426627 ┆ 10  ┆ … ┆ 0.0001    ┆ 6.8047e-11 ┆ 5.1440e-10 ┆ 0.000043           │\n",
      "│ …    ┆ …     ┆ …            ┆ …   ┆ … ┆ …         ┆ …          ┆ …          ┆ …                  │\n",
      "│ ---  ┆ ---   ┆ 6:143150043  ┆ 6   ┆ … ┆ 0.848715  ┆ 0.851844   ┆ 0.559109   ┆ 0.00007            │\n",
      "│ ---  ┆ ---   ┆ 20:31074372  ┆ 20  ┆ … ┆ 0.838816  ┆ 0.839096   ┆ 0.605335   ┆ 0.00011            │\n",
      "│ ---  ┆ ---   ┆ 11:30602310  ┆ 11  ┆ … ┆ 0.957304  ┆ 0.960894   ┆ 0.608831   ┆ 0.000102           │\n",
      "│ ---  ┆ ---   ┆ 12:112964847 ┆ 12  ┆ … ┆ 0.991201  ┆ 0.991573   ┆ 0.621537   ┆ 0.000167           │\n",
      "└──────┴───────┴──────────────┴─────┴───┴───────────┴────────────┴────────────┴────────────────────┘\n",
      "Exporting the Polars DataFrame to a CSV file.\n"
     ]
    }
   ],
   "source": [
    "import os\n",
    "import polars as pl\n",
    "import pandas as pd\n",
    "\n",
    "print(\"Merging target variants with nominal cis-eQTLs.\")\n",
    "# Perform the join operation\n",
    "temp = target_variants_pgc.join(\n",
    "    sumstats_perm_cis_mqtl, left_on=\"VariantID\", right_on=\"variant_id\", how=\"inner\"\n",
    ")\n",
    "print('Sorting the DataFrame by column \"pval_nominal\" in descending order.')\n",
    "# Sort the DataFrame by column 'A' in descending order\n",
    "target_variants_pgc_perm_cis_mqtl = temp.sort(\"pval_nominal\")\n",
    "del temp\n",
    "\n",
    "print(\"Showing the first 5 rows of the DataFrame.\")\n",
    "# Display the sorted DataFrame in descending order\n",
    "print(target_variants_pgc_perm_cis_mqtl)\n",
    "\n",
    "print(\"Exporting the Polars DataFrame to a CSV file.\")\n",
    "# Export the Polars DataFrame to a CSV file\n",
    "target_variants_pgc_perm_cis_mqtl.write_csv(\n",
    "    os.path.join(molQTL_loc, \"pgc_target_variants_perm_cis_mqtl.csv\")\n",
    ")"
   ]
  },
  {
   "cell_type": "markdown",
   "metadata": {},
   "source": [
    "## Million Hearts"
   ]
  },
  {
   "cell_type": "code",
   "execution_count": 21,
   "metadata": {},
   "outputs": [
    {
     "name": "stdout",
     "output_type": "stream",
     "text": [
      "Merging target variants with nominal cis-eQTLs.\n",
      "Sorting the DataFrame by column \"pval_nominal\" in descending order.\n",
      "Showing the first 5 rows of the DataFrame.\n",
      "shape: (83, 41)\n",
      "┌────────────┬────────────┬─────┬───────────┬───┬───────────┬────────────┬────────────┬────────────┐\n",
      "│ VariantID  ┆ MarkerName ┆ CHR ┆ BP        ┆ … ┆ pval_perm ┆ pval_beta  ┆ qval       ┆ pval_nomin │\n",
      "│ ---        ┆ ---        ┆ --- ┆ ---       ┆   ┆ ---       ┆ ---        ┆ ---        ┆ al_thresho │\n",
      "│ str        ┆ str        ┆ i64 ┆ i64       ┆   ┆ f64       ┆ f64        ┆ f64        ┆ ld         │\n",
      "│            ┆            ┆     ┆           ┆   ┆           ┆            ┆            ┆ ---        │\n",
      "│            ┆            ┆     ┆           ┆   ┆           ┆            ┆            ┆ f64        │\n",
      "╞════════════╪════════════╪═════╪═══════════╪═══╪═══════════╪════════════╪════════════╪════════════╡\n",
      "│ 1:10981719 ┆ 1:10981719 ┆ 1   ┆ 109817192 ┆ … ┆ 0.0001    ┆ 2.4600e-10 ┆ 1.4757e-10 ┆ 0.000055   │\n",
      "│ 2          ┆ 2_A_G      ┆     ┆           ┆   ┆           ┆ 3          ┆ 0          ┆            │\n",
      "│ 11:6539131 ┆ 11:6539131 ┆ 11  ┆ 65391317  ┆ … ┆ 0.0001    ┆ 7.4392e-45 ┆ 4.8559e-43 ┆ 0.000105   │\n",
      "│ 7          ┆ 7_A_G      ┆     ┆           ┆   ┆           ┆            ┆            ┆            │\n",
      "│ 3:15685259 ┆ 3:15685259 ┆ 3   ┆ 156852592 ┆ … ┆ 0.0001    ┆ 6.8457e-38 ┆ 2.6337e-36 ┆ 0.000071   │\n",
      "│ 2          ┆ 2_C_G      ┆     ┆           ┆   ┆           ┆            ┆            ┆            │\n",
      "│ 15:8137771 ┆ 15:8137771 ┆ 15  ┆ 81377717  ┆ … ┆ 0.0001    ┆ 6.0148e-35 ┆ 1.9774e-33 ┆ 0.00004    │\n",
      "│ 7          ┆ 7_A_C      ┆     ┆           ┆   ┆           ┆            ┆            ┆            │\n",
      "│ …          ┆ …          ┆ …   ┆ …         ┆ … ┆ …         ┆ …          ┆ …          ┆ …          │\n",
      "│ 11:3238052 ┆ 11:3238052 ┆ 11  ┆ 32380521  ┆ … ┆ 0.951705  ┆ 0.95554    ┆ 0.607544   ┆ 0.000057   │\n",
      "│ 1          ┆ 1_C_T      ┆     ┆           ┆   ┆           ┆            ┆            ┆            │\n",
      "│ 5:13179531 ┆ 5:13179531 ┆ 5   ┆ 131795310 ┆ … ┆ 0.981102  ┆ 0.981945   ┆ 0.558465   ┆ 0.000063   │\n",
      "│ 0          ┆ 0_G_T      ┆     ┆           ┆   ┆           ┆            ┆            ┆            │\n",
      "│ 11:6534906 ┆ 11:6534906 ┆ 11  ┆ 65349063  ┆ … ┆ 0.890011  ┆ 0.892182   ┆ 0.59186    ┆ 0.000134   │\n",
      "│ 3          ┆ 3_A_G      ┆     ┆           ┆   ┆           ┆            ┆            ┆            │\n",
      "│ 6:12903957 ┆ 6:12903957 ┆ 6   ┆ 12903957  ┆ … ┆ 0.9961    ┆ 0.997281   ┆ 0.59707    ┆ 0.000053   │\n",
      "│            ┆ _A_G       ┆     ┆           ┆   ┆           ┆            ┆            ┆            │\n",
      "└────────────┴────────────┴─────┴───────────┴───┴───────────┴────────────┴────────────┴────────────┘\n",
      "Exporting the Polars DataFrame to a CSV file.\n"
     ]
    }
   ],
   "source": [
    "import os\n",
    "import polars as pl\n",
    "import pandas as pd\n",
    "\n",
    "print(\"Merging target variants with nominal cis-eQTLs.\")\n",
    "# Perform the join operation\n",
    "temp = target_variants_millionhearts.join(\n",
    "    sumstats_perm_cis_mqtl, left_on=\"VariantID\", right_on=\"variant_id\", how=\"inner\"\n",
    ")\n",
    "print('Sorting the DataFrame by column \"pval_nominal\" in descending order.')\n",
    "# Sort the DataFrame by column 'A' in descending order\n",
    "target_variants_millionhearts_perm_cis_mqtl = temp.sort(\"pval_nominal\")\n",
    "del temp\n",
    "\n",
    "print(\"Showing the first 5 rows of the DataFrame.\")\n",
    "# Display the sorted DataFrame in descending order\n",
    "print(target_variants_millionhearts_perm_cis_mqtl)\n",
    "\n",
    "print(\"Exporting the Polars DataFrame to a CSV file.\")\n",
    "# Export the Polars DataFrame to a CSV file\n",
    "target_variants_millionhearts_perm_cis_mqtl.write_csv(\n",
    "    os.path.join(molQTL_loc, \"millionhearts_target_variants_perm_cis_mqtl.csv\")\n",
    ")"
   ]
  },
  {
   "cell_type": "markdown",
   "metadata": {},
   "source": [
    "## GIGASTROKE"
   ]
  },
  {
   "cell_type": "code",
   "execution_count": 22,
   "metadata": {},
   "outputs": [
    {
     "name": "stdout",
     "output_type": "stream",
     "text": [
      "Merging target variants with nominal cis-eQTLs.\n",
      "Sorting the DataFrame by column \"pval_nominal\" in descending order.\n",
      "Showing the first 5 rows of the DataFrame.\n",
      "shape: (10, 46)\n",
      "┌───────┬────────────┬──────────────┬─────┬───┬───────────┬────────────┬────────────┬──────────────┐\n",
      "│ Index ┆ rsID       ┆ VariantID    ┆ Chr ┆ … ┆ pval_perm ┆ pval_beta  ┆ qval       ┆ pval_nominal │\n",
      "│ ---   ┆ ---        ┆ ---          ┆ --- ┆   ┆ ---       ┆ ---        ┆ ---        ┆ _threshold   │\n",
      "│ i64   ┆ str        ┆ str          ┆ i64 ┆   ┆ f64       ┆ f64        ┆ f64        ┆ ---          │\n",
      "│       ┆            ┆              ┆     ┆   ┆           ┆            ┆            ┆ f64          │\n",
      "╞═══════╪════════════╪══════════════╪═════╪═══╪═══════════╪════════════╪════════════╪══════════════╡\n",
      "│ 23    ┆ rs2107595  ┆ 7:19049388   ┆ 7   ┆ … ┆ 0.0001    ┆ 4.6910e-18 ┆ 5.9184e-17 ┆ 0.000047     │\n",
      "│ 85    ┆ rs7500448  ┆ 16:83045790  ┆ 16  ┆ … ┆ 0.0001    ┆ 7.2634e-13 ┆ 7.3576e-12 ┆ 0.000022     │\n",
      "│ 55    ┆ rs12445022 ┆ 16:87575332  ┆ 16  ┆ … ┆ 0.0001    ┆ 0.000005   ┆ 0.000027   ┆ 0.000028     │\n",
      "│ 23    ┆ rs2107595  ┆ 7:19049388   ┆ 7   ┆ … ┆ 0.0004    ┆ 0.000379   ┆ 0.001442   ┆ 0.000042     │\n",
      "│ …     ┆ …          ┆ …            ┆ …   ┆ … ┆ …         ┆ …          ┆ …          ┆ …            │\n",
      "│ 23    ┆ rs2107595  ┆ 7:19049388   ┆ 7   ┆ … ┆ 0.0289971 ┆ 0.0307113  ┆ 0.0741739  ┆ 0.000052     │\n",
      "│ 37    ┆ rs10886430 ┆ 10:121010256 ┆ 10  ┆ … ┆ 0.373863  ┆ 0.364575   ┆ 0.374581   ┆ 0.000063     │\n",
      "│ 65    ┆ rs11265613 ┆ 1:154418415  ┆ 1   ┆ … ┆ 0.479052  ┆ 0.471629   ┆ 0.445746   ┆ 0.000072     │\n",
      "│ 7     ┆ rs11694327 ┆ 2:26919429   ┆ 2   ┆ … ┆ 0.878612  ┆ 0.878539   ┆ 0.520929   ┆ 0.000088     │\n",
      "└───────┴────────────┴──────────────┴─────┴───┴───────────┴────────────┴────────────┴──────────────┘\n",
      "Exporting the Polars DataFrame to a CSV file.\n"
     ]
    }
   ],
   "source": [
    "import os\n",
    "import polars as pl\n",
    "import pandas as pd\n",
    "\n",
    "print(\"Merging target variants with nominal cis-eQTLs.\")\n",
    "# Perform the join operation\n",
    "temp = target_variants_gigastroke.join(\n",
    "    sumstats_perm_cis_mqtl, left_on=\"VariantID\", right_on=\"variant_id\", how=\"inner\"\n",
    ")\n",
    "print('Sorting the DataFrame by column \"pval_nominal\" in descending order.')\n",
    "# Sort the DataFrame by column 'A' in descending order\n",
    "target_variants_gigastroke_perm_cis_mqtl = temp.sort(\"pval_nominal\")\n",
    "del temp\n",
    "\n",
    "print(\"Showing the first 5 rows of the DataFrame.\")\n",
    "# Display the sorted DataFrame in descending order\n",
    "print(target_variants_gigastroke_perm_cis_mqtl)\n",
    "\n",
    "print(\"Exporting the Polars DataFrame to a CSV file.\")\n",
    "# Export the Polars DataFrame to a CSV file\n",
    "target_variants_gigastroke_perm_cis_mqtl.write_csv(\n",
    "    os.path.join(molQTL_loc, \"gigastroke_target_variants_perm_cis_mqtl.csv\")\n",
    ")"
   ]
  },
  {
   "cell_type": "markdown",
   "metadata": {},
   "source": [
    "## CAC"
   ]
  },
  {
   "cell_type": "code",
   "execution_count": 25,
   "metadata": {},
   "outputs": [
    {
     "name": "stdout",
     "output_type": "stream",
     "text": [
      "Merging target variants with nominal cis-eQTLs.\n",
      "Sorting the DataFrame by column \"pval_nominal\" in descending order.\n",
      "Showing the first 5 rows of the DataFrame.\n",
      "shape: (5, 32)\n",
      "┌────────────┬────────────┬─────┬──────────┬───┬───────────┬───────────┬───────────┬───────────────┐\n",
      "│ rsID       ┆ VariantID  ┆ Chr ┆ Pos_hg19 ┆ … ┆ pval_perm ┆ pval_beta ┆ qval      ┆ pval_nominal_ │\n",
      "│ ---        ┆ ---        ┆ --- ┆ ---      ┆   ┆ ---       ┆ ---       ┆ ---       ┆ threshold     │\n",
      "│ str        ┆ str        ┆ i64 ┆ i64      ┆   ┆ f64       ┆ f64       ┆ f64       ┆ ---           │\n",
      "│            ┆            ┆     ┆          ┆   ┆           ┆           ┆           ┆ f64           │\n",
      "╞════════════╪════════════╪═════╪══════════╪═══╪═══════════╪═══════════╪═══════════╪═══════════════╡\n",
      "│ rs2854746  ┆ 7:45960645 ┆ 7   ┆ 45960645 ┆ … ┆ 0.0001    ┆ 5.6344e-8 ┆ 3.3670e-7 ┆ 0.000067      │\n",
      "│ rs2854746  ┆ 7:45960645 ┆ 7   ┆ 45960645 ┆ … ┆ 0.0001    ┆ 0.000001  ┆ 0.000007  ┆ 0.000064      │\n",
      "│ rs2854746  ┆ 7:45960645 ┆ 7   ┆ 45960645 ┆ … ┆ 0.0001    ┆ 0.000003  ┆ 0.000015  ┆ 0.000062      │\n",
      "│ rs10456561 ┆ 6:12887465 ┆ 6   ┆ 12887465 ┆ … ┆ 0.687631  ┆ 0.687578  ┆ 0.509551  ┆ 0.000051      │\n",
      "│ rs9349379  ┆ 6:12903957 ┆ 6   ┆ 12903957 ┆ … ┆ 0.9961    ┆ 0.997281  ┆ 0.59707   ┆ 0.000053      │\n",
      "└────────────┴────────────┴─────┴──────────┴───┴───────────┴───────────┴───────────┴───────────────┘\n",
      "Exporting the Polars DataFrame to a CSV file.\n"
     ]
    }
   ],
   "source": [
    "import os\n",
    "import polars as pl\n",
    "import pandas as pd\n",
    "\n",
    "print(\"Merging target variants with nominal cis-eQTLs.\")\n",
    "# Perform the join operation\n",
    "temp = target_variants_cac.join(\n",
    "    sumstats_perm_cis_mqtl, left_on=\"VariantID\", right_on=\"variant_id\", how=\"inner\"\n",
    ")\n",
    "print('Sorting the DataFrame by column \"pval_nominal\" in descending order.')\n",
    "# Sort the DataFrame by column 'A' in descending order\n",
    "target_variants_cac_perm_cis_mqtl = temp.sort(\"pval_nominal\")\n",
    "del temp\n",
    "\n",
    "print(\"Showing the first 5 rows of the DataFrame.\")\n",
    "# Display the sorted DataFrame in descending order\n",
    "print(target_variants_cac_perm_cis_mqtl)\n",
    "\n",
    "print(\"Exporting the Polars DataFrame to a CSV file.\")\n",
    "# Export the Polars DataFrame to a CSV file\n",
    "target_variants_cac_perm_cis_mqtl.write_csv(\n",
    "    os.path.join(molQTL_loc, \"cac_target_variants_perm_cis_mqtl.csv\")\n",
    ")"
   ]
  },
  {
   "cell_type": "markdown",
   "metadata": {},
   "source": [
    "## CIMT"
   ]
  },
  {
   "cell_type": "code",
   "execution_count": 26,
   "metadata": {},
   "outputs": [
    {
     "name": "stdout",
     "output_type": "stream",
     "text": [
      "Merging target variants with nominal cis-eQTLs.\n",
      "Sorting the DataFrame by column \"pval_nominal\" in descending order.\n",
      "Showing the first 5 rows of the DataFrame.\n",
      "shape: (4, 33)\n",
      "┌────────────┬────────────┬─────┬───────────┬───┬───────────┬────────────┬────────────┬────────────┐\n",
      "│ RSID       ┆ VariantID  ┆ CHR ┆ BP        ┆ … ┆ pval_perm ┆ pval_beta  ┆ qval       ┆ pval_nomin │\n",
      "│ ---        ┆ ---        ┆ --- ┆ ---       ┆   ┆ ---       ┆ ---        ┆ ---        ┆ al_thresho │\n",
      "│ str        ┆ str        ┆ i64 ┆ i64       ┆   ┆ f64       ┆ f64        ┆ f64        ┆ ld         │\n",
      "│            ┆            ┆     ┆           ┆   ┆           ┆            ┆            ┆ ---        │\n",
      "│            ┆            ┆     ┆           ┆   ┆           ┆            ┆            ┆ f64        │\n",
      "╞════════════╪════════════╪═════╪═══════════╪═══╪═══════════╪════════════╪════════════╪════════════╡\n",
      "│ rs13225723 ┆ 7:10641646 ┆ 7   ┆ 106416467 ┆ … ┆ 0.0001    ┆ 5.4718e-35 ┆ 1.7193e-33 ┆ 0.000055   │\n",
      "│            ┆ 7          ┆     ┆           ┆   ┆           ┆            ┆            ┆            │\n",
      "│ rs13225723 ┆ 7:10641646 ┆ 7   ┆ 106416467 ┆ … ┆ 0.0001    ┆ 3.0695e-9  ┆ 2.0271e-8  ┆ 0.000044   │\n",
      "│            ┆ 7          ┆     ┆           ┆   ┆           ┆            ┆            ┆            │\n",
      "│ rs2912063  ┆ 8:6486033  ┆ 8   ┆ 6486033   ┆ … ┆ 0.0466953 ┆ 0.0503443  ┆ 0.106713   ┆ 0.000029   │\n",
      "│ rs13225723 ┆ 7:10641646 ┆ 7   ┆ 106416467 ┆ … ┆ 0.20088   ┆ 0.199777   ┆ 0.275497   ┆ 0.000042   │\n",
      "│            ┆ 7          ┆     ┆           ┆   ┆           ┆            ┆            ┆            │\n",
      "└────────────┴────────────┴─────┴───────────┴───┴───────────┴────────────┴────────────┴────────────┘\n",
      "Exporting the Polars DataFrame to a CSV file.\n"
     ]
    }
   ],
   "source": [
    "import os\n",
    "import polars as pl\n",
    "import pandas as pd\n",
    "\n",
    "print(\"Merging target variants with nominal cis-eQTLs.\")\n",
    "# Perform the join operation\n",
    "temp = target_variants_cimt.join(\n",
    "    sumstats_perm_cis_mqtl, left_on=\"VariantID\", right_on=\"variant_id\", how=\"inner\"\n",
    ")\n",
    "print('Sorting the DataFrame by column \"pval_nominal\" in descending order.')\n",
    "# Sort the DataFrame by column 'A' in descending order\n",
    "target_variants_cimt_perm_cis_mqtl = temp.sort(\"pval_nominal\")\n",
    "del temp\n",
    "\n",
    "print(\"Showing the first 5 rows of the DataFrame.\")\n",
    "# Display the sorted DataFrame in descending order\n",
    "print(target_variants_cimt_perm_cis_mqtl)\n",
    "\n",
    "print(\"Exporting the Polars DataFrame to a CSV file.\")\n",
    "# Export the Polars DataFrame to a CSV file\n",
    "target_variants_cimt_perm_cis_mqtl.write_csv(\n",
    "    os.path.join(molQTL_loc, \"cimt_target_variants_perm_cis_mqtl.csv\")\n",
    ")"
   ]
  },
  {
   "cell_type": "code",
   "execution_count": 27,
   "metadata": {},
   "outputs": [],
   "source": [
    "del sumstats_perm_cis_mqtl"
   ]
  },
  {
   "cell_type": "markdown",
   "metadata": {},
   "source": [
    "# trans-eQTL (permuted)\n",
    "\n",
    "Here we load the nominal _trans_-acting eQTL data."
   ]
  },
  {
   "cell_type": "code",
   "execution_count": 28,
   "metadata": {},
   "outputs": [],
   "source": [
    "# read in data\n",
    "import polars as pl\n",
    "\n",
    "# Specify the file path to your data\n",
    "file_path = os.path.join(\n",
    "    PERM_TRANS_EQTL_loc, \"tensorqtl_trans_full.trans_qtl_pairs.parquet\"\n",
    ")\n",
    "\n",
    "# Read the data into a Polars DataFrame\n",
    "sumstats_perm_trans_eqtl = pl.read_parquet(file_path)"
   ]
  },
  {
   "cell_type": "code",
   "execution_count": 29,
   "metadata": {},
   "outputs": [
    {
     "data": {
      "text/html": [
       "<div><style>\n",
       ".dataframe > thead > tr > th,\n",
       ".dataframe > tbody > tr > td {\n",
       "  text-align: right;\n",
       "  white-space: pre-wrap;\n",
       "}\n",
       "</style>\n",
       "<small>shape: (1_278_265, 7)</small><table border=\"1\" class=\"dataframe\"><thead><tr><th>variant_id</th><th>phenotype_id</th><th>pval</th><th>b</th><th>b_se</th><th>af</th><th>__index_level_0__</th></tr><tr><td>str</td><td>str</td><td>f64</td><td>f32</td><td>f32</td><td>f32</td><td>i64</td></tr></thead><tbody><tr><td>&quot;1:730087&quot;</td><td>&quot;ENSG0000013140…</td><td>0.000009</td><td>-0.419756</td><td>0.093878</td><td>0.010383</td><td>0</td></tr><tr><td>&quot;1:752307&quot;</td><td>&quot;ENSG0000010803…</td><td>0.000006</td><td>-0.308768</td><td>0.067392</td><td>0.019169</td><td>1</td></tr><tr><td>&quot;1:752593&quot;</td><td>&quot;ENSG0000010803…</td><td>0.000006</td><td>-0.308768</td><td>0.067392</td><td>0.019169</td><td>2</td></tr><tr><td>&quot;1:752617&quot;</td><td>&quot;ENSG0000010803…</td><td>0.000006</td><td>-0.308768</td><td>0.067392</td><td>0.019169</td><td>3</td></tr><tr><td>&quot;1:754121&quot;</td><td>&quot;ENSG0000010803…</td><td>0.000006</td><td>-0.308768</td><td>0.067392</td><td>0.019169</td><td>4</td></tr><tr><td>&quot;1:754163&quot;</td><td>&quot;ENSG0000010803…</td><td>0.000006</td><td>-0.308768</td><td>0.067392</td><td>0.019169</td><td>5</td></tr><tr><td>&quot;1:754671&quot;</td><td>&quot;ENSG0000010803…</td><td>0.000006</td><td>-0.308768</td><td>0.067392</td><td>0.019169</td><td>6</td></tr><tr><td>&quot;1:759177&quot;</td><td>&quot;ENSG0000010803…</td><td>0.000006</td><td>-0.308768</td><td>0.067392</td><td>0.019169</td><td>7</td></tr><tr><td>&quot;1:759970&quot;</td><td>&quot;ENSG0000010803…</td><td>0.000006</td><td>-0.308768</td><td>0.067392</td><td>0.019169</td><td>8</td></tr><tr><td>&quot;1:760811&quot;</td><td>&quot;ENSG0000010803…</td><td>0.000006</td><td>-0.308768</td><td>0.067392</td><td>0.019169</td><td>9</td></tr><tr><td>&quot;1:761958&quot;</td><td>&quot;ENSG0000010803…</td><td>0.000006</td><td>-0.308768</td><td>0.067392</td><td>0.019169</td><td>10</td></tr><tr><td>&quot;1:800193&quot;</td><td>&quot;ENSG0000013140…</td><td>0.000008</td><td>-0.395646</td><td>0.087991</td><td>0.011981</td><td>11</td></tr><tr><td>&hellip;</td><td>&hellip;</td><td>&hellip;</td><td>&hellip;</td><td>&hellip;</td><td>&hellip;</td><td>&hellip;</td></tr><tr><td>&quot;22:51154458&quot;</td><td>&quot;ENSG0000007585…</td><td>0.000005</td><td>0.115279</td><td>0.024902</td><td>0.347444</td><td>1278253</td></tr><tr><td>&quot;22:51155151&quot;</td><td>&quot;ENSG0000016411…</td><td>0.000007</td><td>0.152381</td><td>0.03351</td><td>0.558307</td><td>1278254</td></tr><tr><td>&quot;22:51156078&quot;</td><td>&quot;ENSG0000007585…</td><td>0.000003</td><td>0.115418</td><td>0.024338</td><td>0.365815</td><td>1278255</td></tr><tr><td>&quot;22:51156732&quot;</td><td>&quot;ENSG0000015397…</td><td>0.00001</td><td>0.168354</td><td>0.037716</td><td>0.336262</td><td>1278256</td></tr><tr><td>&quot;22:51175626&quot;</td><td>&quot;ENSG0000010132…</td><td>0.000007</td><td>-0.368675</td><td>0.081176</td><td>0.059904</td><td>1278257</td></tr><tr><td>&quot;22:51180878&quot;</td><td>&quot;ENSG0000010132…</td><td>0.000002</td><td>-0.348576</td><td>0.072814</td><td>0.079073</td><td>1278258</td></tr><tr><td>&quot;22:51180966&quot;</td><td>&quot;ENSG0000010132…</td><td>0.000006</td><td>-0.372415</td><td>0.081464</td><td>0.059105</td><td>1278259</td></tr><tr><td>&quot;22:51181759&quot;</td><td>&quot;ENSG0000010567…</td><td>0.000002</td><td>-0.179683</td><td>0.037435</td><td>0.88099</td><td>1278260</td></tr><tr><td>&quot;22:51185740&quot;</td><td>&quot;ENSG0000010132…</td><td>0.000009</td><td>-0.368016</td><td>0.082059</td><td>0.058307</td><td>1278261</td></tr><tr><td>&quot;22:51185743&quot;</td><td>&quot;ENSG0000010132…</td><td>0.000009</td><td>-0.368016</td><td>0.082059</td><td>0.058307</td><td>1278262</td></tr><tr><td>&quot;22:51189146&quot;</td><td>&quot;ENSG0000010132…</td><td>0.000009</td><td>-0.368016</td><td>0.082059</td><td>0.058307</td><td>1278263</td></tr><tr><td>&quot;22:51189328&quot;</td><td>&quot;ENSG0000010132…</td><td>0.000009</td><td>-0.368016</td><td>0.082059</td><td>0.058307</td><td>1278264</td></tr></tbody></table></div>"
      ],
      "text/plain": [
       "shape: (1_278_265, 7)\n",
       "┌─────────────┬─────────────────┬──────────┬───────────┬──────────┬──────────┬───────────────────┐\n",
       "│ variant_id  ┆ phenotype_id    ┆ pval     ┆ b         ┆ b_se     ┆ af       ┆ __index_level_0__ │\n",
       "│ ---         ┆ ---             ┆ ---      ┆ ---       ┆ ---      ┆ ---      ┆ ---               │\n",
       "│ str         ┆ str             ┆ f64      ┆ f32       ┆ f32      ┆ f32      ┆ i64               │\n",
       "╞═════════════╪═════════════════╪══════════╪═══════════╪══════════╪══════════╪═══════════════════╡\n",
       "│ 1:730087    ┆ ENSG00000131408 ┆ 0.000009 ┆ -0.419756 ┆ 0.093878 ┆ 0.010383 ┆ 0                 │\n",
       "│ 1:752307    ┆ ENSG00000108039 ┆ 0.000006 ┆ -0.308768 ┆ 0.067392 ┆ 0.019169 ┆ 1                 │\n",
       "│ 1:752593    ┆ ENSG00000108039 ┆ 0.000006 ┆ -0.308768 ┆ 0.067392 ┆ 0.019169 ┆ 2                 │\n",
       "│ 1:752617    ┆ ENSG00000108039 ┆ 0.000006 ┆ -0.308768 ┆ 0.067392 ┆ 0.019169 ┆ 3                 │\n",
       "│ …           ┆ …               ┆ …        ┆ …         ┆ …        ┆ …        ┆ …                 │\n",
       "│ 22:51185740 ┆ ENSG00000101323 ┆ 0.000009 ┆ -0.368016 ┆ 0.082059 ┆ 0.058307 ┆ 1278261           │\n",
       "│ 22:51185743 ┆ ENSG00000101323 ┆ 0.000009 ┆ -0.368016 ┆ 0.082059 ┆ 0.058307 ┆ 1278262           │\n",
       "│ 22:51189146 ┆ ENSG00000101323 ┆ 0.000009 ┆ -0.368016 ┆ 0.082059 ┆ 0.058307 ┆ 1278263           │\n",
       "│ 22:51189328 ┆ ENSG00000101323 ┆ 0.000009 ┆ -0.368016 ┆ 0.082059 ┆ 0.058307 ┆ 1278264           │\n",
       "└─────────────┴─────────────────┴──────────┴───────────┴──────────┴──────────┴───────────────────┘"
      ]
     },
     "execution_count": 29,
     "metadata": {},
     "output_type": "execute_result"
    }
   ],
   "source": [
    "# Display the first few rows of the DataFrame to verify the data loading\n",
    "sumstats_perm_trans_eqtl"
   ]
  },
  {
   "cell_type": "markdown",
   "metadata": {},
   "source": [
    "## PGC"
   ]
  },
  {
   "cell_type": "code",
   "execution_count": 30,
   "metadata": {},
   "outputs": [
    {
     "name": "stdout",
     "output_type": "stream",
     "text": [
      "Merging target variants with nominal cis-eQTLs.\n",
      "Sorting the DataFrame by column \"pval_nominal\" in descending order.\n",
      "Showing the first 5 rows of the DataFrame.\n",
      "shape: (94, 19)\n",
      "┌──────┬───────┬──────────────┬─────┬───┬───────────┬──────────┬──────────┬───────────────────┐\n",
      "│ RSID ┆ ALTID ┆ VariantID    ┆ Chr ┆ … ┆ b         ┆ b_se     ┆ af       ┆ __index_level_0__ │\n",
      "│ ---  ┆ ---   ┆ ---          ┆ --- ┆   ┆ ---       ┆ ---      ┆ ---      ┆ ---               │\n",
      "│ str  ┆ str   ┆ str          ┆ i64 ┆   ┆ f32       ┆ f32      ┆ f32      ┆ i64               │\n",
      "╞══════╪═══════╪══════════════╪═════╪═══╪═══════════╪══════════╪══════════╪═══════════════════╡\n",
      "│ ---  ┆ ---   ┆ 17:27368639  ┆ 17  ┆ … ┆ -0.08548  ┆ 0.014809 ┆ 0.06869  ┆ 1125431           │\n",
      "│ ---  ┆ ---   ┆ 9:23740210   ┆ 9   ┆ … ┆ -0.073517 ┆ 0.013739 ┆ 0.227636 ┆ 731827            │\n",
      "│ ---  ┆ ---   ┆ 7:111391927  ┆ 7   ┆ … ┆ 0.292759  ┆ 0.05673  ┆ 0.066294 ┆ 626547            │\n",
      "│ ---  ┆ ---   ┆ 16:15558272  ┆ 16  ┆ … ┆ 0.075144  ┆ 0.014656 ┆ 0.369808 ┆ 1086499           │\n",
      "│ …    ┆ …     ┆ …            ┆ …   ┆ … ┆ …         ┆ …        ┆ …        ┆ …                 │\n",
      "│ ---  ┆ ---   ┆ 17:27368639  ┆ 17  ┆ … ┆ -0.141782 ┆ 0.031767 ┆ 0.06869  ┆ 1125430           │\n",
      "│ ---  ┆ ---   ┆ 1:18123443   ┆ 1   ┆ … ┆ -0.184661 ┆ 0.041386 ┆ 0.158946 ┆ 7281              │\n",
      "│ ---  ┆ ---   ┆ 1:241806189  ┆ 1   ┆ … ┆ 0.109842  ┆ 0.024628 ┆ 0.640575 ┆ 89165             │\n",
      "│ ---  ┆ ---   ┆ 10:125426627 ┆ 10  ┆ … ┆ 0.048111  ┆ 0.010789 ┆ 0.646166 ┆ 828020            │\n",
      "└──────┴───────┴──────────────┴─────┴───┴───────────┴──────────┴──────────┴───────────────────┘\n",
      "Exporting the Polars DataFrame to a CSV file.\n"
     ]
    }
   ],
   "source": [
    "import os\n",
    "import polars as pl\n",
    "import pandas as pd\n",
    "\n",
    "print(\"Merging target variants with nominal cis-eQTLs.\")\n",
    "# Perform the join operation\n",
    "temp = target_variants_pgc.join(\n",
    "    sumstats_perm_trans_eqtl, left_on=\"VariantID\", right_on=\"variant_id\", how=\"inner\"\n",
    ")\n",
    "print('Sorting the DataFrame by column \"pval_nominal\" in descending order.')\n",
    "# Sort the DataFrame by column 'A' in descending order\n",
    "target_variants_pgc_perm_trans_eqtl = temp.sort(\"pval\")\n",
    "del temp\n",
    "\n",
    "print(\"Showing the first 5 rows of the DataFrame.\")\n",
    "# Display the sorted DataFrame in descending order\n",
    "print(target_variants_pgc_perm_trans_eqtl)\n",
    "\n",
    "print(\"Exporting the Polars DataFrame to a CSV file.\")\n",
    "# Export the Polars DataFrame to a CSV file\n",
    "target_variants_pgc_perm_trans_eqtl.write_csv(\n",
    "    os.path.join(molQTL_loc, \"pgc_target_variants_perm_trans_eqtl.csv\")\n",
    ")"
   ]
  },
  {
   "cell_type": "markdown",
   "metadata": {},
   "source": [
    "## Million Hearts"
   ]
  },
  {
   "cell_type": "code",
   "execution_count": 31,
   "metadata": {},
   "outputs": [
    {
     "name": "stdout",
     "output_type": "stream",
     "text": [
      "Merging target variants with nominal cis-eQTLs.\n",
      "Sorting the DataFrame by column \"pval_nominal\" in descending order.\n",
      "Showing the first 5 rows of the DataFrame.\n",
      "shape: (110, 30)\n",
      "┌─────────────┬──────────────┬─────┬───────────┬───┬───────────┬──────────┬──────────┬─────────────┐\n",
      "│ VariantID   ┆ MarkerName   ┆ CHR ┆ BP        ┆ … ┆ b         ┆ b_se     ┆ af       ┆ __index_lev │\n",
      "│ ---         ┆ ---          ┆ --- ┆ ---       ┆   ┆ ---       ┆ ---      ┆ ---      ┆ el_0__      │\n",
      "│ str         ┆ str          ┆ i64 ┆ i64       ┆   ┆ f32       ┆ f32      ┆ f32      ┆ ---         │\n",
      "│             ┆              ┆     ┆           ┆   ┆           ┆          ┆          ┆ i64         │\n",
      "╞═════════════╪══════════════╪═════╪═══════════╪═══╪═══════════╪══════════╪══════════╪═════════════╡\n",
      "│ 6:31888367  ┆ 6:31888367_C ┆ 6   ┆ 31888367  ┆ … ┆ -0.524084 ┆ 0.076206 ┆ 0.869808 ┆ 479722      │\n",
      "│             ┆ _T           ┆     ┆           ┆   ┆           ┆          ┆          ┆             │\n",
      "│ 20:44607661 ┆ 20:44607661_ ┆ 20  ┆ 44607661  ┆ … ┆ 0.114266  ┆ 0.01729  ┆ 0.15655  ┆ 1235183     │\n",
      "│             ┆ A_G          ┆     ┆           ┆   ┆           ┆          ┆          ┆             │\n",
      "│ 20:44607661 ┆ 20:44607661_ ┆ 20  ┆ 44607661  ┆ … ┆ 0.128935  ┆ 0.020087 ┆ 0.15655  ┆ 1235184     │\n",
      "│             ┆ A_G          ┆     ┆           ┆   ┆           ┆          ┆          ┆             │\n",
      "│ 10:91007360 ┆ 10:91007360_ ┆ 10  ┆ 91007360  ┆ … ┆ 0.0885    ┆ 0.014655 ┆ 0.333067 ┆ 813901      │\n",
      "│             ┆ G_T          ┆     ┆           ┆   ┆           ┆          ┆          ┆             │\n",
      "│ …           ┆ …            ┆ …   ┆ …         ┆ … ┆ …         ┆ …        ┆ …        ┆ …           │\n",
      "│ 2:44075483  ┆ 2:44075483_C ┆ 2   ┆ 44075483  ┆ … ┆ -0.184836 ┆ 0.041385 ┆ 0.063099 ┆ 114184      │\n",
      "│             ┆ _T           ┆     ┆           ┆   ┆           ┆          ┆          ┆             │\n",
      "│ 11:5701074  ┆ 11:5701074_A ┆ 11  ┆ 5701074   ┆ … ┆ -0.205192 ┆ 0.045971 ┆ 0.06869  ┆ 837299      │\n",
      "│             ┆ _C           ┆     ┆           ┆   ┆           ┆          ┆          ┆             │\n",
      "│ 2:128785663 ┆ 2:128785663_ ┆ 2   ┆ 128785663 ┆ … ┆ -0.119797 ┆ 0.026861 ┆ 0.095048 ┆ 146798      │\n",
      "│             ┆ C_T          ┆     ┆           ┆   ┆           ┆          ┆          ┆             │\n",
      "│ 17:59013488 ┆ 17:59013488_ ┆ 17  ┆ 59013488  ┆ … ┆ -0.161383 ┆ 0.0362   ┆ 0.180511 ┆ 1143587     │\n",
      "│             ┆ C_T          ┆     ┆           ┆   ┆           ┆          ┆          ┆             │\n",
      "└─────────────┴──────────────┴─────┴───────────┴───┴───────────┴──────────┴──────────┴─────────────┘\n",
      "Exporting the Polars DataFrame to a CSV file.\n"
     ]
    }
   ],
   "source": [
    "import os\n",
    "import polars as pl\n",
    "import pandas as pd\n",
    "\n",
    "print(\"Merging target variants with nominal cis-eQTLs.\")\n",
    "# Perform the join operation\n",
    "temp = target_variants_millionhearts.join(\n",
    "    sumstats_perm_trans_eqtl, left_on=\"VariantID\", right_on=\"variant_id\", how=\"inner\"\n",
    ")\n",
    "print('Sorting the DataFrame by column \"pval_nominal\" in descending order.')\n",
    "# Sort the DataFrame by column 'A' in descending order\n",
    "target_variants_millionhearts_perm_trans_eqtl = temp.sort(\"pval\")\n",
    "del temp\n",
    "\n",
    "print(\"Showing the first 5 rows of the DataFrame.\")\n",
    "# Display the sorted DataFrame in descending order\n",
    "print(target_variants_millionhearts_perm_trans_eqtl)\n",
    "\n",
    "print(\"Exporting the Polars DataFrame to a CSV file.\")\n",
    "# Export the Polars DataFrame to a CSV file\n",
    "target_variants_millionhearts_perm_trans_eqtl.write_csv(\n",
    "    os.path.join(\n",
    "        molQTL_loc, \"millionhearts_target_variants_perm_trans_eqtl.csv\")\n",
    ")"
   ]
  },
  {
   "cell_type": "markdown",
   "metadata": {},
   "source": [
    "## GIGASTROKE"
   ]
  },
  {
   "cell_type": "code",
   "execution_count": 32,
   "metadata": {},
   "outputs": [
    {
     "name": "stdout",
     "output_type": "stream",
     "text": [
      "Merging target variants with nominal cis-eQTLs.\n",
      "Sorting the DataFrame by column \"pval_nominal\" in descending order.\n",
      "Showing the first 5 rows of the DataFrame.\n",
      "shape: (11, 35)\n",
      "┌───────┬───────────┬──────────────┬─────┬───┬───────────┬──────────┬──────────┬───────────────────┐\n",
      "│ Index ┆ rsID      ┆ VariantID    ┆ Chr ┆ … ┆ b         ┆ b_se     ┆ af       ┆ __index_level_0__ │\n",
      "│ ---   ┆ ---       ┆ ---          ┆ --- ┆   ┆ ---       ┆ ---      ┆ ---      ┆ ---               │\n",
      "│ i64   ┆ str       ┆ str          ┆ i64 ┆   ┆ f32       ┆ f32      ┆ f32      ┆ i64               │\n",
      "╞═══════╪═══════════╪══════════════╪═════╪═══╪═══════════╪══════════╪══════════╪═══════════════════╡\n",
      "│ 78    ┆ rs1412444 ┆ 10:91002927  ┆ 10  ┆ … ┆ 0.083318  ┆ 0.01443  ┆ 0.369808 ┆ 813894            │\n",
      "│ 30    ┆ rs2738158 ┆ 8:6749669    ┆ 8   ┆ … ┆ -0.125952 ┆ 0.02513  ┆ 0.905751 ┆ 655633            │\n",
      "│ 84    ┆ rs8014986 ┆ 14:100135718 ┆ 14  ┆ … ┆ 0.136306  ┆ 0.027278 ┆ 0.162141 ┆ 1039841           │\n",
      "│ 12    ┆ rs4681330 ┆ 3:146378341  ┆ 3   ┆ … ┆ -0.135917 ┆ 0.029078 ┆ 0.400958 ┆ 256044            │\n",
      "│ …     ┆ …         ┆ …            ┆ …   ┆ … ┆ …         ┆ …        ┆ …        ┆ …                 │\n",
      "│ 85    ┆ rs7500448 ┆ 16:83045790  ┆ 16  ┆ … ┆ 0.099342  ┆ 0.022063 ┆ 0.25     ┆ 1110201           │\n",
      "│ 47    ┆ rs7974266 ┆ 12:113007602 ┆ 12  ┆ … ┆ -0.1169   ┆ 0.026158 ┆ 0.278754 ┆ 945102            │\n",
      "│ 12    ┆ rs4681330 ┆ 3:146378341  ┆ 3   ┆ … ┆ -0.062721 ┆ 0.014036 ┆ 0.400958 ┆ 256043            │\n",
      "│ 16    ┆ rs4444878 ┆ 4:187213883  ┆ 4   ┆ … ┆ -0.088398 ┆ 0.019811 ┆ 0.416134 ┆ 370801            │\n",
      "└───────┴───────────┴──────────────┴─────┴───┴───────────┴──────────┴──────────┴───────────────────┘\n",
      "Exporting the Polars DataFrame to a CSV file.\n"
     ]
    }
   ],
   "source": [
    "import os\n",
    "import polars as pl\n",
    "import pandas as pd\n",
    "\n",
    "print(\"Merging target variants with nominal cis-eQTLs.\")\n",
    "# Perform the join operation\n",
    "temp = target_variants_gigastroke.join(\n",
    "    sumstats_perm_trans_eqtl, left_on=\"VariantID\", right_on=\"variant_id\", how=\"inner\"\n",
    ")\n",
    "print('Sorting the DataFrame by column \"pval_nominal\" in descending order.')\n",
    "# Sort the DataFrame by column 'A' in descending order\n",
    "target_variants_gigastroke_perm_trans_eqtl = temp.sort(\"pval\")\n",
    "del temp\n",
    "\n",
    "print(\"Showing the first 5 rows of the DataFrame.\")\n",
    "# Display the sorted DataFrame in descending order\n",
    "print(target_variants_gigastroke_perm_trans_eqtl)\n",
    "\n",
    "print(\"Exporting the Polars DataFrame to a CSV file.\")\n",
    "# Export the Polars DataFrame to a CSV file\n",
    "target_variants_gigastroke_perm_trans_eqtl.write_csv(\n",
    "    os.path.join(molQTL_loc, \"gigastroke_target_variants_perm_trans_eqtl.csv\")\n",
    ")"
   ]
  },
  {
   "cell_type": "markdown",
   "metadata": {},
   "source": [
    "## CAC"
   ]
  },
  {
   "cell_type": "code",
   "execution_count": 33,
   "metadata": {},
   "outputs": [
    {
     "name": "stdout",
     "output_type": "stream",
     "text": [
      "Merging target variants with nominal cis-eQTLs.\n",
      "Sorting the DataFrame by column \"pval_nominal\" in descending order.\n",
      "Showing the first 5 rows of the DataFrame.\n",
      "shape: (1, 21)\n",
      "┌────────────┬────────────┬─────┬──────────┬───┬──────────┬──────────┬──────────┬──────────────────┐\n",
      "│ rsID       ┆ VariantID  ┆ Chr ┆ Pos_hg19 ┆ … ┆ b        ┆ b_se     ┆ af       ┆ __index_level_0_ │\n",
      "│ ---        ┆ ---        ┆ --- ┆ ---      ┆   ┆ ---      ┆ ---      ┆ ---      ┆ _                │\n",
      "│ str        ┆ str        ┆ i64 ┆ i64      ┆   ┆ f32      ┆ f32      ┆ f32      ┆ ---              │\n",
      "│            ┆            ┆     ┆          ┆   ┆          ┆          ┆          ┆ i64              │\n",
      "╞════════════╪════════════╪═════╪══════════╪═══╪══════════╪══════════╪══════════╪══════════════════╡\n",
      "│ rs35355695 ┆ 6:12891103 ┆ 6   ┆ 12891103 ┆ … ┆ 0.157713 ┆ 0.029411 ┆ 0.276358 ┆ 461822           │\n",
      "└────────────┴────────────┴─────┴──────────┴───┴──────────┴──────────┴──────────┴──────────────────┘\n",
      "Exporting the Polars DataFrame to a CSV file.\n"
     ]
    }
   ],
   "source": [
    "import os\n",
    "import polars as pl\n",
    "import pandas as pd\n",
    "\n",
    "print(\"Merging target variants with nominal cis-eQTLs.\")\n",
    "# Perform the join operation\n",
    "temp = target_variants_cac.join(\n",
    "    sumstats_perm_trans_eqtl, left_on=\"VariantID\", right_on=\"variant_id\", how=\"inner\"\n",
    ")\n",
    "print('Sorting the DataFrame by column \"pval_nominal\" in descending order.')\n",
    "# Sort the DataFrame by column 'A' in descending order\n",
    "target_variants_cac_perm_trans_eqtl = temp.sort(\"pval\")\n",
    "del temp\n",
    "\n",
    "print(\"Showing the first 5 rows of the DataFrame.\")\n",
    "# Display the sorted DataFrame in descending order\n",
    "print(target_variants_cac_perm_trans_eqtl)\n",
    "\n",
    "print(\"Exporting the Polars DataFrame to a CSV file.\")\n",
    "# Export the Polars DataFrame to a CSV file\n",
    "target_variants_cac_perm_trans_eqtl.write_csv(\n",
    "    os.path.join(molQTL_loc, \"cac_target_variants_perm_trans_eqtl.csv\")\n",
    ")"
   ]
  },
  {
   "cell_type": "markdown",
   "metadata": {},
   "source": [
    "## CIMT"
   ]
  },
  {
   "cell_type": "code",
   "execution_count": 36,
   "metadata": {},
   "outputs": [
    {
     "name": "stdout",
     "output_type": "stream",
     "text": [
      "Merging target variants with nominal cis-eQTLs.\n",
      "Sorting the DataFrame by column \"pval_nominal\" in descending order.\n",
      "Showing the first 5 rows of the DataFrame.\n",
      "shape: (0, 22)\n",
      "┌──────┬───────────┬─────┬─────┬───┬─────┬──────┬─────┬───────────────────┐\n",
      "│ RSID ┆ VariantID ┆ CHR ┆ BP  ┆ … ┆ b   ┆ b_se ┆ af  ┆ __index_level_0__ │\n",
      "│ ---  ┆ ---       ┆ --- ┆ --- ┆   ┆ --- ┆ ---  ┆ --- ┆ ---               │\n",
      "│ str  ┆ str       ┆ i64 ┆ i64 ┆   ┆ f32 ┆ f32  ┆ f32 ┆ i64               │\n",
      "╞══════╪═══════════╪═════╪═════╪═══╪═════╪══════╪═════╪═══════════════════╡\n",
      "└──────┴───────────┴─────┴─────┴───┴─────┴──────┴─────┴───────────────────┘\n",
      "Exporting the Polars DataFrame to a CSV file.\n"
     ]
    }
   ],
   "source": [
    "import os\n",
    "import polars as pl\n",
    "import pandas as pd\n",
    "\n",
    "print(\"Merging target variants with nominal cis-eQTLs.\")\n",
    "# Perform the join operation\n",
    "temp = target_variants_cimt.join(\n",
    "    sumstats_perm_trans_eqtl, left_on=\"VariantID\", right_on=\"variant_id\", how=\"inner\"\n",
    ")\n",
    "print('Sorting the DataFrame by column \"pval_nominal\" in descending order.')\n",
    "# Sort the DataFrame by column 'A' in descending order\n",
    "target_variants_cimt_perm_trans_eqtl = temp.sort(\"pval\")\n",
    "del temp\n",
    "\n",
    "print(\"Showing the first 5 rows of the DataFrame.\")\n",
    "# Display the sorted DataFrame in descending order\n",
    "print(target_variants_cimt_perm_trans_eqtl)\n",
    "\n",
    "print(\"Exporting the Polars DataFrame to a CSV file.\")\n",
    "# Export the Polars DataFrame to a CSV file\n",
    "target_variants_cimt_perm_trans_eqtl.write_csv(\n",
    "    os.path.join(molQTL_loc, \"cimt_target_variants_perm_trans_eqtl.csv\")\n",
    ")"
   ]
  },
  {
   "cell_type": "code",
   "execution_count": 37,
   "metadata": {},
   "outputs": [],
   "source": [
    "del sumstats_perm_trans_eqtl"
   ]
  },
  {
   "cell_type": "markdown",
   "metadata": {},
   "source": [
    "# trans-mQTL (permuted)\n",
    "\n",
    "Here we load the nominal _trans_-acting mQTL data."
   ]
  },
  {
   "cell_type": "code",
   "execution_count": 38,
   "metadata": {},
   "outputs": [],
   "source": [
    "# read in data\n",
    "import polars as pl\n",
    "\n",
    "# Specify the file path to your data\n",
    "file_path = os.path.join(\n",
    "    PERM_TRANS_MQTL_loc, \"tensormqtl_perm_trans_qtl_pairs.annot.parquet\"\n",
    ")\n",
    "\n",
    "# Read the data into a Polars DataFrame\n",
    "sumstats_perm_trans_mqtl = pl.read_parquet(file_path)"
   ]
  },
  {
   "cell_type": "code",
   "execution_count": 39,
   "metadata": {},
   "outputs": [
    {
     "data": {
      "text/html": [
       "<div><style>\n",
       ".dataframe > thead > tr > th,\n",
       ".dataframe > tbody > tr > td {\n",
       "  text-align: right;\n",
       "  white-space: pre-wrap;\n",
       "}\n",
       "</style>\n",
       "<small>shape: (30_366_857, 23)</small><table border=\"1\" class=\"dataframe\"><thead><tr><th>VariantID</th><th>CpG</th><th>pval_perm</th><th>Beta</th><th>SE</th><th>CAF_mQTL</th><th>__index_level_0__</th><th>chromosome</th><th>position</th><th>OtherAlleleA</th><th>CodedAlleleB</th><th>CAF</th><th>AltID</th><th>Source</th><th>AverageMaximumPosteriorCall</th><th>Info</th><th>AA_N</th><th>AB_N</th><th>BB_N</th><th>TotalN</th><th>MAF</th><th>MissingDataProportion</th><th>HWE_P</th></tr><tr><td>str</td><td>str</td><td>f64</td><td>f32</td><td>f32</td><td>f32</td><td>i64</td><td>i64</td><td>i64</td><td>str</td><td>str</td><td>f64</td><td>str</td><td>str</td><td>f64</td><td>f64</td><td>f64</td><td>f64</td><td>f64</td><td>i64</td><td>f64</td><td>f64</td><td>f64</td></tr></thead><tbody><tr><td>&quot;1:693731&quot;</td><td>&quot;cg23922040&quot;</td><td>0.000007</td><td>-0.356294</td><td>0.078441</td><td>0.126984</td><td>0</td><td>1</td><td>693731</td><td>&quot;A&quot;</td><td>&quot;G&quot;</td><td>0.137241</td><td>&quot;rs12238997&quot;</td><td>&quot;HRCr11&quot;</td><td>0.902046</td><td>0.624501</td><td>1637.01</td><td>451.103</td><td>35.569</td><td>2124</td><td>0.122957</td><td>0.000075</td><td>0.544841</td></tr><tr><td>&quot;1:714596&quot;</td><td>&quot;cg26079250&quot;</td><td>4.7736e-7</td><td>0.601047</td><td>0.117393</td><td>0.038549</td><td>0</td><td>1</td><td>714596</td><td>&quot;T&quot;</td><td>&quot;C&quot;</td><td>0.0327213</td><td>&quot;rs149887893&quot;</td><td>&quot;HRCr11&quot;</td><td>0.968278</td><td>0.577564</td><td>1987.73</td><td>135.495</td><td>0.677</td><td>2124</td><td>0.0322165</td><td>0.000024</td><td>0.272504</td></tr><tr><td>&quot;1:715367&quot;</td><td>&quot;cg26079250&quot;</td><td>4.7736e-7</td><td>0.601047</td><td>0.117393</td><td>0.038549</td><td>1</td><td>1</td><td>715367</td><td>&quot;A&quot;</td><td>&quot;G&quot;</td><td>0.0324859</td><td>&quot;rs12184277&quot;</td><td>&quot;HRCr11&quot;</td><td>0.975207</td><td>0.67196</td><td>1976.85</td><td>146.512</td><td>0.556</td><td>2124</td><td>0.0347528</td><td>0.000019</td><td>0.176551</td></tr><tr><td>&quot;1:717485&quot;</td><td>&quot;cg26079250&quot;</td><td>4.7736e-7</td><td>0.601047</td><td>0.117393</td><td>0.038549</td><td>2</td><td>1</td><td>717485</td><td>&quot;C&quot;</td><td>&quot;A&quot;</td><td>0.0324859</td><td>&quot;rs12184279&quot;</td><td>&quot;HRCr11&quot;</td><td>0.975183</td><td>0.670147</td><td>1978.35</td><td>145.041</td><td>0.517</td><td>2124</td><td>0.0343883</td><td>0.000022</td><td>0.174817</td></tr><tr><td>&quot;1:720381&quot;</td><td>&quot;cg26079250&quot;</td><td>4.7736e-7</td><td>0.601047</td><td>0.117393</td><td>0.038549</td><td>3</td><td>1</td><td>720381</td><td>&quot;G&quot;</td><td>&quot;T&quot;</td><td>0.0327213</td><td>&quot;rs116801199&quot;</td><td>&quot;HRCr11&quot;</td><td>0.974476</td><td>0.667536</td><td>1973.72</td><td>149.503</td><td>0.691</td><td>2124</td><td>0.0355205</td><td>0.00002</td><td>0.110452</td></tr><tr><td>&quot;1:721290&quot;</td><td>&quot;cg26079250&quot;</td><td>4.7736e-7</td><td>0.601047</td><td>0.117393</td><td>0.038549</td><td>4</td><td>1</td><td>721290</td><td>&quot;G&quot;</td><td>&quot;C&quot;</td><td>0.0327213</td><td>&quot;rs12565286&quot;</td><td>&quot;HRCr11&quot;</td><td>0.975168</td><td>0.677386</td><td>1972.67</td><td>150.564</td><td>0.687</td><td>2124</td><td>0.0357682</td><td>0.000017</td><td>0.110447</td></tr><tr><td>&quot;1:726794&quot;</td><td>&quot;cg26079250&quot;</td><td>4.7736e-7</td><td>0.601047</td><td>0.117393</td><td>0.038549</td><td>5</td><td>1</td><td>726794</td><td>&quot;C&quot;</td><td>&quot;G&quot;</td><td>0.0324859</td><td>&quot;rs28454925&quot;</td><td>&quot;HRCr11&quot;</td><td>0.977817</td><td>0.70519</td><td>1977.3</td><td>146.099</td><td>0.547</td><td>2124</td><td>0.0346509</td><td>0.000013</td><td>0.176493</td></tr><tr><td>&quot;1:729632&quot;</td><td>&quot;cg26079250&quot;</td><td>4.7736e-7</td><td>0.601047</td><td>0.117393</td><td>0.038549</td><td>6</td><td>1</td><td>729632</td><td>&quot;C&quot;</td><td>&quot;T&quot;</td><td>0.0324859</td><td>&quot;rs116720794&quot;</td><td>&quot;HRCr11&quot;</td><td>0.978581</td><td>0.715529</td><td>1976.76</td><td>146.752</td><td>0.454</td><td>2124</td><td>0.0347604</td><td>0.000008</td><td>0.176551</td></tr><tr><td>&quot;1:729679&quot;</td><td>&quot;cg23922040&quot;</td><td>0.000003</td><td>0.343842</td><td>0.072648</td><td>0.835601</td><td>1</td><td>1</td><td>729679</td><td>&quot;C&quot;</td><td>&quot;G&quot;</td><td>0.829331</td><td>&quot;rs4951859&quot;</td><td>&quot;HRCr11&quot;</td><td>0.936062</td><td>0.78861</td><td>58.204</td><td>600.893</td><td>1464.61</td><td>2124</td><td>0.16888</td><td>0.00007</td><td>0.757157</td></tr><tr><td>&quot;1:729679&quot;</td><td>&quot;cg20911180&quot;</td><td>0.00001</td><td>0.115228</td><td>0.025699</td><td>0.835601</td><td>0</td><td>1</td><td>729679</td><td>&quot;C&quot;</td><td>&quot;G&quot;</td><td>0.829331</td><td>&quot;rs4951859&quot;</td><td>&quot;HRCr11&quot;</td><td>0.936062</td><td>0.78861</td><td>58.204</td><td>600.893</td><td>1464.61</td><td>2124</td><td>0.16888</td><td>0.00007</td><td>0.757157</td></tr><tr><td>&quot;1:729679&quot;</td><td>&quot;cg04755031&quot;</td><td>0.000001</td><td>-0.319481</td><td>0.065203</td><td>0.835601</td><td>0</td><td>1</td><td>729679</td><td>&quot;C&quot;</td><td>&quot;G&quot;</td><td>0.829331</td><td>&quot;rs4951859&quot;</td><td>&quot;HRCr11&quot;</td><td>0.936062</td><td>0.78861</td><td>58.204</td><td>600.893</td><td>1464.61</td><td>2124</td><td>0.16888</td><td>0.00007</td><td>0.757157</td></tr><tr><td>&quot;1:730087&quot;</td><td>&quot;cg21968580&quot;</td><td>4.3356e-7</td><td>-1.543802</td><td>0.300392</td><td>0.006803</td><td>2</td><td>1</td><td>730087</td><td>&quot;T&quot;</td><td>&quot;C&quot;</td><td>0.0216573</td><td>&quot;rs148120343&quot;</td><td>&quot;HRCr11&quot;</td><td>0.919602</td><td>0.439455</td><td>1902.75</td><td>213.581</td><td>7.655</td><td>2124</td><td>0.0538824</td><td>0.000003</td><td>0.665385</td></tr><tr><td>&hellip;</td><td>&hellip;</td><td>&hellip;</td><td>&hellip;</td><td>&hellip;</td><td>&hellip;</td><td>&hellip;</td><td>&hellip;</td><td>&hellip;</td><td>&hellip;</td><td>&hellip;</td><td>&hellip;</td><td>&hellip;</td><td>&hellip;</td><td>&hellip;</td><td>&hellip;</td><td>&hellip;</td><td>&hellip;</td><td>&hellip;</td><td>&hellip;</td><td>&hellip;</td><td>&hellip;</td><td>&hellip;</td></tr><tr><td>&quot;22:51221190&quot;</td><td>&quot;cg16537245&quot;</td><td>0.000004</td><td>-0.623444</td><td>0.133772</td><td>0.037415</td><td>1765264</td><td>22</td><td>51221190</td><td>&quot;G&quot;</td><td>&quot;A&quot;</td><td>0.0400188</td><td>&quot;rs369304721&quot;</td><td>&quot;HRCr11&quot;</td><td>0.933398</td><td>0.443438</td><td>1911.83</td><td>204.73</td><td>7.373</td><td>2124</td><td>0.0516673</td><td>0.000015</td><td>0.500544</td></tr><tr><td>&quot;22:51221731&quot;</td><td>&quot;cg15996984&quot;</td><td>0.00001</td><td>0.273296</td><td>0.060963</td><td>0.037415</td><td>1591595</td><td>22</td><td>51221731</td><td>&quot;T&quot;</td><td>&quot;C&quot;</td><td>0.0442561</td><td>&quot;rs115055839&quot;</td><td>&quot;HRCr11&quot;</td><td>0.911894</td><td>0.405944</td><td>1826.36</td><td>284.126</td><td>13.448</td><td>2124</td><td>0.0732185</td><td>0.000016</td><td>0.523538</td></tr><tr><td>&quot;22:51221731&quot;</td><td>&quot;cg01023769&quot;</td><td>0.000003</td><td>0.640222</td><td>0.135267</td><td>0.037415</td><td>1782851</td><td>22</td><td>51221731</td><td>&quot;T&quot;</td><td>&quot;C&quot;</td><td>0.0442561</td><td>&quot;rs115055839&quot;</td><td>&quot;HRCr11&quot;</td><td>0.911894</td><td>0.405944</td><td>1826.36</td><td>284.126</td><td>13.448</td><td>2124</td><td>0.0732185</td><td>0.000016</td><td>0.523538</td></tr><tr><td>&quot;22:51221731&quot;</td><td>&quot;cg16537245&quot;</td><td>0.000006</td><td>-0.616487</td><td>0.134441</td><td>0.037415</td><td>1765265</td><td>22</td><td>51221731</td><td>&quot;T&quot;</td><td>&quot;C&quot;</td><td>0.0442561</td><td>&quot;rs115055839&quot;</td><td>&quot;HRCr11&quot;</td><td>0.911894</td><td>0.405944</td><td>1826.36</td><td>284.126</td><td>13.448</td><td>2124</td><td>0.0732185</td><td>0.000016</td><td>0.523538</td></tr><tr><td>&quot;22:51222100&quot;</td><td>&quot;cg23791672&quot;</td><td>0.000001</td><td>0.431026</td><td>0.08784</td><td>0.055556</td><td>1915991</td><td>22</td><td>51222100</td><td>&quot;G&quot;</td><td>&quot;T&quot;</td><td>0.0503766</td><td>&quot;rs114553188&quot;</td><td>&quot;HRCr11&quot;</td><td>0.969267</td><td>0.716716</td><td>1911.95</td><td>205.392</td><td>6.52</td><td>2124</td><td>0.0514234</td><td>0.000033</td><td>0.821168</td></tr><tr><td>&quot;22:51222100&quot;</td><td>&quot;cg13041032&quot;</td><td>4.4824e-8</td><td>0.536066</td><td>0.096085</td><td>0.055556</td><td>1915992</td><td>22</td><td>51222100</td><td>&quot;G&quot;</td><td>&quot;T&quot;</td><td>0.0503766</td><td>&quot;rs114553188&quot;</td><td>&quot;HRCr11&quot;</td><td>0.969267</td><td>0.716716</td><td>1911.95</td><td>205.392</td><td>6.52</td><td>2124</td><td>0.0514234</td><td>0.000033</td><td>0.821168</td></tr><tr><td>&quot;22:51222100&quot;</td><td>&quot;cg14912896&quot;</td><td>0.00001</td><td>-0.530396</td><td>0.118366</td><td>0.055556</td><td>2341693</td><td>22</td><td>51222100</td><td>&quot;G&quot;</td><td>&quot;T&quot;</td><td>0.0503766</td><td>&quot;rs114553188&quot;</td><td>&quot;HRCr11&quot;</td><td>0.969267</td><td>0.716716</td><td>1911.95</td><td>205.392</td><td>6.52</td><td>2124</td><td>0.0514234</td><td>0.000033</td><td>0.821168</td></tr><tr><td>&quot;22:51222100&quot;</td><td>&quot;cg09152866&quot;</td><td>0.000004</td><td>-0.57776</td><td>0.12325</td><td>0.055556</td><td>1765266</td><td>22</td><td>51222100</td><td>&quot;G&quot;</td><td>&quot;T&quot;</td><td>0.0503766</td><td>&quot;rs114553188&quot;</td><td>&quot;HRCr11&quot;</td><td>0.969267</td><td>0.716716</td><td>1911.95</td><td>205.392</td><td>6.52</td><td>2124</td><td>0.0514234</td><td>0.000033</td><td>0.821168</td></tr><tr><td>&quot;22:51222100&quot;</td><td>&quot;cg13298841&quot;</td><td>0.00001</td><td>-0.39901</td><td>0.089024</td><td>0.055556</td><td>1929592</td><td>22</td><td>51222100</td><td>&quot;G&quot;</td><td>&quot;T&quot;</td><td>0.0503766</td><td>&quot;rs114553188&quot;</td><td>&quot;HRCr11&quot;</td><td>0.969267</td><td>0.716716</td><td>1911.95</td><td>205.392</td><td>6.52</td><td>2124</td><td>0.0514234</td><td>0.000033</td><td>0.821168</td></tr><tr><td>&quot;22:51229805&quot;</td><td>&quot;cg06064254&quot;</td><td>0.000006</td><td>-0.413968</td><td>0.090131</td><td>0.038549</td><td>390008</td><td>22</td><td>51229805</td><td>&quot;T&quot;</td><td>&quot;C&quot;</td><td>0.0477872</td><td>&quot;rs9616985&quot;</td><td>&quot;HRCr11&quot;</td><td>0.935419</td><td>0.585</td><td>1821.25</td><td>287.583</td><td>15.116</td><td>2124</td><td>0.0748171</td><td>0.000012</td><td>0.342973</td></tr><tr><td>&quot;22:51229805&quot;</td><td>&quot;cg01023769&quot;</td><td>0.000006</td><td>0.610595</td><td>0.133331</td><td>0.038549</td><td>1782852</td><td>22</td><td>51229805</td><td>&quot;T&quot;</td><td>&quot;C&quot;</td><td>0.0477872</td><td>&quot;rs9616985&quot;</td><td>&quot;HRCr11&quot;</td><td>0.935419</td><td>0.585</td><td>1821.25</td><td>287.583</td><td>15.116</td><td>2124</td><td>0.0748171</td><td>0.000012</td><td>0.342973</td></tr><tr><td>&quot;22:51229805&quot;</td><td>&quot;cg16537245&quot;</td><td>0.00001</td><td>-0.593727</td><td>0.132439</td><td>0.038549</td><td>1765267</td><td>22</td><td>51229805</td><td>&quot;T&quot;</td><td>&quot;C&quot;</td><td>0.0477872</td><td>&quot;rs9616985&quot;</td><td>&quot;HRCr11&quot;</td><td>0.935419</td><td>0.585</td><td>1821.25</td><td>287.583</td><td>15.116</td><td>2124</td><td>0.0748171</td><td>0.000012</td><td>0.342973</td></tr></tbody></table></div>"
      ],
      "text/plain": [
       "shape: (30_366_857, 23)\n",
       "┌────────────┬────────────┬───────────┬───────────┬───┬────────┬───────────┬────────────┬──────────┐\n",
       "│ VariantID  ┆ CpG        ┆ pval_perm ┆ Beta      ┆ … ┆ TotalN ┆ MAF       ┆ MissingDat ┆ HWE_P    │\n",
       "│ ---        ┆ ---        ┆ ---       ┆ ---       ┆   ┆ ---    ┆ ---       ┆ aProportio ┆ ---      │\n",
       "│ str        ┆ str        ┆ f64       ┆ f32       ┆   ┆ i64    ┆ f64       ┆ n          ┆ f64      │\n",
       "│            ┆            ┆           ┆           ┆   ┆        ┆           ┆ ---        ┆          │\n",
       "│            ┆            ┆           ┆           ┆   ┆        ┆           ┆ f64        ┆          │\n",
       "╞════════════╪════════════╪═══════════╪═══════════╪═══╪════════╪═══════════╪════════════╪══════════╡\n",
       "│ 1:693731   ┆ cg23922040 ┆ 0.000007  ┆ -0.356294 ┆ … ┆ 2124   ┆ 0.122957  ┆ 0.000075   ┆ 0.544841 │\n",
       "│ 1:714596   ┆ cg26079250 ┆ 4.7736e-7 ┆ 0.601047  ┆ … ┆ 2124   ┆ 0.0322165 ┆ 0.000024   ┆ 0.272504 │\n",
       "│ 1:715367   ┆ cg26079250 ┆ 4.7736e-7 ┆ 0.601047  ┆ … ┆ 2124   ┆ 0.0347528 ┆ 0.000019   ┆ 0.176551 │\n",
       "│ 1:717485   ┆ cg26079250 ┆ 4.7736e-7 ┆ 0.601047  ┆ … ┆ 2124   ┆ 0.0343883 ┆ 0.000022   ┆ 0.174817 │\n",
       "│ …          ┆ …          ┆ …         ┆ …         ┆ … ┆ …      ┆ …         ┆ …          ┆ …        │\n",
       "│ 22:5122210 ┆ cg13298841 ┆ 0.00001   ┆ -0.39901  ┆ … ┆ 2124   ┆ 0.0514234 ┆ 0.000033   ┆ 0.821168 │\n",
       "│ 0          ┆            ┆           ┆           ┆   ┆        ┆           ┆            ┆          │\n",
       "│ 22:5122980 ┆ cg06064254 ┆ 0.000006  ┆ -0.413968 ┆ … ┆ 2124   ┆ 0.0748171 ┆ 0.000012   ┆ 0.342973 │\n",
       "│ 5          ┆            ┆           ┆           ┆   ┆        ┆           ┆            ┆          │\n",
       "│ 22:5122980 ┆ cg01023769 ┆ 0.000006  ┆ 0.610595  ┆ … ┆ 2124   ┆ 0.0748171 ┆ 0.000012   ┆ 0.342973 │\n",
       "│ 5          ┆            ┆           ┆           ┆   ┆        ┆           ┆            ┆          │\n",
       "│ 22:5122980 ┆ cg16537245 ┆ 0.00001   ┆ -0.593727 ┆ … ┆ 2124   ┆ 0.0748171 ┆ 0.000012   ┆ 0.342973 │\n",
       "│ 5          ┆            ┆           ┆           ┆   ┆        ┆           ┆            ┆          │\n",
       "└────────────┴────────────┴───────────┴───────────┴───┴────────┴───────────┴────────────┴──────────┘"
      ]
     },
     "execution_count": 39,
     "metadata": {},
     "output_type": "execute_result"
    }
   ],
   "source": [
    "# Display the first few rows of the DataFrame to verify the data loading\n",
    "sumstats_perm_trans_mqtl"
   ]
  },
  {
   "cell_type": "markdown",
   "metadata": {},
   "source": [
    "## PGC"
   ]
  },
  {
   "cell_type": "code",
   "execution_count": 40,
   "metadata": {},
   "outputs": [
    {
     "name": "stdout",
     "output_type": "stream",
     "text": [
      "Merging target variants with nominal cis-eQTLs.\n",
      "Sorting the DataFrame by column \"pval_nominal\" in descending order.\n",
      "Showing the first 5 rows of the DataFrame.\n",
      "shape: (2_568, 35)\n",
      "┌──────┬───────┬─────────────┬─────┬───┬────────┬───────────┬───────────────────────┬───────────┐\n",
      "│ RSID ┆ ALTID ┆ VariantID   ┆ Chr ┆ … ┆ TotalN ┆ MAF       ┆ MissingDataProportion ┆ HWE_P     │\n",
      "│ ---  ┆ ---   ┆ ---         ┆ --- ┆   ┆ ---    ┆ ---       ┆ ---                   ┆ ---       │\n",
      "│ str  ┆ str   ┆ str         ┆ i64 ┆   ┆ i64    ┆ f64       ┆ f64                   ┆ f64       │\n",
      "╞══════╪═══════╪═════════════╪═════╪═══╪════════╪═══════════╪═══════════════════════╪═══════════╡\n",
      "│ ---  ┆ ---   ┆ 3:52540773  ┆ 3   ┆ … ┆ 2124   ┆ 0.464328  ┆ 0.00001               ┆ 0.512693  │\n",
      "│ ---  ┆ ---   ┆ 9:114952087 ┆ 9   ┆ … ┆ 2124   ┆ 0.216406  ┆ 0.000007              ┆ 0.898262  │\n",
      "│ ---  ┆ ---   ┆ 17:8068045  ┆ 17  ┆ … ┆ 2124   ┆ 0.353823  ┆ 0.000005              ┆ 0.235288  │\n",
      "│ ---  ┆ ---   ┆ 11:61571348 ┆ 11  ┆ … ┆ 2124   ┆ 0.296173  ┆ 7.0622e-7             ┆ 0.131178  │\n",
      "│ …    ┆ …     ┆ …           ┆ …   ┆ … ┆ …      ┆ …         ┆ …                     ┆ …         │\n",
      "│ ---  ┆ ---   ┆ 6:396321    ┆ 6   ┆ … ┆ 2124   ┆ 0.0914274 ┆ 0.000006              ┆ 0.895356  │\n",
      "│ ---  ┆ ---   ┆ 7:14835477  ┆ 7   ┆ … ┆ 2124   ┆ 0.0306363 ┆ -2.3541e-7            ┆ 1.0       │\n",
      "│ ---  ┆ ---   ┆ 14:38972370 ┆ 14  ┆ … ┆ 2124   ┆ 0.432759  ┆ 0.000014              ┆ 0.0929907 │\n",
      "│ ---  ┆ ---   ┆ 13:80919712 ┆ 13  ┆ … ┆ 2124   ┆ 0.362487  ┆ 0.000006              ┆ 0.887983  │\n",
      "└──────┴───────┴─────────────┴─────┴───┴────────┴───────────┴───────────────────────┴───────────┘\n",
      "Exporting the Polars DataFrame to a CSV file.\n"
     ]
    }
   ],
   "source": [
    "import os\n",
    "import polars as pl\n",
    "import pandas as pd\n",
    "\n",
    "print(\"Merging target variants with nominal cis-eQTLs.\")\n",
    "# Perform the join operation\n",
    "temp = target_variants_pgc.join(\n",
    "    sumstats_perm_trans_mqtl, left_on=\"VariantID\", right_on=\"VariantID\", how=\"inner\"\n",
    ")\n",
    "print('Sorting the DataFrame by column \"pval_nominal\" in descending order.')\n",
    "# Sort the DataFrame by column 'A' in descending order\n",
    "target_variants_pgc_perm_trans_mqtl = temp.sort(\"pval_perm\")\n",
    "del temp\n",
    "\n",
    "print(\"Showing the first 5 rows of the DataFrame.\")\n",
    "# Display the sorted DataFrame in descending order\n",
    "print(target_variants_pgc_perm_trans_mqtl)\n",
    "\n",
    "print(\"Exporting the Polars DataFrame to a CSV file.\")\n",
    "# Export the Polars DataFrame to a CSV file\n",
    "target_variants_pgc_perm_trans_mqtl.write_csv(\n",
    "    os.path.join(molQTL_loc, \"pgc_target_variants_perm_trans_mqtl.csv\")\n",
    ")"
   ]
  },
  {
   "cell_type": "markdown",
   "metadata": {},
   "source": [
    "## Million Hearts"
   ]
  },
  {
   "cell_type": "code",
   "execution_count": 41,
   "metadata": {},
   "outputs": [
    {
     "name": "stdout",
     "output_type": "stream",
     "text": [
      "Merging target variants with nominal cis-eQTLs.\n",
      "Sorting the DataFrame by column \"pval_nominal\" in descending order.\n",
      "Showing the first 5 rows of the DataFrame.\n",
      "shape: (3_096, 46)\n",
      "┌─────────────┬───────────────┬─────┬───────────┬───┬────────┬───────────┬──────────────┬──────────┐\n",
      "│ VariantID   ┆ MarkerName    ┆ CHR ┆ BP        ┆ … ┆ TotalN ┆ MAF       ┆ MissingDataP ┆ HWE_P    │\n",
      "│ ---         ┆ ---           ┆ --- ┆ ---       ┆   ┆ ---    ┆ ---       ┆ roportion    ┆ ---      │\n",
      "│ str         ┆ str           ┆ i64 ┆ i64       ┆   ┆ i64    ┆ f64       ┆ ---          ┆ f64      │\n",
      "│             ┆               ┆     ┆           ┆   ┆        ┆           ┆ f64          ┆          │\n",
      "╞═════════════╪═══════════════╪═════╪═══════════╪═══╪════════╪═══════════╪══════════════╪══════════╡\n",
      "│ 14:75614504 ┆ 14:75614504_A ┆ 14  ┆ 75614504  ┆ … ┆ 2124   ┆ 0.46603   ┆ 0.00002      ┆ 0.930546 │\n",
      "│             ┆ _ACCCG        ┆     ┆           ┆   ┆        ┆           ┆              ┆          │\n",
      "│ 1:109817192 ┆ 1:109817192_A ┆ 1   ┆ 109817192 ┆ … ┆ 2124   ┆ 0.213901  ┆ 0.000004     ┆ 1.0      │\n",
      "│             ┆ _G            ┆     ┆           ┆   ┆        ┆           ┆              ┆          │\n",
      "│ 6:126678331 ┆ 6:126678331_T ┆ 6   ┆ 126678331 ┆ … ┆ 2124   ┆ 0.483814  ┆ 0.000025     ┆ 0.896325 │\n",
      "│             ┆ _TA           ┆     ┆           ┆   ┆        ┆           ┆              ┆          │\n",
      "│ 1:109817590 ┆ 1:109817590_G ┆ 1   ┆ 109817590 ┆ … ┆ 2124   ┆ 0.212286  ┆ 0.000007     ┆ 1.0      │\n",
      "│             ┆ _T            ┆     ┆           ┆   ┆        ┆           ┆              ┆          │\n",
      "│ …           ┆ …             ┆ …   ┆ …         ┆ … ┆ …      ┆ …         ┆ …            ┆ …        │\n",
      "│ 9:13711560  ┆ 9:13711560_A_ ┆ 9   ┆ 13711560  ┆ … ┆ 2124   ┆ 0.349083  ┆ 0.00002      ┆ 0.66726  │\n",
      "│             ┆ G             ┆     ┆           ┆   ┆        ┆           ┆              ┆          │\n",
      "│ 1:205114873 ┆ 1:205114873_C ┆ 1   ┆ 205114873 ┆ … ┆ 2124   ┆ 0.426768  ┆ 0.00001      ┆ 0.131416 │\n",
      "│             ┆ _G            ┆     ┆           ┆   ┆        ┆           ┆              ┆          │\n",
      "│ 22:33296139 ┆ 22:33296139_C ┆ 22  ┆ 33296139  ┆ … ┆ 2124   ┆ 0.0966486 ┆ 0.000001     ┆ 0.70766  │\n",
      "│             ┆ _T            ┆     ┆           ┆   ┆        ┆           ┆              ┆          │\n",
      "│ 1:26847640  ┆ 1:26847640_C_ ┆ 1   ┆ 26847640  ┆ … ┆ 2124   ┆ 0.266018  ┆ -0.000003    ┆ 0.823947 │\n",
      "│             ┆ T             ┆     ┆           ┆   ┆        ┆           ┆              ┆          │\n",
      "└─────────────┴───────────────┴─────┴───────────┴───┴────────┴───────────┴──────────────┴──────────┘\n",
      "Exporting the Polars DataFrame to a CSV file.\n"
     ]
    }
   ],
   "source": [
    "import os\n",
    "import polars as pl\n",
    "import pandas as pd\n",
    "\n",
    "print(\"Merging target variants with nominal cis-eQTLs.\")\n",
    "# Perform the join operation\n",
    "temp = target_variants_millionhearts.join(\n",
    "    sumstats_perm_trans_mqtl, left_on=\"VariantID\", right_on=\"VariantID\", how=\"inner\"\n",
    ")\n",
    "print('Sorting the DataFrame by column \"pval_nominal\" in descending order.')\n",
    "# Sort the DataFrame by column 'A' in descending order\n",
    "target_variants_millionhearts_perm_trans_mqtl = temp.sort(\"pval_perm\")\n",
    "del temp\n",
    "\n",
    "print(\"Showing the first 5 rows of the DataFrame.\")\n",
    "# Display the sorted DataFrame in descending order\n",
    "print(target_variants_millionhearts_perm_trans_mqtl)\n",
    "\n",
    "print(\"Exporting the Polars DataFrame to a CSV file.\")\n",
    "# Export the Polars DataFrame to a CSV file\n",
    "target_variants_millionhearts_perm_trans_mqtl.write_csv(\n",
    "    os.path.join(\n",
    "        molQTL_loc, \"millionhearts_target_variants_perm_trans_mqtl.csv\")\n",
    ")"
   ]
  },
  {
   "cell_type": "markdown",
   "metadata": {},
   "source": [
    "## GIGASTROKE"
   ]
  },
  {
   "cell_type": "code",
   "execution_count": 42,
   "metadata": {},
   "outputs": [
    {
     "name": "stdout",
     "output_type": "stream",
     "text": [
      "Merging target variants with nominal cis-eQTLs.\n",
      "Sorting the DataFrame by column \"pval_nominal\" in descending order.\n",
      "Showing the first 5 rows of the DataFrame.\n",
      "shape: (452, 51)\n",
      "┌───────┬────────────┬──────────────┬─────┬───┬────────┬──────────┬─────────────────────┬──────────┐\n",
      "│ Index ┆ rsID       ┆ VariantID    ┆ Chr ┆ … ┆ TotalN ┆ MAF      ┆ MissingDataProporti ┆ HWE_P    │\n",
      "│ ---   ┆ ---        ┆ ---          ┆ --- ┆   ┆ ---    ┆ ---      ┆ on                  ┆ ---      │\n",
      "│ i64   ┆ str        ┆ str          ┆ i64 ┆   ┆ i64    ┆ f64      ┆ ---                 ┆ f64      │\n",
      "│       ┆            ┆              ┆     ┆   ┆        ┆          ┆ f64                 ┆          │\n",
      "╞═══════╪════════════╪══════════════╪═════╪═══╪════════╪══════════╪═════════════════════╪══════════╡\n",
      "│ 87    ┆ rs4471742  ┆ 17:17877771  ┆ 17  ┆ … ┆ 2124   ┆ 0.341493 ┆ 0.000011            ┆ 0.469488 │\n",
      "│ 88    ┆ rs1788820  ┆ 18:21101944  ┆ 18  ┆ … ┆ 2124   ┆ 0.36816  ┆ 0.000015            ┆ 0.30465  │\n",
      "│ 81    ┆ rs557675   ┆ 11:65566719  ┆ 11  ┆ … ┆ 2124   ┆ 0.43739  ┆ 0.00002             ┆ 0.929708 │\n",
      "│ 67    ┆ rs72811469 ┆ 2:61471018   ┆ 2   ┆ … ┆ 2124   ┆ 0.162643 ┆ 0.000003            ┆ 0.338884 │\n",
      "│ …     ┆ …          ┆ …            ┆ …   ┆ … ┆ …      ┆ …        ┆ …                   ┆ …        │\n",
      "│ 68    ┆ rs17517928 ┆ 2:216291359  ┆ 2   ┆ … ┆ 2124   ┆ 0.252421 ┆ 0.000003            ┆ 0.687115 │\n",
      "│ 33    ┆ rs7859362  ┆ 9:22105927   ┆ 9   ┆ … ┆ 2124   ┆ 0.484251 ┆ 0.000024            ┆ 0.117634 │\n",
      "│ 84    ┆ rs8014986  ┆ 14:100135718 ┆ 14  ┆ … ┆ 2124   ┆ 0.176588 ┆ 0.000005            ┆ 0.369471 │\n",
      "│ 22    ┆ rs56393506 ┆ 6:161089307  ┆ 6   ┆ … ┆ 2124   ┆ 0.190236 ┆ 0.00001             ┆ 0.572645 │\n",
      "└───────┴────────────┴──────────────┴─────┴───┴────────┴──────────┴─────────────────────┴──────────┘\n",
      "Exporting the Polars DataFrame to a CSV file.\n"
     ]
    }
   ],
   "source": [
    "import os\n",
    "import polars as pl\n",
    "import pandas as pd\n",
    "\n",
    "print(\"Merging target variants with nominal cis-eQTLs.\")\n",
    "# Perform the join operation\n",
    "temp = target_variants_gigastroke.join(\n",
    "    sumstats_perm_trans_mqtl, left_on=\"VariantID\", right_on=\"VariantID\", how=\"inner\"\n",
    ")\n",
    "print('Sorting the DataFrame by column \"pval_nominal\" in descending order.')\n",
    "# Sort the DataFrame by column 'A' in descending order\n",
    "target_variants_gigastroke_perm_trans_mqtl = temp.sort(\"pval_perm\")\n",
    "del temp\n",
    "\n",
    "print(\"Showing the first 5 rows of the DataFrame.\")\n",
    "# Display the sorted DataFrame in descending order\n",
    "print(target_variants_gigastroke_perm_trans_mqtl)\n",
    "\n",
    "print(\"Exporting the Polars DataFrame to a CSV file.\")\n",
    "# Export the Polars DataFrame to a CSV file\n",
    "target_variants_gigastroke_perm_trans_mqtl.write_csv(\n",
    "    os.path.join(molQTL_loc, \"gigastroke_target_variants_perm_trans_mqtl.csv\")\n",
    ")"
   ]
  },
  {
   "cell_type": "markdown",
   "metadata": {},
   "source": [
    "## CAC"
   ]
  },
  {
   "cell_type": "code",
   "execution_count": 43,
   "metadata": {},
   "outputs": [
    {
     "name": "stdout",
     "output_type": "stream",
     "text": [
      "Merging target variants with nominal cis-eQTLs.\n",
      "Sorting the DataFrame by column \"pval_nominal\" in descending order.\n",
      "Showing the first 5 rows of the DataFrame.\n",
      "shape: (68, 37)\n",
      "┌────────────┬─────────────┬─────┬───────────┬───┬────────┬───────────┬─────────────────┬──────────┐\n",
      "│ rsID       ┆ VariantID   ┆ Chr ┆ Pos_hg19  ┆ … ┆ TotalN ┆ MAF       ┆ MissingDataProp ┆ HWE_P    │\n",
      "│ ---        ┆ ---         ┆ --- ┆ ---       ┆   ┆ ---    ┆ ---       ┆ ortion          ┆ ---      │\n",
      "│ str        ┆ str         ┆ i64 ┆ i64       ┆   ┆ i64    ┆ f64       ┆ ---             ┆ f64      │\n",
      "│            ┆             ┆     ┆           ┆   ┆        ┆           ┆ f64             ┆          │\n",
      "╞════════════╪═════════════╪═════╪═══════════╪═══╪════════╪═══════════╪═════════════════╪══════════╡\n",
      "│ rs2854746  ┆ 7:45960645  ┆ 7   ┆ 45960645  ┆ … ┆ 2124   ┆ 0.39495   ┆ 0.000009        ┆ 0.413688 │\n",
      "│ rs7182103  ┆ 15:79123946 ┆ 15  ┆ 79123946  ┆ … ┆ 2124   ┆ 0.418275  ┆ 0.000005        ┆ 0.12942  │\n",
      "│ rs7182103  ┆ 15:79123946 ┆ 15  ┆ 79123946  ┆ … ┆ 2124   ┆ 0.418275  ┆ 0.000005        ┆ 0.12942  │\n",
      "│ rs7182103  ┆ 15:79123946 ┆ 15  ┆ 79123946  ┆ … ┆ 2124   ┆ 0.418275  ┆ 0.000005        ┆ 0.12942  │\n",
      "│ …          ┆ …           ┆ …   ┆ …         ┆ … ┆ …      ┆ …         ┆ …               ┆ …        │\n",
      "│ rs72652478 ┆ 9:22102043  ┆ 9   ┆ 22102043  ┆ … ┆ 2124   ┆ 0.0324051 ┆ 0.000003        ┆ 1.0      │\n",
      "│ rs3844006  ┆ 6:132095002 ┆ 6   ┆ 132095002 ┆ … ┆ 2124   ┆ 0.208066  ┆ 7.0622e-7       ┆ 0.509857 │\n",
      "│ rs3844006  ┆ 6:132095002 ┆ 6   ┆ 132095002 ┆ … ┆ 2124   ┆ 0.208066  ┆ 7.0622e-7       ┆ 0.509857 │\n",
      "│ rs62555371 ┆ 9:22107238  ┆ 9   ┆ 22107238  ┆ … ┆ 2124   ┆ 0.134471  ┆ 0.000005        ┆ 0.351723 │\n",
      "└────────────┴─────────────┴─────┴───────────┴───┴────────┴───────────┴─────────────────┴──────────┘\n",
      "Exporting the Polars DataFrame to a CSV file.\n"
     ]
    }
   ],
   "source": [
    "import os\n",
    "import polars as pl\n",
    "import pandas as pd\n",
    "\n",
    "print(\"Merging target variants with nominal cis-eQTLs.\")\n",
    "# Perform the join operation\n",
    "temp = target_variants_cac.join(\n",
    "    sumstats_perm_trans_mqtl, left_on=\"VariantID\", right_on=\"VariantID\", how=\"inner\"\n",
    ")\n",
    "print('Sorting the DataFrame by column \"pval_nominal\" in descending order.')\n",
    "# Sort the DataFrame by column 'A' in descending order\n",
    "target_variants_cac_perm_trans_mqtl = temp.sort(\"pval_perm\")\n",
    "del temp\n",
    "\n",
    "print(\"Showing the first 5 rows of the DataFrame.\")\n",
    "# Display the sorted DataFrame in descending order\n",
    "print(target_variants_cac_perm_trans_mqtl)\n",
    "\n",
    "print(\"Exporting the Polars DataFrame to a CSV file.\")\n",
    "# Export the Polars DataFrame to a CSV file\n",
    "target_variants_cac_perm_trans_mqtl.write_csv(\n",
    "    os.path.join(molQTL_loc, \"cac_target_variants_perm_trans_mqtl.csv\")\n",
    ")"
   ]
  },
  {
   "cell_type": "markdown",
   "metadata": {},
   "source": [
    "## CIMT"
   ]
  },
  {
   "cell_type": "code",
   "execution_count": 44,
   "metadata": {},
   "outputs": [
    {
     "name": "stdout",
     "output_type": "stream",
     "text": [
      "Merging target variants with nominal cis-eQTLs.\n",
      "Sorting the DataFrame by column \"pval_nominal\" in descending order.\n",
      "Showing the first 5 rows of the DataFrame.\n",
      "shape: (400, 38)\n",
      "┌─────────────┬─────────────┬─────┬───────────┬───┬────────┬──────────┬─────────────────┬──────────┐\n",
      "│ RSID        ┆ VariantID   ┆ CHR ┆ BP        ┆ … ┆ TotalN ┆ MAF      ┆ MissingDataProp ┆ HWE_P    │\n",
      "│ ---         ┆ ---         ┆ --- ┆ ---       ┆   ┆ ---    ┆ ---      ┆ ortion          ┆ ---      │\n",
      "│ str         ┆ str         ┆ i64 ┆ i64       ┆   ┆ i64    ┆ f64      ┆ ---             ┆ f64      │\n",
      "│             ┆             ┆     ┆           ┆   ┆        ┆          ┆ f64             ┆          │\n",
      "╞═════════════╪═════════════╪═════╪═══════════╪═══╪════════╪══════════╪═════════════════╪══════════╡\n",
      "│ rs113309773 ┆ 16:75432686 ┆ 16  ┆ 75432686  ┆ … ┆ 2124   ┆ 0.371528 ┆ 0.000016        ┆ 0.74495  │\n",
      "│ rs13225723  ┆ 7:106416467 ┆ 7   ┆ 106416467 ┆ … ┆ 2124   ┆ 0.223969 ┆ 0.000008        ┆ 0.573563 │\n",
      "│ rs17477177  ┆ 7:106411858 ┆ 7   ┆ 106411858 ┆ … ┆ 2124   ┆ 0.221096 ┆ 0.000004        ┆ 0.528212 │\n",
      "│ rs2912063   ┆ 8:6486033   ┆ 8   ┆ 6486033   ┆ … ┆ 2124   ┆ 0.299515 ┆ 0.000007        ┆ 0.501124 │\n",
      "│ …           ┆ …           ┆ …   ┆ …         ┆ … ┆ …      ┆ …        ┆ …               ┆ …        │\n",
      "│ rs17477177  ┆ 7:106411858 ┆ 7   ┆ 106411858 ┆ … ┆ 2124   ┆ 0.221096 ┆ 0.000004        ┆ 0.528212 │\n",
      "│ rs13225723  ┆ 7:106416467 ┆ 7   ┆ 106416467 ┆ … ┆ 2124   ┆ 0.223969 ┆ 0.000008        ┆ 0.573563 │\n",
      "│ rs113309773 ┆ 16:75432686 ┆ 16  ┆ 75432686  ┆ … ┆ 2124   ┆ 0.371528 ┆ 0.000016        ┆ 0.74495  │\n",
      "│ rs13225723  ┆ 7:106416467 ┆ 7   ┆ 106416467 ┆ … ┆ 2124   ┆ 0.223969 ┆ 0.000008        ┆ 0.573563 │\n",
      "└─────────────┴─────────────┴─────┴───────────┴───┴────────┴──────────┴─────────────────┴──────────┘\n",
      "Exporting the Polars DataFrame to a CSV file.\n"
     ]
    }
   ],
   "source": [
    "import os\n",
    "import polars as pl\n",
    "import pandas as pd\n",
    "\n",
    "print(\"Merging target variants with nominal cis-eQTLs.\")\n",
    "# Perform the join operation\n",
    "temp = target_variants_cimt.join(\n",
    "    sumstats_perm_trans_mqtl, left_on=\"VariantID\", right_on=\"VariantID\", how=\"inner\"\n",
    ")\n",
    "print('Sorting the DataFrame by column \"pval_nominal\" in descending order.')\n",
    "# Sort the DataFrame by column 'A' in descending order\n",
    "target_variants_cimt_perm_trans_mqtl = temp.sort(\"pval_perm\")\n",
    "del temp\n",
    "\n",
    "print(\"Showing the first 5 rows of the DataFrame.\")\n",
    "# Display the sorted DataFrame in descending order\n",
    "print(target_variants_cimt_perm_trans_mqtl)\n",
    "\n",
    "print(\"Exporting the Polars DataFrame to a CSV file.\")\n",
    "# Export the Polars DataFrame to a CSV file\n",
    "target_variants_cimt_perm_trans_mqtl.write_csv(\n",
    "    os.path.join(molQTL_loc, \"cimt_target_variants_perm_trans_mqtl.csv\")\n",
    ")"
   ]
  },
  {
   "cell_type": "code",
   "execution_count": 45,
   "metadata": {},
   "outputs": [],
   "source": [
    "del sumstats_perm_trans_mqtl"
   ]
  }
 ],
 "metadata": {
  "kernelspec": {
   "display_name": "gwas",
   "language": "python",
   "name": "python3"
  },
  "language_info": {
   "codemirror_mode": {
    "name": "ipython",
    "version": 3
   },
   "file_extension": ".py",
   "mimetype": "text/x-python",
   "name": "python",
   "nbconvert_exporter": "python",
   "pygments_lexer": "ipython3",
   "version": "3.8.17"
  },
  "orig_nbformat": 4
 },
 "nbformat": 4,
 "nbformat_minor": 2
}
